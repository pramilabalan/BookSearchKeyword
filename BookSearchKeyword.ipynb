{
 "cells": [
  {
   "cell_type": "code",
   "execution_count": null,
   "metadata": {
    "id": "cE5FkmgMDWqW"
   },
   "outputs": [],
   "source": []
  },
  {
   "cell_type": "markdown",
   "metadata": {
    "id": "eAwrtXGCDXAG"
   },
   "source": [
    "# Introduction"
   ]
  },
  {
   "cell_type": "markdown",
   "metadata": {
    "id": "E2DNWZzVDdTA"
   },
   "source": [
    "**Build a prototype system that assigns keywords to our books:**\n",
    "\n",
    "Using the list of search queries and the book metadata, build a model that picks the most\n",
    "relevant search queries for each book, to be used as keywords. The search queries\n",
    "assigned to each book should be relevant to the themes and genres of the book as\n",
    "described in the metadata."
   ]
  },
  {
   "cell_type": "markdown",
   "metadata": {
    "id": "fSkPT306EpxU"
   },
   "source": [
    "*Breaking this down: There is no target variable (ground truth), hence this is going to be unsupervised learning (on the lines of a recommendation engine). The prototype should use genre*."
   ]
  },
  {
   "cell_type": "code",
   "execution_count": 175,
   "metadata": {
    "id": "vl6A2VBeDVof"
   },
   "outputs": [
    {
     "name": "stdout",
     "output_type": "stream",
     "text": [
      "huggingface/tokenizers: The current process just got forked, after parallelism has already been used. Disabling parallelism to avoid deadlocks...\n",
      "To disable this warning, you can either:\n",
      "\t- Avoid using `tokenizers` before the fork if possible\n",
      "\t- Explicitly set the environment variable TOKENIZERS_PARALLELISM=(true | false)\n",
      "Requirement already satisfied: pandas in /opt/homebrew/Cellar/jupyterlab/4.0.6/libexec/lib/python3.11/site-packages (2.1.1)\n",
      "Requirement already satisfied: numpy>=1.23.2 in /opt/homebrew/Cellar/jupyterlab/4.0.6/libexec/lib/python3.11/site-packages (from pandas) (1.26.0)\n",
      "Requirement already satisfied: python-dateutil>=2.8.2 in /opt/homebrew/Cellar/jupyterlab/4.0.6/libexec/lib/python3.11/site-packages (from pandas) (2.8.2)\n",
      "Requirement already satisfied: pytz>=2020.1 in /opt/homebrew/Cellar/jupyterlab/4.0.6/libexec/lib/python3.11/site-packages (from pandas) (2023.3.post1)\n",
      "Requirement already satisfied: tzdata>=2022.1 in /opt/homebrew/Cellar/jupyterlab/4.0.6/libexec/lib/python3.11/site-packages (from pandas) (2023.3)\n",
      "Requirement already satisfied: six>=1.5 in /opt/homebrew/opt/six/lib/python3.11/site-packages (from python-dateutil>=2.8.2->pandas) (1.16.0)\n",
      "Note: you may need to restart the kernel to use updated packages.\n"
     ]
    }
   ],
   "source": [
    "pip install pandas"
   ]
  },
  {
   "cell_type": "code",
   "execution_count": 176,
   "metadata": {},
   "outputs": [
    {
     "name": "stdout",
     "output_type": "stream",
     "text": [
      "huggingface/tokenizers: The current process just got forked, after parallelism has already been used. Disabling parallelism to avoid deadlocks...\n",
      "To disable this warning, you can either:\n",
      "\t- Avoid using `tokenizers` before the fork if possible\n",
      "\t- Explicitly set the environment variable TOKENIZERS_PARALLELISM=(true | false)\n",
      "Requirement already satisfied: nltk in /opt/homebrew/Cellar/jupyterlab/4.0.6/libexec/lib/python3.11/site-packages (3.8.1)\n",
      "Requirement already satisfied: click in /opt/homebrew/Cellar/jupyterlab/4.0.6/libexec/lib/python3.11/site-packages (from nltk) (8.1.7)\n",
      "Requirement already satisfied: joblib in /opt/homebrew/Cellar/jupyterlab/4.0.6/libexec/lib/python3.11/site-packages (from nltk) (1.3.2)\n",
      "Requirement already satisfied: regex>=2021.8.3 in /opt/homebrew/Cellar/jupyterlab/4.0.6/libexec/lib/python3.11/site-packages (from nltk) (2023.8.8)\n",
      "Requirement already satisfied: tqdm in /opt/homebrew/Cellar/jupyterlab/4.0.6/libexec/lib/python3.11/site-packages (from nltk) (4.66.1)\n",
      "Note: you may need to restart the kernel to use updated packages.\n"
     ]
    }
   ],
   "source": [
    "pip install nltk"
   ]
  },
  {
   "cell_type": "code",
   "execution_count": 177,
   "metadata": {},
   "outputs": [
    {
     "name": "stdout",
     "output_type": "stream",
     "text": [
      "huggingface/tokenizers: The current process just got forked, after parallelism has already been used. Disabling parallelism to avoid deadlocks...\n",
      "To disable this warning, you can either:\n",
      "\t- Avoid using `tokenizers` before the fork if possible\n",
      "\t- Explicitly set the environment variable TOKENIZERS_PARALLELISM=(true | false)\n",
      "Requirement already satisfied: scikit-learn in /opt/homebrew/Cellar/jupyterlab/4.0.6/libexec/lib/python3.11/site-packages (1.3.1)\n",
      "Requirement already satisfied: numpy<2.0,>=1.17.3 in /opt/homebrew/Cellar/jupyterlab/4.0.6/libexec/lib/python3.11/site-packages (from scikit-learn) (1.26.0)\n",
      "Requirement already satisfied: scipy>=1.5.0 in /opt/homebrew/Cellar/jupyterlab/4.0.6/libexec/lib/python3.11/site-packages (from scikit-learn) (1.11.2)\n",
      "Requirement already satisfied: joblib>=1.1.1 in /opt/homebrew/Cellar/jupyterlab/4.0.6/libexec/lib/python3.11/site-packages (from scikit-learn) (1.3.2)\n",
      "Requirement already satisfied: threadpoolctl>=2.0.0 in /opt/homebrew/Cellar/jupyterlab/4.0.6/libexec/lib/python3.11/site-packages (from scikit-learn) (3.2.0)\n",
      "Note: you may need to restart the kernel to use updated packages.\n"
     ]
    }
   ],
   "source": [
    "pip install scikit-learn"
   ]
  },
  {
   "cell_type": "code",
   "execution_count": 178,
   "metadata": {},
   "outputs": [
    {
     "name": "stdout",
     "output_type": "stream",
     "text": [
      "huggingface/tokenizers: The current process just got forked, after parallelism has already been used. Disabling parallelism to avoid deadlocks...\n",
      "To disable this warning, you can either:\n",
      "\t- Avoid using `tokenizers` before the fork if possible\n",
      "\t- Explicitly set the environment variable TOKENIZERS_PARALLELISM=(true | false)\n",
      "Requirement already satisfied: numpy in /opt/homebrew/Cellar/jupyterlab/4.0.6/libexec/lib/python3.11/site-packages (1.26.0)\n",
      "Note: you may need to restart the kernel to use updated packages.\n"
     ]
    }
   ],
   "source": [
    "pip install numpy"
   ]
  },
  {
   "cell_type": "markdown",
   "metadata": {
    "id": "Q5lHiJpwm3Kw"
   },
   "source": [
    "# Imports"
   ]
  },
  {
   "cell_type": "code",
   "execution_count": 179,
   "metadata": {
    "colab": {
     "base_uri": "https://localhost:8080/"
    },
    "id": "HonOBBXR-afR",
    "outputId": "8f1dcf3f-8f03-45eb-bd2f-fbf97b7e58ec"
   },
   "outputs": [
    {
     "name": "stderr",
     "output_type": "stream",
     "text": [
      "[nltk_data] Downloading package stopwords to\n",
      "[nltk_data]     /Users/pramilabalan/nltk_data...\n",
      "[nltk_data]   Package stopwords is already up-to-date!\n",
      "[nltk_data] Downloading package punkt to\n",
      "[nltk_data]     /Users/pramilabalan/nltk_data...\n",
      "[nltk_data]   Package punkt is already up-to-date!\n",
      "[nltk_data] Downloading package averaged_perceptron_tagger to\n",
      "[nltk_data]     /Users/pramilabalan/nltk_data...\n",
      "[nltk_data]   Package averaged_perceptron_tagger is already up-to-\n",
      "[nltk_data]       date!\n",
      "[nltk_data] Downloading package wordnet to\n",
      "[nltk_data]     /Users/pramilabalan/nltk_data...\n",
      "[nltk_data]   Package wordnet is already up-to-date!\n"
     ]
    }
   ],
   "source": [
    "import pandas as pd, numpy as np\n",
    "# import seaborn as sns, matplotlib.pyplot as plt\n",
    "import nltk\n",
    "nltk.download('stopwords')\n",
    "nltk.download('punkt')\n",
    "import re, string\n",
    "from nltk.corpus import stopwords\n",
    "from nltk.tokenize import word_tokenize\n",
    "\n",
    "from nltk.stem import WordNetLemmatizer\n",
    "nltk.download('averaged_perceptron_tagger')\n",
    "from nltk.corpus import wordnet\n",
    "nltk.download('wordnet')\n",
    "\n",
    "from sklearn.feature_extraction.text import TfidfVectorizer\n",
    "from sklearn.metrics.pairwise import cosine_similarity"
   ]
  },
  {
   "cell_type": "markdown",
   "metadata": {
    "id": "bT86R2rfAE4F"
   },
   "source": [
    "# Reading Files"
   ]
  },
  {
   "cell_type": "code",
   "execution_count": 180,
   "metadata": {
    "id": "tatlxrzvm2xd"
   },
   "outputs": [],
   "source": [
    "metadata_df =  pd.read_csv('title_metadata.csv')"
   ]
  },
  {
   "cell_type": "code",
   "execution_count": 181,
   "metadata": {
    "id": "mAycl5aqnRqe"
   },
   "outputs": [],
   "source": [
    "keywords_df = pd.read_csv('search_terms.csv')"
   ]
  },
  {
   "cell_type": "code",
   "execution_count": 182,
   "metadata": {
    "colab": {
     "base_uri": "https://localhost:8080/"
    },
    "id": "rGAbFceonWIZ",
    "outputId": "afc0b522-8332-4b2c-887c-a8241bbf9107"
   },
   "outputs": [
    {
     "data": {
      "text/plain": [
       "(500, 6)"
      ]
     },
     "execution_count": 182,
     "metadata": {},
     "output_type": "execute_result"
    }
   ],
   "source": [
    "metadata_df.shape"
   ]
  },
  {
   "cell_type": "code",
   "execution_count": 183,
   "metadata": {
    "colab": {
     "base_uri": "https://localhost:8080/",
     "height": 293
    },
    "id": "oJhZivt3nhyH",
    "outputId": "6c64d248-61e8-4f3f-bb8b-4c63e7e510df"
   },
   "outputs": [
    {
     "data": {
      "text/html": [
       "<div>\n",
       "<style scoped>\n",
       "    .dataframe tbody tr th:only-of-type {\n",
       "        vertical-align: middle;\n",
       "    }\n",
       "\n",
       "    .dataframe tbody tr th {\n",
       "        vertical-align: top;\n",
       "    }\n",
       "\n",
       "    .dataframe thead th {\n",
       "        text-align: right;\n",
       "    }\n",
       "</style>\n",
       "<table border=\"1\" class=\"dataframe\">\n",
       "  <thead>\n",
       "    <tr style=\"text-align: right;\">\n",
       "      <th></th>\n",
       "      <th>id</th>\n",
       "      <th>title</th>\n",
       "      <th>description</th>\n",
       "      <th>fiction_flag</th>\n",
       "      <th>thema_codes</th>\n",
       "      <th>thema_descriptions</th>\n",
       "    </tr>\n",
       "  </thead>\n",
       "  <tbody>\n",
       "    <tr>\n",
       "      <th>0</th>\n",
       "      <td>0</td>\n",
       "      <td>How to Wean Your Baby</td>\n",
       "      <td>&lt;b&gt;THE &lt;i&gt;SUNDAY TIMES &lt;/i&gt;BESTSELLER&lt;/b&gt;\\r\\n&lt;...</td>\n",
       "      <td>non-fiction</td>\n",
       "      <td>['VFX', 'WBH', 'VF', 'VS']</td>\n",
       "      <td>['Parenting: advice and issues', 'Health and w...</td>\n",
       "    </tr>\n",
       "    <tr>\n",
       "      <th>1</th>\n",
       "      <td>1</td>\n",
       "      <td>Horse Under Water</td>\n",
       "      <td>A sunken U-Boat has lain undisturbed on the At...</td>\n",
       "      <td>fiction</td>\n",
       "      <td>['FHD', 'FV', 'FJ', '1DSP-PT-P']</td>\n",
       "      <td>['Espionage and spy thriller', 'Historical fic...</td>\n",
       "    </tr>\n",
       "    <tr>\n",
       "      <th>2</th>\n",
       "      <td>2</td>\n",
       "      <td>Lives of Girls and Women</td>\n",
       "      <td>&lt;b&gt;The only novel from bestselling author Alic...</td>\n",
       "      <td>fiction</td>\n",
       "      <td>['FBA', 'FC', 'FXB', '1KBC-CA-O']</td>\n",
       "      <td>['Modern and contemporary fiction: general and...</td>\n",
       "    </tr>\n",
       "    <tr>\n",
       "      <th>3</th>\n",
       "      <td>3</td>\n",
       "      <td>The Precipice</td>\n",
       "      <td>In this powerful collection of interviews, Noa...</td>\n",
       "      <td>non-fiction</td>\n",
       "      <td>['JPB', 'QDTS', 'JPF', 'KCS', 'DNP', 'RNT']</td>\n",
       "      <td>['Comparative politics', 'Social and political...</td>\n",
       "    </tr>\n",
       "    <tr>\n",
       "      <th>4</th>\n",
       "      <td>4</td>\n",
       "      <td>Little Wins</td>\n",
       "      <td>There are some 400 million people worldwide wh...</td>\n",
       "      <td>non-fiction</td>\n",
       "      <td>['KJH', 'KJMB', 'KJW', 'VSC', 'VSPM', 'JMC']</td>\n",
       "      <td>['Entrepreneurship / Start-ups', 'Management: ...</td>\n",
       "    </tr>\n",
       "  </tbody>\n",
       "</table>\n",
       "</div>"
      ],
      "text/plain": [
       "   id                     title  \\\n",
       "0   0     How to Wean Your Baby   \n",
       "1   1         Horse Under Water   \n",
       "2   2  Lives of Girls and Women   \n",
       "3   3             The Precipice   \n",
       "4   4               Little Wins   \n",
       "\n",
       "                                         description fiction_flag  \\\n",
       "0  <b>THE <i>SUNDAY TIMES </i>BESTSELLER</b>\\r\\n<...  non-fiction   \n",
       "1  A sunken U-Boat has lain undisturbed on the At...      fiction   \n",
       "2  <b>The only novel from bestselling author Alic...      fiction   \n",
       "3  In this powerful collection of interviews, Noa...  non-fiction   \n",
       "4  There are some 400 million people worldwide wh...  non-fiction   \n",
       "\n",
       "                                    thema_codes  \\\n",
       "0                    ['VFX', 'WBH', 'VF', 'VS']   \n",
       "1              ['FHD', 'FV', 'FJ', '1DSP-PT-P']   \n",
       "2             ['FBA', 'FC', 'FXB', '1KBC-CA-O']   \n",
       "3   ['JPB', 'QDTS', 'JPF', 'KCS', 'DNP', 'RNT']   \n",
       "4  ['KJH', 'KJMB', 'KJW', 'VSC', 'VSPM', 'JMC']   \n",
       "\n",
       "                                  thema_descriptions  \n",
       "0  ['Parenting: advice and issues', 'Health and w...  \n",
       "1  ['Espionage and spy thriller', 'Historical fic...  \n",
       "2  ['Modern and contemporary fiction: general and...  \n",
       "3  ['Comparative politics', 'Social and political...  \n",
       "4  ['Entrepreneurship / Start-ups', 'Management: ...  "
      ]
     },
     "execution_count": 183,
     "metadata": {},
     "output_type": "execute_result"
    }
   ],
   "source": [
    "metadata_df.head()"
   ]
  },
  {
   "cell_type": "code",
   "execution_count": 184,
   "metadata": {
    "colab": {
     "base_uri": "https://localhost:8080/",
     "height": 345
    },
    "id": "_GawNIvvnkTC",
    "outputId": "734e6a94-9791-4744-b732-d40bab8d60be"
   },
   "outputs": [
    {
     "data": {
      "text/html": [
       "<div>\n",
       "<style scoped>\n",
       "    .dataframe tbody tr th:only-of-type {\n",
       "        vertical-align: middle;\n",
       "    }\n",
       "\n",
       "    .dataframe tbody tr th {\n",
       "        vertical-align: top;\n",
       "    }\n",
       "\n",
       "    .dataframe thead th {\n",
       "        text-align: right;\n",
       "    }\n",
       "</style>\n",
       "<table border=\"1\" class=\"dataframe\">\n",
       "  <thead>\n",
       "    <tr style=\"text-align: right;\">\n",
       "      <th></th>\n",
       "      <th>id</th>\n",
       "      <th>title</th>\n",
       "      <th>description</th>\n",
       "      <th>fiction_flag</th>\n",
       "      <th>thema_codes</th>\n",
       "      <th>thema_descriptions</th>\n",
       "    </tr>\n",
       "  </thead>\n",
       "  <tbody>\n",
       "    <tr>\n",
       "      <th>495</th>\n",
       "      <td>495</td>\n",
       "      <td>The Frank Family That Survived</td>\n",
       "      <td>'A major contribution to our understanding of ...</td>\n",
       "      <td>non-fiction</td>\n",
       "      <td>['NHTZ1', 'DNBH', 'NHWR7', 'JBFG', '3MPBLB']</td>\n",
       "      <td>['The Holocaust', 'Biography: historical, poli...</td>\n",
       "    </tr>\n",
       "    <tr>\n",
       "      <th>496</th>\n",
       "      <td>496</td>\n",
       "      <td>V.</td>\n",
       "      <td>&lt;b&gt;The first novel from the great, incomparabl...</td>\n",
       "      <td>fiction</td>\n",
       "      <td>['FBA', '1KBB-US-NAKC', '3MPQM']</td>\n",
       "      <td>['Modern and contemporary fiction: general and...</td>\n",
       "    </tr>\n",
       "    <tr>\n",
       "      <th>497</th>\n",
       "      <td>497</td>\n",
       "      <td>Business or Pleasure</td>\n",
       "      <td>&lt;b&gt;When Chandler Cohen accepts her next ghostw...</td>\n",
       "      <td>fiction</td>\n",
       "      <td>['FRD', 'FU', 'FQ', 'FXD']</td>\n",
       "      <td>['Modern and Contemporary romance', 'Humorous ...</td>\n",
       "    </tr>\n",
       "    <tr>\n",
       "      <th>498</th>\n",
       "      <td>498</td>\n",
       "      <td>The Dinner Guest</td>\n",
       "      <td>&lt;b&gt;LONGLISTED FOR THE 2018 MAN BOOKER INTERNAT...</td>\n",
       "      <td>fiction</td>\n",
       "      <td>['FBA', 'FYT', 'FXL', 'FS', '1DSE']</td>\n",
       "      <td>['Modern and contemporary fiction: general and...</td>\n",
       "    </tr>\n",
       "    <tr>\n",
       "      <th>499</th>\n",
       "      <td>499</td>\n",
       "      <td>The Sanatorium</td>\n",
       "      <td>&lt;b&gt;'&lt;i&gt;The Sanatorium &lt;/i&gt;will keep you checki...</td>\n",
       "      <td>fiction</td>\n",
       "      <td>['FF', 'FHX', 'FFP', 'FFS', 'FXR', 'FXL', '1DF...</td>\n",
       "      <td>['Crime and mystery fiction', 'Psychological t...</td>\n",
       "    </tr>\n",
       "  </tbody>\n",
       "</table>\n",
       "</div>"
      ],
      "text/plain": [
       "      id                           title  \\\n",
       "495  495  The Frank Family That Survived   \n",
       "496  496                              V.   \n",
       "497  497            Business or Pleasure   \n",
       "498  498                The Dinner Guest   \n",
       "499  499                  The Sanatorium   \n",
       "\n",
       "                                           description fiction_flag  \\\n",
       "495  'A major contribution to our understanding of ...  non-fiction   \n",
       "496  <b>The first novel from the great, incomparabl...      fiction   \n",
       "497  <b>When Chandler Cohen accepts her next ghostw...      fiction   \n",
       "498  <b>LONGLISTED FOR THE 2018 MAN BOOKER INTERNAT...      fiction   \n",
       "499  <b>'<i>The Sanatorium </i>will keep you checki...      fiction   \n",
       "\n",
       "                                           thema_codes  \\\n",
       "495       ['NHTZ1', 'DNBH', 'NHWR7', 'JBFG', '3MPBLB']   \n",
       "496                   ['FBA', '1KBB-US-NAKC', '3MPQM']   \n",
       "497                         ['FRD', 'FU', 'FQ', 'FXD']   \n",
       "498                ['FBA', 'FYT', 'FXL', 'FS', '1DSE']   \n",
       "499  ['FF', 'FHX', 'FFP', 'FFS', 'FXR', 'FXL', '1DF...   \n",
       "\n",
       "                                    thema_descriptions  \n",
       "495  ['The Holocaust', 'Biography: historical, poli...  \n",
       "496  ['Modern and contemporary fiction: general and...  \n",
       "497  ['Modern and Contemporary romance', 'Humorous ...  \n",
       "498  ['Modern and contemporary fiction: general and...  \n",
       "499  ['Crime and mystery fiction', 'Psychological t...  "
      ]
     },
     "execution_count": 184,
     "metadata": {},
     "output_type": "execute_result"
    }
   ],
   "source": [
    "metadata_df.tail()"
   ]
  },
  {
   "cell_type": "code",
   "execution_count": 185,
   "metadata": {
    "colab": {
     "base_uri": "https://localhost:8080/"
    },
    "id": "h1p5CgI4nlhj",
    "outputId": "11fd58b5-7fab-4f31-bb28-6b099895a025"
   },
   "outputs": [
    {
     "name": "stdout",
     "output_type": "stream",
     "text": [
      "<class 'pandas.core.frame.DataFrame'>\n",
      "RangeIndex: 500 entries, 0 to 499\n",
      "Data columns (total 6 columns):\n",
      " #   Column              Non-Null Count  Dtype \n",
      "---  ------              --------------  ----- \n",
      " 0   id                  500 non-null    int64 \n",
      " 1   title               500 non-null    object\n",
      " 2   description         497 non-null    object\n",
      " 3   fiction_flag        500 non-null    object\n",
      " 4   thema_codes         500 non-null    object\n",
      " 5   thema_descriptions  500 non-null    object\n",
      "dtypes: int64(1), object(5)\n",
      "memory usage: 23.6+ KB\n"
     ]
    }
   ],
   "source": [
    "metadata_df.info()"
   ]
  },
  {
   "cell_type": "code",
   "execution_count": 186,
   "metadata": {
    "colab": {
     "base_uri": "https://localhost:8080/",
     "height": 300
    },
    "id": "GyxRedxhnnmX",
    "outputId": "8ae68f0b-76fe-4fa2-b234-27f920f746c5"
   },
   "outputs": [
    {
     "data": {
      "text/html": [
       "<div>\n",
       "<style scoped>\n",
       "    .dataframe tbody tr th:only-of-type {\n",
       "        vertical-align: middle;\n",
       "    }\n",
       "\n",
       "    .dataframe tbody tr th {\n",
       "        vertical-align: top;\n",
       "    }\n",
       "\n",
       "    .dataframe thead th {\n",
       "        text-align: right;\n",
       "    }\n",
       "</style>\n",
       "<table border=\"1\" class=\"dataframe\">\n",
       "  <thead>\n",
       "    <tr style=\"text-align: right;\">\n",
       "      <th></th>\n",
       "      <th>id</th>\n",
       "    </tr>\n",
       "  </thead>\n",
       "  <tbody>\n",
       "    <tr>\n",
       "      <th>count</th>\n",
       "      <td>500.000000</td>\n",
       "    </tr>\n",
       "    <tr>\n",
       "      <th>mean</th>\n",
       "      <td>249.500000</td>\n",
       "    </tr>\n",
       "    <tr>\n",
       "      <th>std</th>\n",
       "      <td>144.481833</td>\n",
       "    </tr>\n",
       "    <tr>\n",
       "      <th>min</th>\n",
       "      <td>0.000000</td>\n",
       "    </tr>\n",
       "    <tr>\n",
       "      <th>25%</th>\n",
       "      <td>124.750000</td>\n",
       "    </tr>\n",
       "    <tr>\n",
       "      <th>50%</th>\n",
       "      <td>249.500000</td>\n",
       "    </tr>\n",
       "    <tr>\n",
       "      <th>75%</th>\n",
       "      <td>374.250000</td>\n",
       "    </tr>\n",
       "    <tr>\n",
       "      <th>max</th>\n",
       "      <td>499.000000</td>\n",
       "    </tr>\n",
       "  </tbody>\n",
       "</table>\n",
       "</div>"
      ],
      "text/plain": [
       "               id\n",
       "count  500.000000\n",
       "mean   249.500000\n",
       "std    144.481833\n",
       "min      0.000000\n",
       "25%    124.750000\n",
       "50%    249.500000\n",
       "75%    374.250000\n",
       "max    499.000000"
      ]
     },
     "execution_count": 186,
     "metadata": {},
     "output_type": "execute_result"
    }
   ],
   "source": [
    "metadata_df.describe()"
   ]
  },
  {
   "cell_type": "code",
   "execution_count": 187,
   "metadata": {
    "colab": {
     "base_uri": "https://localhost:8080/"
    },
    "id": "gK_E7Ck0npNG",
    "outputId": "2afaf455-479b-4a22-ca95-ff8cd2d6f43e"
   },
   "outputs": [
    {
     "data": {
      "text/plain": [
       "(76707, 1)"
      ]
     },
     "execution_count": 187,
     "metadata": {},
     "output_type": "execute_result"
    }
   ],
   "source": [
    "keywords_df.shape"
   ]
  },
  {
   "cell_type": "code",
   "execution_count": 188,
   "metadata": {
    "colab": {
     "base_uri": "https://localhost:8080/",
     "height": 206
    },
    "id": "Hx940DFKn7Q9",
    "outputId": "d3f36053-064d-4258-d486-04381c028722"
   },
   "outputs": [
    {
     "data": {
      "text/html": [
       "<div>\n",
       "<style scoped>\n",
       "    .dataframe tbody tr th:only-of-type {\n",
       "        vertical-align: middle;\n",
       "    }\n",
       "\n",
       "    .dataframe tbody tr th {\n",
       "        vertical-align: top;\n",
       "    }\n",
       "\n",
       "    .dataframe thead th {\n",
       "        text-align: right;\n",
       "    }\n",
       "</style>\n",
       "<table border=\"1\" class=\"dataframe\">\n",
       "  <thead>\n",
       "    <tr style=\"text-align: right;\">\n",
       "      <th></th>\n",
       "      <th>search_term</th>\n",
       "    </tr>\n",
       "  </thead>\n",
       "  <tbody>\n",
       "    <tr>\n",
       "      <th>0</th>\n",
       "      <td>winter killer</td>\n",
       "    </tr>\n",
       "    <tr>\n",
       "      <th>1</th>\n",
       "      <td>heat magazine uk</td>\n",
       "    </tr>\n",
       "    <tr>\n",
       "      <th>2</th>\n",
       "      <td>josie russell</td>\n",
       "    </tr>\n",
       "    <tr>\n",
       "      <th>3</th>\n",
       "      <td>korean</td>\n",
       "    </tr>\n",
       "    <tr>\n",
       "      <th>4</th>\n",
       "      <td>iron fey</td>\n",
       "    </tr>\n",
       "  </tbody>\n",
       "</table>\n",
       "</div>"
      ],
      "text/plain": [
       "        search_term\n",
       "0     winter killer\n",
       "1  heat magazine uk\n",
       "2     josie russell\n",
       "3            korean\n",
       "4          iron fey"
      ]
     },
     "execution_count": 188,
     "metadata": {},
     "output_type": "execute_result"
    }
   ],
   "source": [
    "keywords_df.head()"
   ]
  },
  {
   "cell_type": "code",
   "execution_count": 189,
   "metadata": {
    "colab": {
     "base_uri": "https://localhost:8080/",
     "height": 206
    },
    "id": "c6zb1JOBn-ce",
    "outputId": "88b29ab1-e859-4af7-ab7b-09a0ebbb38a4"
   },
   "outputs": [
    {
     "data": {
      "text/html": [
       "<div>\n",
       "<style scoped>\n",
       "    .dataframe tbody tr th:only-of-type {\n",
       "        vertical-align: middle;\n",
       "    }\n",
       "\n",
       "    .dataframe tbody tr th {\n",
       "        vertical-align: top;\n",
       "    }\n",
       "\n",
       "    .dataframe thead th {\n",
       "        text-align: right;\n",
       "    }\n",
       "</style>\n",
       "<table border=\"1\" class=\"dataframe\">\n",
       "  <thead>\n",
       "    <tr style=\"text-align: right;\">\n",
       "      <th></th>\n",
       "      <th>search_term</th>\n",
       "    </tr>\n",
       "  </thead>\n",
       "  <tbody>\n",
       "    <tr>\n",
       "      <th>76702</th>\n",
       "      <td>iodine</td>\n",
       "    </tr>\n",
       "    <tr>\n",
       "      <th>76703</th>\n",
       "      <td>b088qr6qhq</td>\n",
       "    </tr>\n",
       "    <tr>\n",
       "      <th>76704</th>\n",
       "      <td>pokemon toys</td>\n",
       "    </tr>\n",
       "    <tr>\n",
       "      <th>76705</th>\n",
       "      <td>dambusters books</td>\n",
       "    </tr>\n",
       "    <tr>\n",
       "      <th>76706</th>\n",
       "      <td>jonathan stroud books</td>\n",
       "    </tr>\n",
       "  </tbody>\n",
       "</table>\n",
       "</div>"
      ],
      "text/plain": [
       "                 search_term\n",
       "76702                 iodine\n",
       "76703             b088qr6qhq\n",
       "76704           pokemon toys\n",
       "76705       dambusters books\n",
       "76706  jonathan stroud books"
      ]
     },
     "execution_count": 189,
     "metadata": {},
     "output_type": "execute_result"
    }
   ],
   "source": [
    "keywords_df.tail()"
   ]
  },
  {
   "cell_type": "markdown",
   "metadata": {
    "id": "tfZbaIxgokha"
   },
   "source": [
    "## Looking into metadata"
   ]
  },
  {
   "cell_type": "code",
   "execution_count": 190,
   "metadata": {
    "colab": {
     "base_uri": "https://localhost:8080/"
    },
    "id": "7hZYl2vrom2A",
    "outputId": "f6e4f412-66f6-4ca4-b01a-77bc09300b20"
   },
   "outputs": [
    {
     "name": "stdout",
     "output_type": "stream",
     "text": [
      "<class 'pandas.core.frame.DataFrame'>\n",
      "RangeIndex: 500 entries, 0 to 499\n",
      "Data columns (total 6 columns):\n",
      " #   Column              Non-Null Count  Dtype \n",
      "---  ------              --------------  ----- \n",
      " 0   id                  500 non-null    int64 \n",
      " 1   title               500 non-null    object\n",
      " 2   description         497 non-null    object\n",
      " 3   fiction_flag        500 non-null    object\n",
      " 4   thema_codes         500 non-null    object\n",
      " 5   thema_descriptions  500 non-null    object\n",
      "dtypes: int64(1), object(5)\n",
      "memory usage: 23.6+ KB\n"
     ]
    }
   ],
   "source": [
    "metadata_df.info()"
   ]
  },
  {
   "cell_type": "code",
   "execution_count": 191,
   "metadata": {
    "colab": {
     "base_uri": "https://localhost:8080/"
    },
    "id": "sfkUP0mooqES",
    "outputId": "e53a0a98-5c43-4de7-9652-770447ee9285"
   },
   "outputs": [
    {
     "data": {
      "text/plain": [
       "500"
      ]
     },
     "execution_count": 191,
     "metadata": {},
     "output_type": "execute_result"
    }
   ],
   "source": [
    "metadata_df['title'].unique().size  # Number of unique titles"
   ]
  },
  {
   "cell_type": "code",
   "execution_count": 192,
   "metadata": {
    "colab": {
     "base_uri": "https://localhost:8080/"
    },
    "id": "aJO26M2novqf",
    "outputId": "d7b82f2f-66d0-4346-f6b1-774d2998e996"
   },
   "outputs": [
    {
     "data": {
      "text/plain": [
       "498"
      ]
     },
     "execution_count": 192,
     "metadata": {},
     "output_type": "execute_result"
    }
   ],
   "source": [
    "metadata_df['description'].unique().size # Number of unique descriptions"
   ]
  },
  {
   "cell_type": "code",
   "execution_count": 193,
   "metadata": {
    "colab": {
     "base_uri": "https://localhost:8080/",
     "height": 196
    },
    "id": "6UFxz3Omo5QJ",
    "outputId": "3340bb39-deb5-420e-bfea-592a7ef0b37e"
   },
   "outputs": [
    {
     "data": {
      "text/html": [
       "<div>\n",
       "<style scoped>\n",
       "    .dataframe tbody tr th:only-of-type {\n",
       "        vertical-align: middle;\n",
       "    }\n",
       "\n",
       "    .dataframe tbody tr th {\n",
       "        vertical-align: top;\n",
       "    }\n",
       "\n",
       "    .dataframe thead th {\n",
       "        text-align: right;\n",
       "    }\n",
       "</style>\n",
       "<table border=\"1\" class=\"dataframe\">\n",
       "  <thead>\n",
       "    <tr style=\"text-align: right;\">\n",
       "      <th></th>\n",
       "      <th>id</th>\n",
       "      <th>title</th>\n",
       "      <th>description</th>\n",
       "      <th>fiction_flag</th>\n",
       "      <th>thema_codes</th>\n",
       "      <th>thema_descriptions</th>\n",
       "    </tr>\n",
       "  </thead>\n",
       "  <tbody>\n",
       "    <tr>\n",
       "      <th>272</th>\n",
       "      <td>272</td>\n",
       "      <td>Wine Folly: Magnum Edition</td>\n",
       "      <td>NaN</td>\n",
       "      <td>non-fiction</td>\n",
       "      <td>['WBXD1', 'WBXD', 'WTHD', 'GB', 'WB', 'WJX']</td>\n",
       "      <td>['Wines', 'Food and drink: alcoholic beverages...</td>\n",
       "    </tr>\n",
       "    <tr>\n",
       "      <th>325</th>\n",
       "      <td>325</td>\n",
       "      <td>Nobody Leaves</td>\n",
       "      <td>NaN</td>\n",
       "      <td>non-fiction</td>\n",
       "      <td>['DNP', 'WTLC', 'DNL', '1DTP', '3MPQS']</td>\n",
       "      <td>['Reportage, journalism or collected columns',...</td>\n",
       "    </tr>\n",
       "    <tr>\n",
       "      <th>408</th>\n",
       "      <td>408</td>\n",
       "      <td>Mind Games</td>\n",
       "      <td>NaN</td>\n",
       "      <td>non-fiction</td>\n",
       "      <td>['WDK', 'WDKX', 'VFD']</td>\n",
       "      <td>['Puzzles and quizzes', 'Trivia and quiz quest...</td>\n",
       "    </tr>\n",
       "  </tbody>\n",
       "</table>\n",
       "</div>"
      ],
      "text/plain": [
       "      id                       title description fiction_flag  \\\n",
       "272  272  Wine Folly: Magnum Edition         NaN  non-fiction   \n",
       "325  325               Nobody Leaves         NaN  non-fiction   \n",
       "408  408                  Mind Games         NaN  non-fiction   \n",
       "\n",
       "                                      thema_codes  \\\n",
       "272  ['WBXD1', 'WBXD', 'WTHD', 'GB', 'WB', 'WJX']   \n",
       "325       ['DNP', 'WTLC', 'DNL', '1DTP', '3MPQS']   \n",
       "408                        ['WDK', 'WDKX', 'VFD']   \n",
       "\n",
       "                                    thema_descriptions  \n",
       "272  ['Wines', 'Food and drink: alcoholic beverages...  \n",
       "325  ['Reportage, journalism or collected columns',...  \n",
       "408  ['Puzzles and quizzes', 'Trivia and quiz quest...  "
      ]
     },
     "execution_count": 193,
     "metadata": {},
     "output_type": "execute_result"
    }
   ],
   "source": [
    "# Looking into duplicated description values\n",
    "metadata_df[metadata_df['description'].duplicated(keep=False)]"
   ]
  },
  {
   "cell_type": "code",
   "execution_count": null,
   "metadata": {
    "id": "tXUqh0z9pBgT"
   },
   "outputs": [],
   "source": []
  },
  {
   "cell_type": "markdown",
   "metadata": {
    "id": "W9qwYoT_Gi4y"
   },
   "source": [
    "*We have three null descriptions out of 500 records, we can drop these, considering we do not have high percentage of nulls, but we will simply replace these empty cells with \"null\" as description content for easing the later steps.*"
   ]
  },
  {
   "cell_type": "code",
   "execution_count": 194,
   "metadata": {
    "colab": {
     "base_uri": "https://localhost:8080/"
    },
    "id": "ewhgx2Lep3UD",
    "outputId": "2927a5a1-8f19-481a-942f-0ae31b760703"
   },
   "outputs": [
    {
     "data": {
      "text/plain": [
       "(500, 6)"
      ]
     },
     "execution_count": 194,
     "metadata": {},
     "output_type": "execute_result"
    }
   ],
   "source": [
    "metadata_df.shape"
   ]
  },
  {
   "cell_type": "code",
   "execution_count": 195,
   "metadata": {
    "id": "FHRzp0UPpuOB"
   },
   "outputs": [],
   "source": [
    "metadata_df.fillna(value = \"null\", inplace=True)"
   ]
  },
  {
   "cell_type": "code",
   "execution_count": 196,
   "metadata": {
    "colab": {
     "base_uri": "https://localhost:8080/",
     "height": 196
    },
    "id": "JATKRNmnBU1t",
    "outputId": "1e4b7d8f-4823-4735-ba2c-190be812b245"
   },
   "outputs": [
    {
     "data": {
      "text/html": [
       "<div>\n",
       "<style scoped>\n",
       "    .dataframe tbody tr th:only-of-type {\n",
       "        vertical-align: middle;\n",
       "    }\n",
       "\n",
       "    .dataframe tbody tr th {\n",
       "        vertical-align: top;\n",
       "    }\n",
       "\n",
       "    .dataframe thead th {\n",
       "        text-align: right;\n",
       "    }\n",
       "</style>\n",
       "<table border=\"1\" class=\"dataframe\">\n",
       "  <thead>\n",
       "    <tr style=\"text-align: right;\">\n",
       "      <th></th>\n",
       "      <th>id</th>\n",
       "      <th>title</th>\n",
       "      <th>description</th>\n",
       "      <th>fiction_flag</th>\n",
       "      <th>thema_codes</th>\n",
       "      <th>thema_descriptions</th>\n",
       "    </tr>\n",
       "  </thead>\n",
       "  <tbody>\n",
       "    <tr>\n",
       "      <th>272</th>\n",
       "      <td>272</td>\n",
       "      <td>Wine Folly: Magnum Edition</td>\n",
       "      <td>null</td>\n",
       "      <td>non-fiction</td>\n",
       "      <td>['WBXD1', 'WBXD', 'WTHD', 'GB', 'WB', 'WJX']</td>\n",
       "      <td>['Wines', 'Food and drink: alcoholic beverages...</td>\n",
       "    </tr>\n",
       "    <tr>\n",
       "      <th>325</th>\n",
       "      <td>325</td>\n",
       "      <td>Nobody Leaves</td>\n",
       "      <td>null</td>\n",
       "      <td>non-fiction</td>\n",
       "      <td>['DNP', 'WTLC', 'DNL', '1DTP', '3MPQS']</td>\n",
       "      <td>['Reportage, journalism or collected columns',...</td>\n",
       "    </tr>\n",
       "    <tr>\n",
       "      <th>408</th>\n",
       "      <td>408</td>\n",
       "      <td>Mind Games</td>\n",
       "      <td>null</td>\n",
       "      <td>non-fiction</td>\n",
       "      <td>['WDK', 'WDKX', 'VFD']</td>\n",
       "      <td>['Puzzles and quizzes', 'Trivia and quiz quest...</td>\n",
       "    </tr>\n",
       "  </tbody>\n",
       "</table>\n",
       "</div>"
      ],
      "text/plain": [
       "      id                       title description fiction_flag  \\\n",
       "272  272  Wine Folly: Magnum Edition        null  non-fiction   \n",
       "325  325               Nobody Leaves        null  non-fiction   \n",
       "408  408                  Mind Games        null  non-fiction   \n",
       "\n",
       "                                      thema_codes  \\\n",
       "272  ['WBXD1', 'WBXD', 'WTHD', 'GB', 'WB', 'WJX']   \n",
       "325       ['DNP', 'WTLC', 'DNL', '1DTP', '3MPQS']   \n",
       "408                        ['WDK', 'WDKX', 'VFD']   \n",
       "\n",
       "                                    thema_descriptions  \n",
       "272  ['Wines', 'Food and drink: alcoholic beverages...  \n",
       "325  ['Reportage, journalism or collected columns',...  \n",
       "408  ['Puzzles and quizzes', 'Trivia and quiz quest...  "
      ]
     },
     "execution_count": 196,
     "metadata": {},
     "output_type": "execute_result"
    }
   ],
   "source": [
    "# Again, looking into the \"null\" description content\n",
    "metadata_df[metadata_df['description'].duplicated(keep=False)]"
   ]
  },
  {
   "cell_type": "code",
   "execution_count": 197,
   "metadata": {
    "colab": {
     "base_uri": "https://localhost:8080/"
    },
    "id": "tTkLyALcp441",
    "outputId": "0bae6c2d-042e-4a24-be73-5a0339605431"
   },
   "outputs": [
    {
     "name": "stdout",
     "output_type": "stream",
     "text": [
      "<class 'pandas.core.frame.DataFrame'>\n",
      "RangeIndex: 500 entries, 0 to 499\n",
      "Data columns (total 6 columns):\n",
      " #   Column              Non-Null Count  Dtype \n",
      "---  ------              --------------  ----- \n",
      " 0   id                  500 non-null    int64 \n",
      " 1   title               500 non-null    object\n",
      " 2   description         500 non-null    object\n",
      " 3   fiction_flag        500 non-null    object\n",
      " 4   thema_codes         500 non-null    object\n",
      " 5   thema_descriptions  500 non-null    object\n",
      "dtypes: int64(1), object(5)\n",
      "memory usage: 23.6+ KB\n"
     ]
    }
   ],
   "source": [
    "metadata_df.info()"
   ]
  },
  {
   "cell_type": "code",
   "execution_count": 198,
   "metadata": {
    "colab": {
     "base_uri": "https://localhost:8080/",
     "height": 206
    },
    "id": "c2RXLcPFp7qL",
    "outputId": "97e90da3-9c50-4d9a-cf4e-d50acce72283"
   },
   "outputs": [
    {
     "data": {
      "text/html": [
       "<div>\n",
       "<style scoped>\n",
       "    .dataframe tbody tr th:only-of-type {\n",
       "        vertical-align: middle;\n",
       "    }\n",
       "\n",
       "    .dataframe tbody tr th {\n",
       "        vertical-align: top;\n",
       "    }\n",
       "\n",
       "    .dataframe thead th {\n",
       "        text-align: right;\n",
       "    }\n",
       "</style>\n",
       "<table border=\"1\" class=\"dataframe\">\n",
       "  <thead>\n",
       "    <tr style=\"text-align: right;\">\n",
       "      <th></th>\n",
       "      <th>thema_codes</th>\n",
       "      <th>thema_descriptions</th>\n",
       "    </tr>\n",
       "  </thead>\n",
       "  <tbody>\n",
       "    <tr>\n",
       "      <th>0</th>\n",
       "      <td>['VFX', 'WBH', 'VF', 'VS']</td>\n",
       "      <td>['Parenting: advice and issues', 'Health and w...</td>\n",
       "    </tr>\n",
       "    <tr>\n",
       "      <th>1</th>\n",
       "      <td>['FHD', 'FV', 'FJ', '1DSP-PT-P']</td>\n",
       "      <td>['Espionage and spy thriller', 'Historical fic...</td>\n",
       "    </tr>\n",
       "    <tr>\n",
       "      <th>2</th>\n",
       "      <td>['FBA', 'FC', 'FXB', '1KBC-CA-O']</td>\n",
       "      <td>['Modern and contemporary fiction: general and...</td>\n",
       "    </tr>\n",
       "    <tr>\n",
       "      <th>3</th>\n",
       "      <td>['JPB', 'QDTS', 'JPF', 'KCS', 'DNP', 'RNT']</td>\n",
       "      <td>['Comparative politics', 'Social and political...</td>\n",
       "    </tr>\n",
       "    <tr>\n",
       "      <th>4</th>\n",
       "      <td>['KJH', 'KJMB', 'KJW', 'VSC', 'VSPM', 'JMC']</td>\n",
       "      <td>['Entrepreneurship / Start-ups', 'Management: ...</td>\n",
       "    </tr>\n",
       "  </tbody>\n",
       "</table>\n",
       "</div>"
      ],
      "text/plain": [
       "                                    thema_codes  \\\n",
       "0                    ['VFX', 'WBH', 'VF', 'VS']   \n",
       "1              ['FHD', 'FV', 'FJ', '1DSP-PT-P']   \n",
       "2             ['FBA', 'FC', 'FXB', '1KBC-CA-O']   \n",
       "3   ['JPB', 'QDTS', 'JPF', 'KCS', 'DNP', 'RNT']   \n",
       "4  ['KJH', 'KJMB', 'KJW', 'VSC', 'VSPM', 'JMC']   \n",
       "\n",
       "                                  thema_descriptions  \n",
       "0  ['Parenting: advice and issues', 'Health and w...  \n",
       "1  ['Espionage and spy thriller', 'Historical fic...  \n",
       "2  ['Modern and contemporary fiction: general and...  \n",
       "3  ['Comparative politics', 'Social and political...  \n",
       "4  ['Entrepreneurship / Start-ups', 'Management: ...  "
      ]
     },
     "execution_count": 198,
     "metadata": {},
     "output_type": "execute_result"
    }
   ],
   "source": [
    "metadata_df[['thema_codes', 'thema_descriptions']].head()"
   ]
  },
  {
   "cell_type": "code",
   "execution_count": null,
   "metadata": {
    "id": "izcGG72GqCpD"
   },
   "outputs": [],
   "source": []
  },
  {
   "cell_type": "markdown",
   "metadata": {
    "id": "6nxBtE_uq5Zr"
   },
   "source": [
    "## Looking into keywords"
   ]
  },
  {
   "cell_type": "code",
   "execution_count": 199,
   "metadata": {
    "colab": {
     "base_uri": "https://localhost:8080/",
     "height": 677
    },
    "id": "alQNIAiqq7Ey",
    "outputId": "79d3e6e8-f2ad-422c-85ed-786255176720"
   },
   "outputs": [
    {
     "data": {
      "text/html": [
       "<div>\n",
       "<style scoped>\n",
       "    .dataframe tbody tr th:only-of-type {\n",
       "        vertical-align: middle;\n",
       "    }\n",
       "\n",
       "    .dataframe tbody tr th {\n",
       "        vertical-align: top;\n",
       "    }\n",
       "\n",
       "    .dataframe thead th {\n",
       "        text-align: right;\n",
       "    }\n",
       "</style>\n",
       "<table border=\"1\" class=\"dataframe\">\n",
       "  <thead>\n",
       "    <tr style=\"text-align: right;\">\n",
       "      <th></th>\n",
       "      <th>search_term</th>\n",
       "    </tr>\n",
       "  </thead>\n",
       "  <tbody>\n",
       "    <tr>\n",
       "      <th>0</th>\n",
       "      <td>winter killer</td>\n",
       "    </tr>\n",
       "    <tr>\n",
       "      <th>1</th>\n",
       "      <td>heat magazine uk</td>\n",
       "    </tr>\n",
       "    <tr>\n",
       "      <th>2</th>\n",
       "      <td>josie russell</td>\n",
       "    </tr>\n",
       "    <tr>\n",
       "      <th>3</th>\n",
       "      <td>korean</td>\n",
       "    </tr>\n",
       "    <tr>\n",
       "      <th>4</th>\n",
       "      <td>iron fey</td>\n",
       "    </tr>\n",
       "    <tr>\n",
       "      <th>5</th>\n",
       "      <td>ben</td>\n",
       "    </tr>\n",
       "    <tr>\n",
       "      <th>6</th>\n",
       "      <td>alan garner kindle</td>\n",
       "    </tr>\n",
       "    <tr>\n",
       "      <th>7</th>\n",
       "      <td>she hulk</td>\n",
       "    </tr>\n",
       "    <tr>\n",
       "      <th>8</th>\n",
       "      <td>san francisco longing</td>\n",
       "    </tr>\n",
       "    <tr>\n",
       "      <th>9</th>\n",
       "      <td>odin alex mason</td>\n",
       "    </tr>\n",
       "    <tr>\n",
       "      <th>10</th>\n",
       "      <td>strange sally</td>\n",
       "    </tr>\n",
       "    <tr>\n",
       "      <th>11</th>\n",
       "      <td>dreamland</td>\n",
       "    </tr>\n",
       "    <tr>\n",
       "      <th>12</th>\n",
       "      <td>errotic fiction books</td>\n",
       "    </tr>\n",
       "    <tr>\n",
       "      <th>13</th>\n",
       "      <td>bamburgh</td>\n",
       "    </tr>\n",
       "    <tr>\n",
       "      <th>14</th>\n",
       "      <td>a m snead</td>\n",
       "    </tr>\n",
       "    <tr>\n",
       "      <th>15</th>\n",
       "      <td>eye bleach</td>\n",
       "    </tr>\n",
       "    <tr>\n",
       "      <th>16</th>\n",
       "      <td>undoctored</td>\n",
       "    </tr>\n",
       "    <tr>\n",
       "      <th>17</th>\n",
       "      <td>his hometown girl</td>\n",
       "    </tr>\n",
       "    <tr>\n",
       "      <th>18</th>\n",
       "      <td>her gilded prison</td>\n",
       "    </tr>\n",
       "    <tr>\n",
       "      <th>19</th>\n",
       "      <td>skyhold</td>\n",
       "    </tr>\n",
       "  </tbody>\n",
       "</table>\n",
       "</div>"
      ],
      "text/plain": [
       "              search_term\n",
       "0           winter killer\n",
       "1        heat magazine uk\n",
       "2           josie russell\n",
       "3                  korean\n",
       "4                iron fey\n",
       "5                     ben\n",
       "6      alan garner kindle\n",
       "7                she hulk\n",
       "8   san francisco longing\n",
       "9         odin alex mason\n",
       "10          strange sally\n",
       "11              dreamland\n",
       "12  errotic fiction books\n",
       "13               bamburgh\n",
       "14              a m snead\n",
       "15             eye bleach\n",
       "16             undoctored\n",
       "17      his hometown girl\n",
       "18      her gilded prison\n",
       "19                skyhold"
      ]
     },
     "execution_count": 199,
     "metadata": {},
     "output_type": "execute_result"
    }
   ],
   "source": [
    "keywords_df.head(20)"
   ]
  },
  {
   "cell_type": "code",
   "execution_count": 200,
   "metadata": {
    "colab": {
     "base_uri": "https://localhost:8080/"
    },
    "id": "0XUUpRHoq9JN",
    "outputId": "ab17f854-4635-4b53-e5d8-08bc33fd1bcf"
   },
   "outputs": [
    {
     "data": {
      "text/plain": [
       "(76707, 1)"
      ]
     },
     "execution_count": 200,
     "metadata": {},
     "output_type": "execute_result"
    }
   ],
   "source": [
    " keywords_df.shape"
   ]
  },
  {
   "cell_type": "code",
   "execution_count": 201,
   "metadata": {
    "colab": {
     "base_uri": "https://localhost:8080/"
    },
    "id": "AOJVXNqwrBJc",
    "outputId": "cdd82b1b-dc54-4422-f7e1-db7480b2592c"
   },
   "outputs": [
    {
     "name": "stdout",
     "output_type": "stream",
     "text": [
      "<class 'pandas.core.frame.DataFrame'>\n",
      "RangeIndex: 76707 entries, 0 to 76706\n",
      "Data columns (total 1 columns):\n",
      " #   Column       Non-Null Count  Dtype \n",
      "---  ------       --------------  ----- \n",
      " 0   search_term  76706 non-null  object\n",
      "dtypes: object(1)\n",
      "memory usage: 599.4+ KB\n"
     ]
    }
   ],
   "source": [
    "keywords_df.info()"
   ]
  },
  {
   "cell_type": "code",
   "execution_count": null,
   "metadata": {
    "id": "q3gkARThrCi5"
   },
   "outputs": [],
   "source": []
  },
  {
   "cell_type": "markdown",
   "metadata": {
    "id": "JgxgNFHUrFRs"
   },
   "source": [
    "# Text Pre-processing"
   ]
  },
  {
   "cell_type": "code",
   "execution_count": 202,
   "metadata": {
    "id": "pgFCfbIhrGmS"
   },
   "outputs": [],
   "source": [
    "# Lemmatizing - bringing words to their root form - young, younger, youngest, all should come under one root form, that is, young.\n",
    "\n",
    "def get_lemma(text):\n",
    "  text = str(text)  \n",
    "  lemmatizer = WordNetLemmatizer()\n",
    "\n",
    "  def pos_tagger(nltk_tag):\n",
    "    if nltk_tag.startswith('J'): #adjective\n",
    "        return wordnet.ADJ\n",
    "    elif nltk_tag.startswith('V'): #verb\n",
    "        return wordnet.VERB\n",
    "    elif nltk_tag.startswith('N'): #noun\n",
    "        return wordnet.NOUN\n",
    "    elif nltk_tag.startswith('R'): #adverb\n",
    "        return wordnet.ADV\n",
    "    else:\n",
    "        return None\n",
    "\n",
    "  pos_tagged = nltk.pos_tag(nltk.word_tokenize(text)) # get part-of-speech tags\n",
    "  #print( pos_tagged)\n",
    "  wordnet_tagged = list(map(lambda x: (x[0], pos_tagger(x[1])), pos_tagged))\n",
    "  #print(\"***\")\n",
    "  #print(wordnet_tagged)\n",
    "  lemmatized_sentence = []\n",
    "  for word, tag in wordnet_tagged:\n",
    "    if tag is None:\n",
    "        # if there is no available tag, append the token as is\n",
    "        lemmatized_sentence.append(word)\n",
    "    else:\n",
    "        # else use the tag to lemmatize the token\n",
    "        lemmatized_sentence.append(lemmatizer.lemmatize(word, tag))\n",
    "        # print(lemmatized_sentence)\n",
    "  lemmatized_sentence = \" \".join(lemmatized_sentence)\n",
    "\n",
    "  return lemmatized_sentence"
   ]
  },
  {
   "cell_type": "code",
   "execution_count": 203,
   "metadata": {
    "colab": {
     "base_uri": "https://localhost:8080/",
     "height": 35
    },
    "id": "b5ZNWAUiwSM3",
    "outputId": "2c3ce211-fa63-4303-c134-79f7d9790817"
   },
   "outputs": [
    {
     "data": {
      "text/plain": [
       "'This be the new version of the sample database 10'"
      ]
     },
     "execution_count": 203,
     "metadata": {},
     "output_type": "execute_result"
    }
   ],
   "source": [
    "get_lemma(\"This is the newest version of the sampling database 10\")"
   ]
  },
  {
   "cell_type": "code",
   "execution_count": 204,
   "metadata": {
    "id": "wUeXbvq8wY5h"
   },
   "outputs": [],
   "source": [
    "# Removing unnecessary words and punctuations\n",
    "\n",
    "def get_clean_text(text):\n",
    "\n",
    "  # lower case\n",
    "  text = text.lower()\n",
    "\n",
    "  # removing HTML tags\n",
    "\n",
    "  text = re.sub(r'<.*?>', \"\", text)\n",
    "\n",
    "\n",
    "  # removing punctuation\n",
    "\n",
    "  text = text.translate(str.maketrans(\"\", \"\", string.punctuation))\n",
    "\n",
    "\n",
    "  # removing stopwords\n",
    "\n",
    "  stop_words = stopwords.words('english')\n",
    "  text = \" \".join(word for word in word_tokenize(text) if word not in stop_words)\n",
    "\n",
    "\n",
    "  # removing extra whitespaces\n",
    "\n",
    "  text = text.strip()\n",
    "\n",
    "\n",
    "  return text"
   ]
  },
  {
   "cell_type": "markdown",
   "metadata": {
    "id": "oc6zO71aKQcR"
   },
   "source": [
    "*We will first apply lemma and then clean the text. Before that, we will combine columns description and thema_descriptions, so that all the text processing can take place together.*"
   ]
  },
  {
   "cell_type": "code",
   "execution_count": 205,
   "metadata": {
    "id": "_91urnBiJ_Eq"
   },
   "outputs": [],
   "source": [
    "metadata_df['complete_content']  = metadata_df['description'] + \" \" + metadata_df['thema_descriptions']"
   ]
  },
  {
   "cell_type": "code",
   "execution_count": 206,
   "metadata": {
    "colab": {
     "base_uri": "https://localhost:8080/",
     "height": 417
    },
    "id": "Bx9w5CltJ-2n",
    "outputId": "469390a2-9f33-4a3d-cda7-6e630f0c95d1"
   },
   "outputs": [
    {
     "data": {
      "text/html": [
       "<div>\n",
       "<style scoped>\n",
       "    .dataframe tbody tr th:only-of-type {\n",
       "        vertical-align: middle;\n",
       "    }\n",
       "\n",
       "    .dataframe tbody tr th {\n",
       "        vertical-align: top;\n",
       "    }\n",
       "\n",
       "    .dataframe thead th {\n",
       "        text-align: right;\n",
       "    }\n",
       "</style>\n",
       "<table border=\"1\" class=\"dataframe\">\n",
       "  <thead>\n",
       "    <tr style=\"text-align: right;\">\n",
       "      <th></th>\n",
       "      <th>id</th>\n",
       "      <th>title</th>\n",
       "      <th>description</th>\n",
       "      <th>fiction_flag</th>\n",
       "      <th>thema_codes</th>\n",
       "      <th>thema_descriptions</th>\n",
       "      <th>complete_content</th>\n",
       "    </tr>\n",
       "  </thead>\n",
       "  <tbody>\n",
       "    <tr>\n",
       "      <th>0</th>\n",
       "      <td>0</td>\n",
       "      <td>How to Wean Your Baby</td>\n",
       "      <td>&lt;b&gt;THE &lt;i&gt;SUNDAY TIMES &lt;/i&gt;BESTSELLER&lt;/b&gt;\\r\\n&lt;...</td>\n",
       "      <td>non-fiction</td>\n",
       "      <td>['VFX', 'WBH', 'VF', 'VS']</td>\n",
       "      <td>['Parenting: advice and issues', 'Health and w...</td>\n",
       "      <td>&lt;b&gt;THE &lt;i&gt;SUNDAY TIMES &lt;/i&gt;BESTSELLER&lt;/b&gt;\\r\\n&lt;...</td>\n",
       "    </tr>\n",
       "    <tr>\n",
       "      <th>1</th>\n",
       "      <td>1</td>\n",
       "      <td>Horse Under Water</td>\n",
       "      <td>A sunken U-Boat has lain undisturbed on the At...</td>\n",
       "      <td>fiction</td>\n",
       "      <td>['FHD', 'FV', 'FJ', '1DSP-PT-P']</td>\n",
       "      <td>['Espionage and spy thriller', 'Historical fic...</td>\n",
       "      <td>A sunken U-Boat has lain undisturbed on the At...</td>\n",
       "    </tr>\n",
       "    <tr>\n",
       "      <th>2</th>\n",
       "      <td>2</td>\n",
       "      <td>Lives of Girls and Women</td>\n",
       "      <td>&lt;b&gt;The only novel from bestselling author Alic...</td>\n",
       "      <td>fiction</td>\n",
       "      <td>['FBA', 'FC', 'FXB', '1KBC-CA-O']</td>\n",
       "      <td>['Modern and contemporary fiction: general and...</td>\n",
       "      <td>&lt;b&gt;The only novel from bestselling author Alic...</td>\n",
       "    </tr>\n",
       "    <tr>\n",
       "      <th>3</th>\n",
       "      <td>3</td>\n",
       "      <td>The Precipice</td>\n",
       "      <td>In this powerful collection of interviews, Noa...</td>\n",
       "      <td>non-fiction</td>\n",
       "      <td>['JPB', 'QDTS', 'JPF', 'KCS', 'DNP', 'RNT']</td>\n",
       "      <td>['Comparative politics', 'Social and political...</td>\n",
       "      <td>In this powerful collection of interviews, Noa...</td>\n",
       "    </tr>\n",
       "    <tr>\n",
       "      <th>4</th>\n",
       "      <td>4</td>\n",
       "      <td>Little Wins</td>\n",
       "      <td>There are some 400 million people worldwide wh...</td>\n",
       "      <td>non-fiction</td>\n",
       "      <td>['KJH', 'KJMB', 'KJW', 'VSC', 'VSPM', 'JMC']</td>\n",
       "      <td>['Entrepreneurship / Start-ups', 'Management: ...</td>\n",
       "      <td>There are some 400 million people worldwide wh...</td>\n",
       "    </tr>\n",
       "  </tbody>\n",
       "</table>\n",
       "</div>"
      ],
      "text/plain": [
       "   id                     title  \\\n",
       "0   0     How to Wean Your Baby   \n",
       "1   1         Horse Under Water   \n",
       "2   2  Lives of Girls and Women   \n",
       "3   3             The Precipice   \n",
       "4   4               Little Wins   \n",
       "\n",
       "                                         description fiction_flag  \\\n",
       "0  <b>THE <i>SUNDAY TIMES </i>BESTSELLER</b>\\r\\n<...  non-fiction   \n",
       "1  A sunken U-Boat has lain undisturbed on the At...      fiction   \n",
       "2  <b>The only novel from bestselling author Alic...      fiction   \n",
       "3  In this powerful collection of interviews, Noa...  non-fiction   \n",
       "4  There are some 400 million people worldwide wh...  non-fiction   \n",
       "\n",
       "                                    thema_codes  \\\n",
       "0                    ['VFX', 'WBH', 'VF', 'VS']   \n",
       "1              ['FHD', 'FV', 'FJ', '1DSP-PT-P']   \n",
       "2             ['FBA', 'FC', 'FXB', '1KBC-CA-O']   \n",
       "3   ['JPB', 'QDTS', 'JPF', 'KCS', 'DNP', 'RNT']   \n",
       "4  ['KJH', 'KJMB', 'KJW', 'VSC', 'VSPM', 'JMC']   \n",
       "\n",
       "                                  thema_descriptions  \\\n",
       "0  ['Parenting: advice and issues', 'Health and w...   \n",
       "1  ['Espionage and spy thriller', 'Historical fic...   \n",
       "2  ['Modern and contemporary fiction: general and...   \n",
       "3  ['Comparative politics', 'Social and political...   \n",
       "4  ['Entrepreneurship / Start-ups', 'Management: ...   \n",
       "\n",
       "                                    complete_content  \n",
       "0  <b>THE <i>SUNDAY TIMES </i>BESTSELLER</b>\\r\\n<...  \n",
       "1  A sunken U-Boat has lain undisturbed on the At...  \n",
       "2  <b>The only novel from bestselling author Alic...  \n",
       "3  In this powerful collection of interviews, Noa...  \n",
       "4  There are some 400 million people worldwide wh...  "
      ]
     },
     "execution_count": 206,
     "metadata": {},
     "output_type": "execute_result"
    }
   ],
   "source": [
    "metadata_df.head()"
   ]
  },
  {
   "cell_type": "code",
   "execution_count": null,
   "metadata": {
    "id": "EkGI6TfMJ-oj"
   },
   "outputs": [],
   "source": []
  },
  {
   "cell_type": "code",
   "execution_count": 207,
   "metadata": {
    "id": "9_qCIAPMzLB8"
   },
   "outputs": [],
   "source": [
    "# Lemmatizing\n",
    "metadata_df['clean_content'] = metadata_df['complete_content'].apply(lambda x: get_lemma(x))"
   ]
  },
  {
   "cell_type": "code",
   "execution_count": 208,
   "metadata": {
    "colab": {
     "base_uri": "https://localhost:8080/",
     "height": 469
    },
    "id": "lsSBDBa8ztJu",
    "outputId": "2529450c-a482-459a-fea5-b8a57f2c2327"
   },
   "outputs": [
    {
     "data": {
      "text/html": [
       "<div>\n",
       "<style scoped>\n",
       "    .dataframe tbody tr th:only-of-type {\n",
       "        vertical-align: middle;\n",
       "    }\n",
       "\n",
       "    .dataframe tbody tr th {\n",
       "        vertical-align: top;\n",
       "    }\n",
       "\n",
       "    .dataframe thead th {\n",
       "        text-align: right;\n",
       "    }\n",
       "</style>\n",
       "<table border=\"1\" class=\"dataframe\">\n",
       "  <thead>\n",
       "    <tr style=\"text-align: right;\">\n",
       "      <th></th>\n",
       "      <th>id</th>\n",
       "      <th>title</th>\n",
       "      <th>description</th>\n",
       "      <th>fiction_flag</th>\n",
       "      <th>thema_codes</th>\n",
       "      <th>thema_descriptions</th>\n",
       "      <th>complete_content</th>\n",
       "      <th>clean_content</th>\n",
       "    </tr>\n",
       "  </thead>\n",
       "  <tbody>\n",
       "    <tr>\n",
       "      <th>0</th>\n",
       "      <td>0</td>\n",
       "      <td>How to Wean Your Baby</td>\n",
       "      <td>&lt;b&gt;THE &lt;i&gt;SUNDAY TIMES &lt;/i&gt;BESTSELLER&lt;/b&gt;\\r\\n&lt;...</td>\n",
       "      <td>non-fiction</td>\n",
       "      <td>['VFX', 'WBH', 'VF', 'VS']</td>\n",
       "      <td>['Parenting: advice and issues', 'Health and w...</td>\n",
       "      <td>&lt;b&gt;THE &lt;i&gt;SUNDAY TIMES &lt;/i&gt;BESTSELLER&lt;/b&gt;\\r\\n&lt;...</td>\n",
       "      <td>&lt; b &gt; THE &lt; i &gt; SUNDAY TIMES &lt; /i &gt; BESTSELLER...</td>\n",
       "    </tr>\n",
       "    <tr>\n",
       "      <th>1</th>\n",
       "      <td>1</td>\n",
       "      <td>Horse Under Water</td>\n",
       "      <td>A sunken U-Boat has lain undisturbed on the At...</td>\n",
       "      <td>fiction</td>\n",
       "      <td>['FHD', 'FV', 'FJ', '1DSP-PT-P']</td>\n",
       "      <td>['Espionage and spy thriller', 'Historical fic...</td>\n",
       "      <td>A sunken U-Boat has lain undisturbed on the At...</td>\n",
       "      <td>A sunken U-Boat have lie undisturbed on the At...</td>\n",
       "    </tr>\n",
       "    <tr>\n",
       "      <th>2</th>\n",
       "      <td>2</td>\n",
       "      <td>Lives of Girls and Women</td>\n",
       "      <td>&lt;b&gt;The only novel from bestselling author Alic...</td>\n",
       "      <td>fiction</td>\n",
       "      <td>['FBA', 'FC', 'FXB', '1KBC-CA-O']</td>\n",
       "      <td>['Modern and contemporary fiction: general and...</td>\n",
       "      <td>&lt;b&gt;The only novel from bestselling author Alic...</td>\n",
       "      <td>&lt; b &gt; The only novel from bestselling author A...</td>\n",
       "    </tr>\n",
       "    <tr>\n",
       "      <th>3</th>\n",
       "      <td>3</td>\n",
       "      <td>The Precipice</td>\n",
       "      <td>In this powerful collection of interviews, Noa...</td>\n",
       "      <td>non-fiction</td>\n",
       "      <td>['JPB', 'QDTS', 'JPF', 'KCS', 'DNP', 'RNT']</td>\n",
       "      <td>['Comparative politics', 'Social and political...</td>\n",
       "      <td>In this powerful collection of interviews, Noa...</td>\n",
       "      <td>In this powerful collection of interview , Noa...</td>\n",
       "    </tr>\n",
       "    <tr>\n",
       "      <th>4</th>\n",
       "      <td>4</td>\n",
       "      <td>Little Wins</td>\n",
       "      <td>There are some 400 million people worldwide wh...</td>\n",
       "      <td>non-fiction</td>\n",
       "      <td>['KJH', 'KJMB', 'KJW', 'VSC', 'VSPM', 'JMC']</td>\n",
       "      <td>['Entrepreneurship / Start-ups', 'Management: ...</td>\n",
       "      <td>There are some 400 million people worldwide wh...</td>\n",
       "      <td>There be some 400 million people worldwide who...</td>\n",
       "    </tr>\n",
       "  </tbody>\n",
       "</table>\n",
       "</div>"
      ],
      "text/plain": [
       "   id                     title  \\\n",
       "0   0     How to Wean Your Baby   \n",
       "1   1         Horse Under Water   \n",
       "2   2  Lives of Girls and Women   \n",
       "3   3             The Precipice   \n",
       "4   4               Little Wins   \n",
       "\n",
       "                                         description fiction_flag  \\\n",
       "0  <b>THE <i>SUNDAY TIMES </i>BESTSELLER</b>\\r\\n<...  non-fiction   \n",
       "1  A sunken U-Boat has lain undisturbed on the At...      fiction   \n",
       "2  <b>The only novel from bestselling author Alic...      fiction   \n",
       "3  In this powerful collection of interviews, Noa...  non-fiction   \n",
       "4  There are some 400 million people worldwide wh...  non-fiction   \n",
       "\n",
       "                                    thema_codes  \\\n",
       "0                    ['VFX', 'WBH', 'VF', 'VS']   \n",
       "1              ['FHD', 'FV', 'FJ', '1DSP-PT-P']   \n",
       "2             ['FBA', 'FC', 'FXB', '1KBC-CA-O']   \n",
       "3   ['JPB', 'QDTS', 'JPF', 'KCS', 'DNP', 'RNT']   \n",
       "4  ['KJH', 'KJMB', 'KJW', 'VSC', 'VSPM', 'JMC']   \n",
       "\n",
       "                                  thema_descriptions  \\\n",
       "0  ['Parenting: advice and issues', 'Health and w...   \n",
       "1  ['Espionage and spy thriller', 'Historical fic...   \n",
       "2  ['Modern and contemporary fiction: general and...   \n",
       "3  ['Comparative politics', 'Social and political...   \n",
       "4  ['Entrepreneurship / Start-ups', 'Management: ...   \n",
       "\n",
       "                                    complete_content  \\\n",
       "0  <b>THE <i>SUNDAY TIMES </i>BESTSELLER</b>\\r\\n<...   \n",
       "1  A sunken U-Boat has lain undisturbed on the At...   \n",
       "2  <b>The only novel from bestselling author Alic...   \n",
       "3  In this powerful collection of interviews, Noa...   \n",
       "4  There are some 400 million people worldwide wh...   \n",
       "\n",
       "                                       clean_content  \n",
       "0  < b > THE < i > SUNDAY TIMES < /i > BESTSELLER...  \n",
       "1  A sunken U-Boat have lie undisturbed on the At...  \n",
       "2  < b > The only novel from bestselling author A...  \n",
       "3  In this powerful collection of interview , Noa...  \n",
       "4  There be some 400 million people worldwide who...  "
      ]
     },
     "execution_count": 208,
     "metadata": {},
     "output_type": "execute_result"
    }
   ],
   "source": [
    "metadata_df.head()"
   ]
  },
  {
   "cell_type": "code",
   "execution_count": 209,
   "metadata": {
    "id": "yxCiMfKczy24"
   },
   "outputs": [],
   "source": [
    "# Applying text pre-processing function for removing punctuations, etc.\n",
    "\n",
    "metadata_df['clean_content'] = metadata_df['clean_content'].apply(lambda x: get_clean_text(x))"
   ]
  },
  {
   "cell_type": "code",
   "execution_count": 210,
   "metadata": {
    "colab": {
     "base_uri": "https://localhost:8080/",
     "height": 469
    },
    "id": "evMZJIetz9Qy",
    "outputId": "810e1890-c95d-44e6-da31-d804ca48814e"
   },
   "outputs": [
    {
     "data": {
      "text/html": [
       "<div>\n",
       "<style scoped>\n",
       "    .dataframe tbody tr th:only-of-type {\n",
       "        vertical-align: middle;\n",
       "    }\n",
       "\n",
       "    .dataframe tbody tr th {\n",
       "        vertical-align: top;\n",
       "    }\n",
       "\n",
       "    .dataframe thead th {\n",
       "        text-align: right;\n",
       "    }\n",
       "</style>\n",
       "<table border=\"1\" class=\"dataframe\">\n",
       "  <thead>\n",
       "    <tr style=\"text-align: right;\">\n",
       "      <th></th>\n",
       "      <th>id</th>\n",
       "      <th>title</th>\n",
       "      <th>description</th>\n",
       "      <th>fiction_flag</th>\n",
       "      <th>thema_codes</th>\n",
       "      <th>thema_descriptions</th>\n",
       "      <th>complete_content</th>\n",
       "      <th>clean_content</th>\n",
       "    </tr>\n",
       "  </thead>\n",
       "  <tbody>\n",
       "    <tr>\n",
       "      <th>0</th>\n",
       "      <td>0</td>\n",
       "      <td>How to Wean Your Baby</td>\n",
       "      <td>&lt;b&gt;THE &lt;i&gt;SUNDAY TIMES &lt;/i&gt;BESTSELLER&lt;/b&gt;\\r\\n&lt;...</td>\n",
       "      <td>non-fiction</td>\n",
       "      <td>['VFX', 'WBH', 'VF', 'VS']</td>\n",
       "      <td>['Parenting: advice and issues', 'Health and w...</td>\n",
       "      <td>&lt;b&gt;THE &lt;i&gt;SUNDAY TIMES &lt;/i&gt;BESTSELLER&lt;/b&gt;\\r\\n&lt;...</td>\n",
       "      <td>sunday times bestseller charlotte give confide...</td>\n",
       "    </tr>\n",
       "    <tr>\n",
       "      <th>1</th>\n",
       "      <td>1</td>\n",
       "      <td>Horse Under Water</td>\n",
       "      <td>A sunken U-Boat has lain undisturbed on the At...</td>\n",
       "      <td>fiction</td>\n",
       "      <td>['FHD', 'FV', 'FJ', '1DSP-PT-P']</td>\n",
       "      <td>['Espionage and spy thriller', 'Historical fic...</td>\n",
       "      <td>A sunken U-Boat has lain undisturbed on the At...</td>\n",
       "      <td>sunken uboat lie undisturbed atlantic ocean fl...</td>\n",
       "    </tr>\n",
       "    <tr>\n",
       "      <th>2</th>\n",
       "      <td>2</td>\n",
       "      <td>Lives of Girls and Women</td>\n",
       "      <td>&lt;b&gt;The only novel from bestselling author Alic...</td>\n",
       "      <td>fiction</td>\n",
       "      <td>['FBA', 'FC', 'FXB', '1KBC-CA-O']</td>\n",
       "      <td>['Modern and contemporary fiction: general and...</td>\n",
       "      <td>&lt;b&gt;The only novel from bestselling author Alic...</td>\n",
       "      <td>novel bestselling author alice munro winner no...</td>\n",
       "    </tr>\n",
       "    <tr>\n",
       "      <th>3</th>\n",
       "      <td>3</td>\n",
       "      <td>The Precipice</td>\n",
       "      <td>In this powerful collection of interviews, Noa...</td>\n",
       "      <td>non-fiction</td>\n",
       "      <td>['JPB', 'QDTS', 'JPF', 'KCS', 'DNP', 'RNT']</td>\n",
       "      <td>['Comparative politics', 'Social and political...</td>\n",
       "      <td>In this powerful collection of interviews, Noa...</td>\n",
       "      <td>powerful collection interview noam chomsky exp...</td>\n",
       "    </tr>\n",
       "    <tr>\n",
       "      <th>4</th>\n",
       "      <td>4</td>\n",
       "      <td>Little Wins</td>\n",
       "      <td>There are some 400 million people worldwide wh...</td>\n",
       "      <td>non-fiction</td>\n",
       "      <td>['KJH', 'KJMB', 'KJW', 'VSC', 'VSPM', 'JMC']</td>\n",
       "      <td>['Entrepreneurship / Start-ups', 'Management: ...</td>\n",
       "      <td>There are some 400 million people worldwide wh...</td>\n",
       "      <td>400 million people worldwide whose creativity ...</td>\n",
       "    </tr>\n",
       "  </tbody>\n",
       "</table>\n",
       "</div>"
      ],
      "text/plain": [
       "   id                     title  \\\n",
       "0   0     How to Wean Your Baby   \n",
       "1   1         Horse Under Water   \n",
       "2   2  Lives of Girls and Women   \n",
       "3   3             The Precipice   \n",
       "4   4               Little Wins   \n",
       "\n",
       "                                         description fiction_flag  \\\n",
       "0  <b>THE <i>SUNDAY TIMES </i>BESTSELLER</b>\\r\\n<...  non-fiction   \n",
       "1  A sunken U-Boat has lain undisturbed on the At...      fiction   \n",
       "2  <b>The only novel from bestselling author Alic...      fiction   \n",
       "3  In this powerful collection of interviews, Noa...  non-fiction   \n",
       "4  There are some 400 million people worldwide wh...  non-fiction   \n",
       "\n",
       "                                    thema_codes  \\\n",
       "0                    ['VFX', 'WBH', 'VF', 'VS']   \n",
       "1              ['FHD', 'FV', 'FJ', '1DSP-PT-P']   \n",
       "2             ['FBA', 'FC', 'FXB', '1KBC-CA-O']   \n",
       "3   ['JPB', 'QDTS', 'JPF', 'KCS', 'DNP', 'RNT']   \n",
       "4  ['KJH', 'KJMB', 'KJW', 'VSC', 'VSPM', 'JMC']   \n",
       "\n",
       "                                  thema_descriptions  \\\n",
       "0  ['Parenting: advice and issues', 'Health and w...   \n",
       "1  ['Espionage and spy thriller', 'Historical fic...   \n",
       "2  ['Modern and contemporary fiction: general and...   \n",
       "3  ['Comparative politics', 'Social and political...   \n",
       "4  ['Entrepreneurship / Start-ups', 'Management: ...   \n",
       "\n",
       "                                    complete_content  \\\n",
       "0  <b>THE <i>SUNDAY TIMES </i>BESTSELLER</b>\\r\\n<...   \n",
       "1  A sunken U-Boat has lain undisturbed on the At...   \n",
       "2  <b>The only novel from bestselling author Alic...   \n",
       "3  In this powerful collection of interviews, Noa...   \n",
       "4  There are some 400 million people worldwide wh...   \n",
       "\n",
       "                                       clean_content  \n",
       "0  sunday times bestseller charlotte give confide...  \n",
       "1  sunken uboat lie undisturbed atlantic ocean fl...  \n",
       "2  novel bestselling author alice munro winner no...  \n",
       "3  powerful collection interview noam chomsky exp...  \n",
       "4  400 million people worldwide whose creativity ...  "
      ]
     },
     "execution_count": 210,
     "metadata": {},
     "output_type": "execute_result"
    }
   ],
   "source": [
    "metadata_df.head()"
   ]
  },
  {
   "cell_type": "code",
   "execution_count": 211,
   "metadata": {
    "id": "IPG0x0Qwz-w4"
   },
   "outputs": [],
   "source": [
    "# Applying the same steps on keywords dataframe"
   ]
  },
  {
   "cell_type": "code",
   "execution_count": 212,
   "metadata": {
    "colab": {
     "base_uri": "https://localhost:8080/",
     "height": 206
    },
    "id": "GJmFfzoy1Dj9",
    "outputId": "f9113de4-71b5-44d4-d8c3-b050ce8dab57"
   },
   "outputs": [
    {
     "data": {
      "text/html": [
       "<div>\n",
       "<style scoped>\n",
       "    .dataframe tbody tr th:only-of-type {\n",
       "        vertical-align: middle;\n",
       "    }\n",
       "\n",
       "    .dataframe tbody tr th {\n",
       "        vertical-align: top;\n",
       "    }\n",
       "\n",
       "    .dataframe thead th {\n",
       "        text-align: right;\n",
       "    }\n",
       "</style>\n",
       "<table border=\"1\" class=\"dataframe\">\n",
       "  <thead>\n",
       "    <tr style=\"text-align: right;\">\n",
       "      <th></th>\n",
       "      <th>search_term</th>\n",
       "    </tr>\n",
       "  </thead>\n",
       "  <tbody>\n",
       "    <tr>\n",
       "      <th>0</th>\n",
       "      <td>winter killer</td>\n",
       "    </tr>\n",
       "    <tr>\n",
       "      <th>1</th>\n",
       "      <td>heat magazine uk</td>\n",
       "    </tr>\n",
       "    <tr>\n",
       "      <th>2</th>\n",
       "      <td>josie russell</td>\n",
       "    </tr>\n",
       "    <tr>\n",
       "      <th>3</th>\n",
       "      <td>korean</td>\n",
       "    </tr>\n",
       "    <tr>\n",
       "      <th>4</th>\n",
       "      <td>iron fey</td>\n",
       "    </tr>\n",
       "  </tbody>\n",
       "</table>\n",
       "</div>"
      ],
      "text/plain": [
       "        search_term\n",
       "0     winter killer\n",
       "1  heat magazine uk\n",
       "2     josie russell\n",
       "3            korean\n",
       "4          iron fey"
      ]
     },
     "execution_count": 212,
     "metadata": {},
     "output_type": "execute_result"
    }
   ],
   "source": [
    "keywords_df.head()"
   ]
  },
  {
   "cell_type": "code",
   "execution_count": 213,
   "metadata": {},
   "outputs": [
    {
     "name": "stdout",
     "output_type": "stream",
     "text": [
      "<class 'pandas.core.frame.DataFrame'>\n",
      "RangeIndex: 76707 entries, 0 to 76706\n",
      "Data columns (total 1 columns):\n",
      " #   Column       Non-Null Count  Dtype \n",
      "---  ------       --------------  ----- \n",
      " 0   search_term  76706 non-null  object\n",
      "dtypes: object(1)\n",
      "memory usage: 599.4+ KB\n"
     ]
    }
   ],
   "source": [
    "keywords_df.info()"
   ]
  },
  {
   "cell_type": "code",
   "execution_count": 214,
   "metadata": {
    "id": "CQ_MoYOp0_qo"
   },
   "outputs": [],
   "source": [
    "keywords_df['clean_keywords'] = keywords_df['search_term'].apply(lambda x: get_lemma(x))"
   ]
  },
  {
   "cell_type": "code",
   "execution_count": 215,
   "metadata": {
    "colab": {
     "base_uri": "https://localhost:8080/",
     "height": 363
    },
    "id": "Jkup1eKJ1c15",
    "outputId": "2d9b268c-bb2a-4d66-c536-3f0183650f90"
   },
   "outputs": [
    {
     "data": {
      "text/html": [
       "<div>\n",
       "<style scoped>\n",
       "    .dataframe tbody tr th:only-of-type {\n",
       "        vertical-align: middle;\n",
       "    }\n",
       "\n",
       "    .dataframe tbody tr th {\n",
       "        vertical-align: top;\n",
       "    }\n",
       "\n",
       "    .dataframe thead th {\n",
       "        text-align: right;\n",
       "    }\n",
       "</style>\n",
       "<table border=\"1\" class=\"dataframe\">\n",
       "  <thead>\n",
       "    <tr style=\"text-align: right;\">\n",
       "      <th></th>\n",
       "      <th>search_term</th>\n",
       "      <th>clean_keywords</th>\n",
       "    </tr>\n",
       "  </thead>\n",
       "  <tbody>\n",
       "    <tr>\n",
       "      <th>0</th>\n",
       "      <td>winter killer</td>\n",
       "      <td>winter killer</td>\n",
       "    </tr>\n",
       "    <tr>\n",
       "      <th>1</th>\n",
       "      <td>heat magazine uk</td>\n",
       "      <td>heat magazine uk</td>\n",
       "    </tr>\n",
       "    <tr>\n",
       "      <th>2</th>\n",
       "      <td>josie russell</td>\n",
       "      <td>josie russell</td>\n",
       "    </tr>\n",
       "    <tr>\n",
       "      <th>3</th>\n",
       "      <td>korean</td>\n",
       "      <td>korean</td>\n",
       "    </tr>\n",
       "    <tr>\n",
       "      <th>4</th>\n",
       "      <td>iron fey</td>\n",
       "      <td>iron fey</td>\n",
       "    </tr>\n",
       "    <tr>\n",
       "      <th>5</th>\n",
       "      <td>ben</td>\n",
       "      <td>ben</td>\n",
       "    </tr>\n",
       "    <tr>\n",
       "      <th>6</th>\n",
       "      <td>alan garner kindle</td>\n",
       "      <td>alan garner kindle</td>\n",
       "    </tr>\n",
       "    <tr>\n",
       "      <th>7</th>\n",
       "      <td>she hulk</td>\n",
       "      <td>she hulk</td>\n",
       "    </tr>\n",
       "    <tr>\n",
       "      <th>8</th>\n",
       "      <td>san francisco longing</td>\n",
       "      <td>san francisco longing</td>\n",
       "    </tr>\n",
       "    <tr>\n",
       "      <th>9</th>\n",
       "      <td>odin alex mason</td>\n",
       "      <td>odin alex mason</td>\n",
       "    </tr>\n",
       "  </tbody>\n",
       "</table>\n",
       "</div>"
      ],
      "text/plain": [
       "             search_term         clean_keywords\n",
       "0          winter killer          winter killer\n",
       "1       heat magazine uk       heat magazine uk\n",
       "2          josie russell          josie russell\n",
       "3                 korean                 korean\n",
       "4               iron fey               iron fey\n",
       "5                    ben                    ben\n",
       "6     alan garner kindle     alan garner kindle\n",
       "7               she hulk               she hulk\n",
       "8  san francisco longing  san francisco longing\n",
       "9        odin alex mason        odin alex mason"
      ]
     },
     "execution_count": 215,
     "metadata": {},
     "output_type": "execute_result"
    }
   ],
   "source": [
    "keywords_df.head(10)"
   ]
  },
  {
   "cell_type": "code",
   "execution_count": 216,
   "metadata": {
    "id": "1MD1P9u71O3V"
   },
   "outputs": [],
   "source": [
    "keywords_df['clean_keywords'] = keywords_df['clean_keywords'].apply(lambda x: get_clean_text(x))"
   ]
  },
  {
   "cell_type": "code",
   "execution_count": 217,
   "metadata": {
    "colab": {
     "base_uri": "https://localhost:8080/",
     "height": 363
    },
    "id": "aao-hex31gFq",
    "outputId": "25e68a89-bc49-4055-e5ef-3682c6b697d1"
   },
   "outputs": [
    {
     "data": {
      "text/html": [
       "<div>\n",
       "<style scoped>\n",
       "    .dataframe tbody tr th:only-of-type {\n",
       "        vertical-align: middle;\n",
       "    }\n",
       "\n",
       "    .dataframe tbody tr th {\n",
       "        vertical-align: top;\n",
       "    }\n",
       "\n",
       "    .dataframe thead th {\n",
       "        text-align: right;\n",
       "    }\n",
       "</style>\n",
       "<table border=\"1\" class=\"dataframe\">\n",
       "  <thead>\n",
       "    <tr style=\"text-align: right;\">\n",
       "      <th></th>\n",
       "      <th>search_term</th>\n",
       "      <th>clean_keywords</th>\n",
       "    </tr>\n",
       "  </thead>\n",
       "  <tbody>\n",
       "    <tr>\n",
       "      <th>0</th>\n",
       "      <td>winter killer</td>\n",
       "      <td>winter killer</td>\n",
       "    </tr>\n",
       "    <tr>\n",
       "      <th>1</th>\n",
       "      <td>heat magazine uk</td>\n",
       "      <td>heat magazine uk</td>\n",
       "    </tr>\n",
       "    <tr>\n",
       "      <th>2</th>\n",
       "      <td>josie russell</td>\n",
       "      <td>josie russell</td>\n",
       "    </tr>\n",
       "    <tr>\n",
       "      <th>3</th>\n",
       "      <td>korean</td>\n",
       "      <td>korean</td>\n",
       "    </tr>\n",
       "    <tr>\n",
       "      <th>4</th>\n",
       "      <td>iron fey</td>\n",
       "      <td>iron fey</td>\n",
       "    </tr>\n",
       "    <tr>\n",
       "      <th>5</th>\n",
       "      <td>ben</td>\n",
       "      <td>ben</td>\n",
       "    </tr>\n",
       "    <tr>\n",
       "      <th>6</th>\n",
       "      <td>alan garner kindle</td>\n",
       "      <td>alan garner kindle</td>\n",
       "    </tr>\n",
       "    <tr>\n",
       "      <th>7</th>\n",
       "      <td>she hulk</td>\n",
       "      <td>hulk</td>\n",
       "    </tr>\n",
       "    <tr>\n",
       "      <th>8</th>\n",
       "      <td>san francisco longing</td>\n",
       "      <td>san francisco longing</td>\n",
       "    </tr>\n",
       "    <tr>\n",
       "      <th>9</th>\n",
       "      <td>odin alex mason</td>\n",
       "      <td>odin alex mason</td>\n",
       "    </tr>\n",
       "  </tbody>\n",
       "</table>\n",
       "</div>"
      ],
      "text/plain": [
       "             search_term         clean_keywords\n",
       "0          winter killer          winter killer\n",
       "1       heat magazine uk       heat magazine uk\n",
       "2          josie russell          josie russell\n",
       "3                 korean                 korean\n",
       "4               iron fey               iron fey\n",
       "5                    ben                    ben\n",
       "6     alan garner kindle     alan garner kindle\n",
       "7               she hulk                   hulk\n",
       "8  san francisco longing  san francisco longing\n",
       "9        odin alex mason        odin alex mason"
      ]
     },
     "execution_count": 217,
     "metadata": {},
     "output_type": "execute_result"
    }
   ],
   "source": [
    "keywords_df.head(10)"
   ]
  },
  {
   "cell_type": "code",
   "execution_count": null,
   "metadata": {
    "id": "1bpFhW391i85"
   },
   "outputs": [],
   "source": []
  },
  {
   "cell_type": "markdown",
   "metadata": {
    "id": "-VMof02nO-mk"
   },
   "source": [
    "# Vectorizing Methods"
   ]
  },
  {
   "cell_type": "markdown",
   "metadata": {
    "id": "SwiAIkvzPNrL"
   },
   "source": [
    "There are a number of methods available to convert text data into its numerical form, we considered the following methods:\n",
    "\n",
    "* **Bag-of-words (BoW)**: This simply counts the occurrences of words in a document\n",
    "\n",
    "* **TF-IDF**: This assigns a weight to each word based on its importance in the document and the entire corpus. TF-IDF overcomes the limitation of BoW, which is assigning equal importance to all words. By giving higher weight to rare words, TF-IDF can better capture the meaning of a document. However, both methods ignore word order and context, resulting in a loss of semantic information.\n",
    "\n",
    "* **GloVe**: Represents words as dense vectors in a continuous space. These embeddings capture semantic relationships between words\n",
    "\n",
    "* **BERT**: A transformer-based model that creates context-aware word embeddings. It captures bidirectional context by pre-training on a large corpus.\n",
    "\n",
    "\n",
    "\n"
   ]
  },
  {
   "cell_type": "markdown",
   "metadata": {
    "id": "eZlJTUJmPOLU"
   },
   "source": [
    "In this document, we will look at TF-IDF, GloVe, and BERT"
   ]
  },
  {
   "cell_type": "markdown",
   "metadata": {
    "id": "GgpRCCjg1vce"
   },
   "source": [
    "## TF-IDF"
   ]
  },
  {
   "cell_type": "code",
   "execution_count": 218,
   "metadata": {
    "id": "5feJZnUh1xFi"
   },
   "outputs": [],
   "source": [
    "tfidf_vectorizer = TfidfVectorizer(max_features=5000)"
   ]
  },
  {
   "cell_type": "code",
   "execution_count": 219,
   "metadata": {
    "id": "Zsn2Nf_W16FL"
   },
   "outputs": [],
   "source": [
    "X_metadata = tfidf_vectorizer.fit_transform(metadata_df['clean_content'])\n",
    "X_keywords = tfidf_vectorizer.transform(keywords_df['clean_keywords'])"
   ]
  },
  {
   "cell_type": "code",
   "execution_count": 220,
   "metadata": {
    "colab": {
     "base_uri": "https://localhost:8080/"
    },
    "id": "vf9VQWdA2lbG",
    "outputId": "93be4350-e2a8-4084-b6fe-3d4f25b72fd3"
   },
   "outputs": [
    {
     "data": {
      "text/plain": [
       "(500, 5000)"
      ]
     },
     "execution_count": 220,
     "metadata": {},
     "output_type": "execute_result"
    }
   ],
   "source": [
    "X_metadata.shape"
   ]
  },
  {
   "cell_type": "markdown",
   "metadata": {
    "id": "0TybpFNM2m0l"
   },
   "source": [
    "## Cosine Similarity with TF-IDF Vector"
   ]
  },
  {
   "cell_type": "code",
   "execution_count": 221,
   "metadata": {
    "id": "PJKp2EKA2pMy"
   },
   "outputs": [],
   "source": [
    "similarities = cosine_similarity(X_metadata, X_keywords)"
   ]
  },
  {
   "cell_type": "code",
   "execution_count": 222,
   "metadata": {
    "colab": {
     "base_uri": "https://localhost:8080/"
    },
    "id": "f8EQ5lSA22c9",
    "outputId": "a495bd60-b8dd-4a8a-de08-c3ebbf11df81"
   },
   "outputs": [
    {
     "data": {
      "text/plain": [
       "76707"
      ]
     },
     "execution_count": 222,
     "metadata": {},
     "output_type": "execute_result"
    }
   ],
   "source": [
    "len(similarities[0])"
   ]
  },
  {
   "cell_type": "code",
   "execution_count": 223,
   "metadata": {
    "colab": {
     "base_uri": "https://localhost:8080/"
    },
    "id": "370REv1425OK",
    "outputId": "91ac2889-88cb-4646-8d78-2f8409382221"
   },
   "outputs": [
    {
     "data": {
      "text/plain": [
       "(500, 76707)"
      ]
     },
     "execution_count": 223,
     "metadata": {},
     "output_type": "execute_result"
    }
   ],
   "source": [
    "similarities.shape"
   ]
  },
  {
   "cell_type": "code",
   "execution_count": 224,
   "metadata": {
    "colab": {
     "base_uri": "https://localhost:8080/"
    },
    "id": "5y6c3ZyaNC_l",
    "outputId": "f3d44423-364f-4178-ba6d-f5537d220c1f"
   },
   "outputs": [
    {
     "data": {
      "text/plain": [
       "0.8987579607093636"
      ]
     },
     "execution_count": 224,
     "metadata": {},
     "output_type": "execute_result"
    }
   ],
   "source": [
    "similarities.max()"
   ]
  },
  {
   "cell_type": "code",
   "execution_count": 225,
   "metadata": {
    "colab": {
     "base_uri": "https://localhost:8080/"
    },
    "id": "F_cmUE08WMh1",
    "outputId": "c46f4e7d-36a2-4d47-89de-2b99a972e4da"
   },
   "outputs": [
    {
     "data": {
      "text/plain": [
       "0.003018143822553078"
      ]
     },
     "execution_count": 225,
     "metadata": {},
     "output_type": "execute_result"
    }
   ],
   "source": [
    "similarities.mean()"
   ]
  },
  {
   "cell_type": "code",
   "execution_count": 226,
   "metadata": {
    "colab": {
     "base_uri": "https://localhost:8080/"
    },
    "id": "Z9B2n-1LWQ9c",
    "outputId": "b86908b9-48b9-435d-d720-29784a4046a4"
   },
   "outputs": [
    {
     "data": {
      "text/plain": [
       "0.0"
      ]
     },
     "execution_count": 226,
     "metadata": {},
     "output_type": "execute_result"
    }
   ],
   "source": [
    "similarities.min()"
   ]
  },
  {
   "cell_type": "code",
   "execution_count": 227,
   "metadata": {
    "colab": {
     "base_uri": "https://localhost:8080/"
    },
    "id": "ZDOVlu-_NW3R",
    "outputId": "9ca6958f-13f8-4d6c-e109-f774a44b4ca1"
   },
   "outputs": [
    {
     "data": {
      "text/plain": [
       "76707"
      ]
     },
     "execution_count": 227,
     "metadata": {},
     "output_type": "execute_result"
    }
   ],
   "source": [
    "len(similarities[0])"
   ]
  },
  {
   "cell_type": "code",
   "execution_count": 228,
   "metadata": {
    "colab": {
     "base_uri": "https://localhost:8080/"
    },
    "id": "8Uqqz9doPIFZ",
    "outputId": "0dbe938b-71ae-4a5c-d4d5-854de06f6491"
   },
   "outputs": [
    {
     "data": {
      "text/plain": [
       "array([    0, 49877, 49878, ...,  4310, 41347, 73322])"
      ]
     },
     "execution_count": 228,
     "metadata": {},
     "output_type": "execute_result"
    }
   ],
   "source": [
    "similarities[0].argsort()"
   ]
  },
  {
   "cell_type": "code",
   "execution_count": 229,
   "metadata": {
    "colab": {
     "base_uri": "https://localhost:8080/"
    },
    "id": "BcPUS69iN19Y",
    "outputId": "ea33ccf8-a4bd-40c8-823b-3ce95ec0c584"
   },
   "outputs": [
    {
     "data": {
      "text/plain": [
       "array([12937, 51487, 55733, 17338, 36138, 45068, 67217,  4310, 41347,\n",
       "       73322])"
      ]
     },
     "execution_count": 229,
     "metadata": {},
     "output_type": "execute_result"
    }
   ],
   "source": [
    "similarities[0].argsort()[-10:]"
   ]
  },
  {
   "cell_type": "code",
   "execution_count": 230,
   "metadata": {
    "colab": {
     "base_uri": "https://localhost:8080/"
    },
    "id": "qV745PmfQNIp",
    "outputId": "2bf583fd-81f8-4933-9084-d005c746a748"
   },
   "outputs": [
    {
     "data": {
      "text/plain": [
       "array([73322, 41347,  4310, 67217, 45068, 36138, 17338, 55733, 51487,\n",
       "       12937])"
      ]
     },
     "execution_count": 230,
     "metadata": {},
     "output_type": "execute_result"
    }
   ],
   "source": [
    "similarities[0].argsort()[-10:][::-1]"
   ]
  },
  {
   "cell_type": "code",
   "execution_count": 231,
   "metadata": {
    "colab": {
     "base_uri": "https://localhost:8080/"
    },
    "id": "jP_mWHJ7OVh_",
    "outputId": "1dd520b3-cec3-43aa-cdee-e4a6679b0034"
   },
   "outputs": [
    {
     "data": {
      "text/plain": [
       "0.5285209771131831"
      ]
     },
     "execution_count": 231,
     "metadata": {},
     "output_type": "execute_result"
    }
   ],
   "source": [
    "similarities[0][73322]"
   ]
  },
  {
   "cell_type": "code",
   "execution_count": 232,
   "metadata": {
    "colab": {
     "base_uri": "https://localhost:8080/"
    },
    "id": "SPuPdXixN1zF",
    "outputId": "c50ed20e-13b0-470d-9bbc-19adf6850382"
   },
   "outputs": [
    {
     "data": {
      "text/plain": [
       "array([0.        , 0.        , 0.        , ..., 0.        , 0.02893859,\n",
       "       0.02893859])"
      ]
     },
     "execution_count": 232,
     "metadata": {},
     "output_type": "execute_result"
    }
   ],
   "source": [
    "similarities[0]"
   ]
  },
  {
   "cell_type": "code",
   "execution_count": null,
   "metadata": {
    "id": "5MY6wA7MN1oj"
   },
   "outputs": [],
   "source": []
  },
  {
   "cell_type": "code",
   "execution_count": 233,
   "metadata": {
    "id": "ECE7CFOQ3MmR"
   },
   "outputs": [],
   "source": [
    "num_top_keywords = 5  # This is the number of search terms with each book"
   ]
  },
  {
   "cell_type": "code",
   "execution_count": 234,
   "metadata": {
    "id": "YtfbD37x6wbF"
   },
   "outputs": [],
   "source": [
    "results = []"
   ]
  },
  {
   "cell_type": "code",
   "execution_count": 235,
   "metadata": {
    "id": "7xcA9vFs7Oqn"
   },
   "outputs": [],
   "source": [
    "book_metadata = metadata_df['clean_content'].copy()\n",
    "keywords = keywords_df['clean_keywords'].copy()"
   ]
  },
  {
   "cell_type": "code",
   "execution_count": 236,
   "metadata": {
    "id": "S4Q_hAKD7srp"
   },
   "outputs": [],
   "source": [
    "book_keywords = {} # Creating a dictionary, which will contain the keywords with highest cosine similarity for each book indices. These indices will act as the dictionary key"
   ]
  },
  {
   "cell_type": "code",
   "execution_count": 237,
   "metadata": {
    "id": "dwXdK_dk3keM"
   },
   "outputs": [],
   "source": [
    "for i, book in enumerate(book_metadata):\n",
    "    top_keywords_indices = similarities[i].argsort()[-num_top_keywords:][::-1]\n",
    "    top_keywords = [keywords[idx] for idx in top_keywords_indices]\n",
    "    book_keywords[i] = top_keywords\n"
   ]
  },
  {
   "cell_type": "code",
   "execution_count": 238,
   "metadata": {
    "id": "9NVTkhid7tF5"
   },
   "outputs": [],
   "source": [
    "# book_keywords"
   ]
  },
  {
   "cell_type": "code",
   "execution_count": 239,
   "metadata": {
    "id": "4Qk1g5ZP62qR"
   },
   "outputs": [],
   "source": [
    "keywords_result = pd.Series(book_keywords)"
   ]
  },
  {
   "cell_type": "code",
   "execution_count": 240,
   "metadata": {
    "colab": {
     "base_uri": "https://localhost:8080/"
    },
    "id": "fp361_FD7omV",
    "outputId": "d00245d4-263b-4e10-e95b-73ba2eca4a8d"
   },
   "outputs": [
    {
     "data": {
      "text/plain": [
       "0    [baby wean book, wean, annabel karmel wean, we...\n",
       "1    [betrayal lie, secret lie, wilmington lie, lie...\n",
       "2    [munro, orr munro, hp munro, kresley cole munr...\n",
       "3    [expose, expose jaxson, expose edinburgh, expo...\n",
       "4    [montessori toddler, toddler, book toddler, to...\n",
       "dtype: object"
      ]
     },
     "execution_count": 240,
     "metadata": {},
     "output_type": "execute_result"
    }
   ],
   "source": [
    "keywords_result.head()"
   ]
  },
  {
   "cell_type": "code",
   "execution_count": 241,
   "metadata": {
    "colab": {
     "base_uri": "https://localhost:8080/"
    },
    "id": "8mkyAevF_sEL",
    "outputId": "48a598fa-e5d6-489c-8dc3-62337840f36a"
   },
   "outputs": [
    {
     "data": {
      "text/plain": [
       "495    [frank mansell, frank gardiner, frank worthing...\n",
       "496    [pynchon, rankin ian, ian rankin rebus, rebus ...\n",
       "497    [avery chandler, pulse jenny chandler, rise ch...\n",
       "498    [dinner guest, dinner guest, grandfather anony...\n",
       "499    [sanatorium book, sanatorium, crime thriller b...\n",
       "dtype: object"
      ]
     },
     "execution_count": 241,
     "metadata": {},
     "output_type": "execute_result"
    }
   ],
   "source": [
    "keywords_result.tail()"
   ]
  },
  {
   "cell_type": "code",
   "execution_count": 242,
   "metadata": {
    "colab": {
     "base_uri": "https://localhost:8080/",
     "height": 310
    },
    "id": "pKqjtivU_x9_",
    "outputId": "285c5225-2120-4052-d5b8-4d1defac5382"
   },
   "outputs": [
    {
     "data": {
      "text/html": [
       "<div>\n",
       "<style scoped>\n",
       "    .dataframe tbody tr th:only-of-type {\n",
       "        vertical-align: middle;\n",
       "    }\n",
       "\n",
       "    .dataframe tbody tr th {\n",
       "        vertical-align: top;\n",
       "    }\n",
       "\n",
       "    .dataframe thead th {\n",
       "        text-align: right;\n",
       "    }\n",
       "</style>\n",
       "<table border=\"1\" class=\"dataframe\">\n",
       "  <thead>\n",
       "    <tr style=\"text-align: right;\">\n",
       "      <th></th>\n",
       "      <th>id</th>\n",
       "      <th>title</th>\n",
       "      <th>description</th>\n",
       "      <th>fiction_flag</th>\n",
       "      <th>thema_codes</th>\n",
       "      <th>thema_descriptions</th>\n",
       "      <th>complete_content</th>\n",
       "      <th>clean_content</th>\n",
       "    </tr>\n",
       "  </thead>\n",
       "  <tbody>\n",
       "    <tr>\n",
       "      <th>495</th>\n",
       "      <td>495</td>\n",
       "      <td>The Frank Family That Survived</td>\n",
       "      <td>'A major contribution to our understanding of ...</td>\n",
       "      <td>non-fiction</td>\n",
       "      <td>['NHTZ1', 'DNBH', 'NHWR7', 'JBFG', '3MPBLB']</td>\n",
       "      <td>['The Holocaust', 'Biography: historical, poli...</td>\n",
       "      <td>'A major contribution to our understanding of ...</td>\n",
       "      <td>major contribution understanding second world ...</td>\n",
       "    </tr>\n",
       "    <tr>\n",
       "      <th>496</th>\n",
       "      <td>496</td>\n",
       "      <td>V.</td>\n",
       "      <td>&lt;b&gt;The first novel from the great, incomparabl...</td>\n",
       "      <td>fiction</td>\n",
       "      <td>['FBA', '1KBB-US-NAKC', '3MPQM']</td>\n",
       "      <td>['Modern and contemporary fiction: general and...</td>\n",
       "      <td>&lt;b&gt;The first novel from the great, incomparabl...</td>\n",
       "      <td>first novel great incomparable thomas pynchon ...</td>\n",
       "    </tr>\n",
       "    <tr>\n",
       "      <th>497</th>\n",
       "      <td>497</td>\n",
       "      <td>Business or Pleasure</td>\n",
       "      <td>&lt;b&gt;When Chandler Cohen accepts her next ghostw...</td>\n",
       "      <td>fiction</td>\n",
       "      <td>['FRD', 'FU', 'FQ', 'FXD']</td>\n",
       "      <td>['Modern and Contemporary romance', 'Humorous ...</td>\n",
       "      <td>&lt;b&gt;When Chandler Cohen accepts her next ghostw...</td>\n",
       "      <td>chandler cohen accept next ghostwriting gig pe...</td>\n",
       "    </tr>\n",
       "    <tr>\n",
       "      <th>498</th>\n",
       "      <td>498</td>\n",
       "      <td>The Dinner Guest</td>\n",
       "      <td>&lt;b&gt;LONGLISTED FOR THE 2018 MAN BOOKER INTERNAT...</td>\n",
       "      <td>fiction</td>\n",
       "      <td>['FBA', 'FYT', 'FXL', 'FS', '1DSE']</td>\n",
       "      <td>['Modern and contemporary fiction: general and...</td>\n",
       "      <td>&lt;b&gt;LONGLISTED FOR THE 2018 MAN BOOKER INTERNAT...</td>\n",
       "      <td>longlisted 2018 man booker international prize...</td>\n",
       "    </tr>\n",
       "    <tr>\n",
       "      <th>499</th>\n",
       "      <td>499</td>\n",
       "      <td>The Sanatorium</td>\n",
       "      <td>&lt;b&gt;'&lt;i&gt;The Sanatorium &lt;/i&gt;will keep you checki...</td>\n",
       "      <td>fiction</td>\n",
       "      <td>['FF', 'FHX', 'FFP', 'FFS', 'FXR', 'FXL', '1DF...</td>\n",
       "      <td>['Crime and mystery fiction', 'Psychological t...</td>\n",
       "      <td>&lt;b&gt;'&lt;i&gt;The Sanatorium &lt;/i&gt;will keep you checki...</td>\n",
       "      <td>sanatorium keep check shoulder spinetingling a...</td>\n",
       "    </tr>\n",
       "  </tbody>\n",
       "</table>\n",
       "</div>"
      ],
      "text/plain": [
       "      id                           title  \\\n",
       "495  495  The Frank Family That Survived   \n",
       "496  496                              V.   \n",
       "497  497            Business or Pleasure   \n",
       "498  498                The Dinner Guest   \n",
       "499  499                  The Sanatorium   \n",
       "\n",
       "                                           description fiction_flag  \\\n",
       "495  'A major contribution to our understanding of ...  non-fiction   \n",
       "496  <b>The first novel from the great, incomparabl...      fiction   \n",
       "497  <b>When Chandler Cohen accepts her next ghostw...      fiction   \n",
       "498  <b>LONGLISTED FOR THE 2018 MAN BOOKER INTERNAT...      fiction   \n",
       "499  <b>'<i>The Sanatorium </i>will keep you checki...      fiction   \n",
       "\n",
       "                                           thema_codes  \\\n",
       "495       ['NHTZ1', 'DNBH', 'NHWR7', 'JBFG', '3MPBLB']   \n",
       "496                   ['FBA', '1KBB-US-NAKC', '3MPQM']   \n",
       "497                         ['FRD', 'FU', 'FQ', 'FXD']   \n",
       "498                ['FBA', 'FYT', 'FXL', 'FS', '1DSE']   \n",
       "499  ['FF', 'FHX', 'FFP', 'FFS', 'FXR', 'FXL', '1DF...   \n",
       "\n",
       "                                    thema_descriptions  \\\n",
       "495  ['The Holocaust', 'Biography: historical, poli...   \n",
       "496  ['Modern and contemporary fiction: general and...   \n",
       "497  ['Modern and Contemporary romance', 'Humorous ...   \n",
       "498  ['Modern and contemporary fiction: general and...   \n",
       "499  ['Crime and mystery fiction', 'Psychological t...   \n",
       "\n",
       "                                      complete_content  \\\n",
       "495  'A major contribution to our understanding of ...   \n",
       "496  <b>The first novel from the great, incomparabl...   \n",
       "497  <b>When Chandler Cohen accepts her next ghostw...   \n",
       "498  <b>LONGLISTED FOR THE 2018 MAN BOOKER INTERNAT...   \n",
       "499  <b>'<i>The Sanatorium </i>will keep you checki...   \n",
       "\n",
       "                                         clean_content  \n",
       "495  major contribution understanding second world ...  \n",
       "496  first novel great incomparable thomas pynchon ...  \n",
       "497  chandler cohen accept next ghostwriting gig pe...  \n",
       "498  longlisted 2018 man booker international prize...  \n",
       "499  sanatorium keep check shoulder spinetingling a...  "
      ]
     },
     "execution_count": 242,
     "metadata": {},
     "output_type": "execute_result"
    }
   ],
   "source": [
    "metadata_df.tail()"
   ]
  },
  {
   "cell_type": "code",
   "execution_count": 243,
   "metadata": {
    "colab": {
     "base_uri": "https://localhost:8080/"
    },
    "id": "XRhioiJU_xux",
    "outputId": "5b238628-24ad-4c40-938b-66e1e4f8b8f1"
   },
   "outputs": [
    {
     "data": {
      "text/plain": [
       "(500,)"
      ]
     },
     "execution_count": 243,
     "metadata": {},
     "output_type": "execute_result"
    }
   ],
   "source": [
    "keywords_result.shape"
   ]
  },
  {
   "cell_type": "code",
   "execution_count": 244,
   "metadata": {
    "colab": {
     "base_uri": "https://localhost:8080/"
    },
    "id": "Pj5nbbMVAj3b",
    "outputId": "d95390df-74e5-4154-ef40-7918c5de2d69"
   },
   "outputs": [
    {
     "data": {
      "text/plain": [
       "270    [candle rose, poisen rose, whiskey rose, steel...\n",
       "271    [mhairi, mhairi oreilly, mhairi mcfarlane book...\n",
       "272    [food medic, delia frugal food, food arthritis...\n",
       "273    [convienance store woman, verge, toast, toast ...\n",
       "274    [read upside, read, bonny read, read comprehen...\n",
       "dtype: object"
      ]
     },
     "execution_count": 244,
     "metadata": {},
     "output_type": "execute_result"
    }
   ],
   "source": [
    "keywords_result[270:275] # These contain one of the indices where we replaced the NaNs with \"null\""
   ]
  },
  {
   "cell_type": "code",
   "execution_count": 245,
   "metadata": {
    "colab": {
     "base_uri": "https://localhost:8080/"
    },
    "id": "rYLkXr5U_xDL",
    "outputId": "bd49ee59-8f16-4ff7-f671-620c592ef1a2"
   },
   "outputs": [
    {
     "data": {
      "text/plain": [
       "(500, 8)"
      ]
     },
     "execution_count": 245,
     "metadata": {},
     "output_type": "execute_result"
    }
   ],
   "source": [
    "metadata_df.shape"
   ]
  },
  {
   "cell_type": "code",
   "execution_count": 246,
   "metadata": {
    "id": "kcTdDNtF-fXw"
   },
   "outputs": [],
   "source": [
    "result_df = pd.concat([metadata_df, keywords_result], axis = 1)"
   ]
  },
  {
   "cell_type": "code",
   "execution_count": 247,
   "metadata": {
    "colab": {
     "base_uri": "https://localhost:8080/",
     "height": 380
    },
    "id": "CzYQhYt8-oIL",
    "outputId": "57abb977-9926-47ee-8662-4842c43f7a46"
   },
   "outputs": [
    {
     "data": {
      "text/html": [
       "<div>\n",
       "<style scoped>\n",
       "    .dataframe tbody tr th:only-of-type {\n",
       "        vertical-align: middle;\n",
       "    }\n",
       "\n",
       "    .dataframe tbody tr th {\n",
       "        vertical-align: top;\n",
       "    }\n",
       "\n",
       "    .dataframe thead th {\n",
       "        text-align: right;\n",
       "    }\n",
       "</style>\n",
       "<table border=\"1\" class=\"dataframe\">\n",
       "  <thead>\n",
       "    <tr style=\"text-align: right;\">\n",
       "      <th></th>\n",
       "      <th>id</th>\n",
       "      <th>title</th>\n",
       "      <th>description</th>\n",
       "      <th>fiction_flag</th>\n",
       "      <th>thema_codes</th>\n",
       "      <th>thema_descriptions</th>\n",
       "      <th>complete_content</th>\n",
       "      <th>clean_content</th>\n",
       "      <th>0</th>\n",
       "    </tr>\n",
       "  </thead>\n",
       "  <tbody>\n",
       "    <tr>\n",
       "      <th>0</th>\n",
       "      <td>0</td>\n",
       "      <td>How to Wean Your Baby</td>\n",
       "      <td>&lt;b&gt;THE &lt;i&gt;SUNDAY TIMES &lt;/i&gt;BESTSELLER&lt;/b&gt;\\r\\n&lt;...</td>\n",
       "      <td>non-fiction</td>\n",
       "      <td>['VFX', 'WBH', 'VF', 'VS']</td>\n",
       "      <td>['Parenting: advice and issues', 'Health and w...</td>\n",
       "      <td>&lt;b&gt;THE &lt;i&gt;SUNDAY TIMES &lt;/i&gt;BESTSELLER&lt;/b&gt;\\r\\n&lt;...</td>\n",
       "      <td>sunday times bestseller charlotte give confide...</td>\n",
       "      <td>[baby wean book, wean, annabel karmel wean, we...</td>\n",
       "    </tr>\n",
       "    <tr>\n",
       "      <th>1</th>\n",
       "      <td>1</td>\n",
       "      <td>Horse Under Water</td>\n",
       "      <td>A sunken U-Boat has lain undisturbed on the At...</td>\n",
       "      <td>fiction</td>\n",
       "      <td>['FHD', 'FV', 'FJ', '1DSP-PT-P']</td>\n",
       "      <td>['Espionage and spy thriller', 'Historical fic...</td>\n",
       "      <td>A sunken U-Boat has lain undisturbed on the At...</td>\n",
       "      <td>sunken uboat lie undisturbed atlantic ocean fl...</td>\n",
       "      <td>[betrayal lie, secret lie, wilmington lie, lie...</td>\n",
       "    </tr>\n",
       "    <tr>\n",
       "      <th>2</th>\n",
       "      <td>2</td>\n",
       "      <td>Lives of Girls and Women</td>\n",
       "      <td>&lt;b&gt;The only novel from bestselling author Alic...</td>\n",
       "      <td>fiction</td>\n",
       "      <td>['FBA', 'FC', 'FXB', '1KBC-CA-O']</td>\n",
       "      <td>['Modern and contemporary fiction: general and...</td>\n",
       "      <td>&lt;b&gt;The only novel from bestselling author Alic...</td>\n",
       "      <td>novel bestselling author alice munro winner no...</td>\n",
       "      <td>[munro, orr munro, hp munro, kresley cole munr...</td>\n",
       "    </tr>\n",
       "    <tr>\n",
       "      <th>3</th>\n",
       "      <td>3</td>\n",
       "      <td>The Precipice</td>\n",
       "      <td>In this powerful collection of interviews, Noa...</td>\n",
       "      <td>non-fiction</td>\n",
       "      <td>['JPB', 'QDTS', 'JPF', 'KCS', 'DNP', 'RNT']</td>\n",
       "      <td>['Comparative politics', 'Social and political...</td>\n",
       "      <td>In this powerful collection of interviews, Noa...</td>\n",
       "      <td>powerful collection interview noam chomsky exp...</td>\n",
       "      <td>[expose, expose jaxson, expose edinburgh, expo...</td>\n",
       "    </tr>\n",
       "    <tr>\n",
       "      <th>4</th>\n",
       "      <td>4</td>\n",
       "      <td>Little Wins</td>\n",
       "      <td>There are some 400 million people worldwide wh...</td>\n",
       "      <td>non-fiction</td>\n",
       "      <td>['KJH', 'KJMB', 'KJW', 'VSC', 'VSPM', 'JMC']</td>\n",
       "      <td>['Entrepreneurship / Start-ups', 'Management: ...</td>\n",
       "      <td>There are some 400 million people worldwide wh...</td>\n",
       "      <td>400 million people worldwide whose creativity ...</td>\n",
       "      <td>[montessori toddler, toddler, book toddler, to...</td>\n",
       "    </tr>\n",
       "  </tbody>\n",
       "</table>\n",
       "</div>"
      ],
      "text/plain": [
       "   id                     title  \\\n",
       "0   0     How to Wean Your Baby   \n",
       "1   1         Horse Under Water   \n",
       "2   2  Lives of Girls and Women   \n",
       "3   3             The Precipice   \n",
       "4   4               Little Wins   \n",
       "\n",
       "                                         description fiction_flag  \\\n",
       "0  <b>THE <i>SUNDAY TIMES </i>BESTSELLER</b>\\r\\n<...  non-fiction   \n",
       "1  A sunken U-Boat has lain undisturbed on the At...      fiction   \n",
       "2  <b>The only novel from bestselling author Alic...      fiction   \n",
       "3  In this powerful collection of interviews, Noa...  non-fiction   \n",
       "4  There are some 400 million people worldwide wh...  non-fiction   \n",
       "\n",
       "                                    thema_codes  \\\n",
       "0                    ['VFX', 'WBH', 'VF', 'VS']   \n",
       "1              ['FHD', 'FV', 'FJ', '1DSP-PT-P']   \n",
       "2             ['FBA', 'FC', 'FXB', '1KBC-CA-O']   \n",
       "3   ['JPB', 'QDTS', 'JPF', 'KCS', 'DNP', 'RNT']   \n",
       "4  ['KJH', 'KJMB', 'KJW', 'VSC', 'VSPM', 'JMC']   \n",
       "\n",
       "                                  thema_descriptions  \\\n",
       "0  ['Parenting: advice and issues', 'Health and w...   \n",
       "1  ['Espionage and spy thriller', 'Historical fic...   \n",
       "2  ['Modern and contemporary fiction: general and...   \n",
       "3  ['Comparative politics', 'Social and political...   \n",
       "4  ['Entrepreneurship / Start-ups', 'Management: ...   \n",
       "\n",
       "                                    complete_content  \\\n",
       "0  <b>THE <i>SUNDAY TIMES </i>BESTSELLER</b>\\r\\n<...   \n",
       "1  A sunken U-Boat has lain undisturbed on the At...   \n",
       "2  <b>The only novel from bestselling author Alic...   \n",
       "3  In this powerful collection of interviews, Noa...   \n",
       "4  There are some 400 million people worldwide wh...   \n",
       "\n",
       "                                       clean_content  \\\n",
       "0  sunday times bestseller charlotte give confide...   \n",
       "1  sunken uboat lie undisturbed atlantic ocean fl...   \n",
       "2  novel bestselling author alice munro winner no...   \n",
       "3  powerful collection interview noam chomsky exp...   \n",
       "4  400 million people worldwide whose creativity ...   \n",
       "\n",
       "                                                   0  \n",
       "0  [baby wean book, wean, annabel karmel wean, we...  \n",
       "1  [betrayal lie, secret lie, wilmington lie, lie...  \n",
       "2  [munro, orr munro, hp munro, kresley cole munr...  \n",
       "3  [expose, expose jaxson, expose edinburgh, expo...  \n",
       "4  [montessori toddler, toddler, book toddler, to...  "
      ]
     },
     "execution_count": 247,
     "metadata": {},
     "output_type": "execute_result"
    }
   ],
   "source": [
    "result_df.head()"
   ]
  },
  {
   "cell_type": "code",
   "execution_count": 248,
   "metadata": {
    "colab": {
     "base_uri": "https://localhost:8080/"
    },
    "id": "K5htw5mn-pzC",
    "outputId": "f53d580b-d6d0-4522-a271-d6b52c4df369"
   },
   "outputs": [
    {
     "data": {
      "text/plain": [
       "(500, 9)"
      ]
     },
     "execution_count": 248,
     "metadata": {},
     "output_type": "execute_result"
    }
   ],
   "source": [
    "result_df.shape"
   ]
  },
  {
   "cell_type": "code",
   "execution_count": 249,
   "metadata": {
    "colab": {
     "base_uri": "https://localhost:8080/",
     "height": 380
    },
    "id": "bJHJ0Fj7-sW4",
    "outputId": "ac75369a-a06b-452f-d773-c030b61db9b1"
   },
   "outputs": [
    {
     "data": {
      "text/html": [
       "<div>\n",
       "<style scoped>\n",
       "    .dataframe tbody tr th:only-of-type {\n",
       "        vertical-align: middle;\n",
       "    }\n",
       "\n",
       "    .dataframe tbody tr th {\n",
       "        vertical-align: top;\n",
       "    }\n",
       "\n",
       "    .dataframe thead th {\n",
       "        text-align: right;\n",
       "    }\n",
       "</style>\n",
       "<table border=\"1\" class=\"dataframe\">\n",
       "  <thead>\n",
       "    <tr style=\"text-align: right;\">\n",
       "      <th></th>\n",
       "      <th>id</th>\n",
       "      <th>title</th>\n",
       "      <th>description</th>\n",
       "      <th>fiction_flag</th>\n",
       "      <th>thema_codes</th>\n",
       "      <th>thema_descriptions</th>\n",
       "      <th>complete_content</th>\n",
       "      <th>clean_content</th>\n",
       "      <th>0</th>\n",
       "    </tr>\n",
       "  </thead>\n",
       "  <tbody>\n",
       "    <tr>\n",
       "      <th>495</th>\n",
       "      <td>495</td>\n",
       "      <td>The Frank Family That Survived</td>\n",
       "      <td>'A major contribution to our understanding of ...</td>\n",
       "      <td>non-fiction</td>\n",
       "      <td>['NHTZ1', 'DNBH', 'NHWR7', 'JBFG', '3MPBLB']</td>\n",
       "      <td>['The Holocaust', 'Biography: historical, poli...</td>\n",
       "      <td>'A major contribution to our understanding of ...</td>\n",
       "      <td>major contribution understanding second world ...</td>\n",
       "      <td>[frank mansell, frank gardiner, frank worthing...</td>\n",
       "    </tr>\n",
       "    <tr>\n",
       "      <th>496</th>\n",
       "      <td>496</td>\n",
       "      <td>V.</td>\n",
       "      <td>&lt;b&gt;The first novel from the great, incomparabl...</td>\n",
       "      <td>fiction</td>\n",
       "      <td>['FBA', '1KBB-US-NAKC', '3MPQM']</td>\n",
       "      <td>['Modern and contemporary fiction: general and...</td>\n",
       "      <td>&lt;b&gt;The first novel from the great, incomparabl...</td>\n",
       "      <td>first novel great incomparable thomas pynchon ...</td>\n",
       "      <td>[pynchon, rankin ian, ian rankin rebus, rebus ...</td>\n",
       "    </tr>\n",
       "    <tr>\n",
       "      <th>497</th>\n",
       "      <td>497</td>\n",
       "      <td>Business or Pleasure</td>\n",
       "      <td>&lt;b&gt;When Chandler Cohen accepts her next ghostw...</td>\n",
       "      <td>fiction</td>\n",
       "      <td>['FRD', 'FU', 'FQ', 'FXD']</td>\n",
       "      <td>['Modern and Contemporary romance', 'Humorous ...</td>\n",
       "      <td>&lt;b&gt;When Chandler Cohen accepts her next ghostw...</td>\n",
       "      <td>chandler cohen accept next ghostwriting gig pe...</td>\n",
       "      <td>[avery chandler, pulse jenny chandler, rise ch...</td>\n",
       "    </tr>\n",
       "    <tr>\n",
       "      <th>498</th>\n",
       "      <td>498</td>\n",
       "      <td>The Dinner Guest</td>\n",
       "      <td>&lt;b&gt;LONGLISTED FOR THE 2018 MAN BOOKER INTERNAT...</td>\n",
       "      <td>fiction</td>\n",
       "      <td>['FBA', 'FYT', 'FXL', 'FS', '1DSE']</td>\n",
       "      <td>['Modern and contemporary fiction: general and...</td>\n",
       "      <td>&lt;b&gt;LONGLISTED FOR THE 2018 MAN BOOKER INTERNAT...</td>\n",
       "      <td>longlisted 2018 man booker international prize...</td>\n",
       "      <td>[dinner guest, dinner guest, grandfather anony...</td>\n",
       "    </tr>\n",
       "    <tr>\n",
       "      <th>499</th>\n",
       "      <td>499</td>\n",
       "      <td>The Sanatorium</td>\n",
       "      <td>&lt;b&gt;'&lt;i&gt;The Sanatorium &lt;/i&gt;will keep you checki...</td>\n",
       "      <td>fiction</td>\n",
       "      <td>['FF', 'FHX', 'FFP', 'FFS', 'FXR', 'FXL', '1DF...</td>\n",
       "      <td>['Crime and mystery fiction', 'Psychological t...</td>\n",
       "      <td>&lt;b&gt;'&lt;i&gt;The Sanatorium &lt;/i&gt;will keep you checki...</td>\n",
       "      <td>sanatorium keep check shoulder spinetingling a...</td>\n",
       "      <td>[sanatorium book, sanatorium, crime thriller b...</td>\n",
       "    </tr>\n",
       "  </tbody>\n",
       "</table>\n",
       "</div>"
      ],
      "text/plain": [
       "      id                           title  \\\n",
       "495  495  The Frank Family That Survived   \n",
       "496  496                              V.   \n",
       "497  497            Business or Pleasure   \n",
       "498  498                The Dinner Guest   \n",
       "499  499                  The Sanatorium   \n",
       "\n",
       "                                           description fiction_flag  \\\n",
       "495  'A major contribution to our understanding of ...  non-fiction   \n",
       "496  <b>The first novel from the great, incomparabl...      fiction   \n",
       "497  <b>When Chandler Cohen accepts her next ghostw...      fiction   \n",
       "498  <b>LONGLISTED FOR THE 2018 MAN BOOKER INTERNAT...      fiction   \n",
       "499  <b>'<i>The Sanatorium </i>will keep you checki...      fiction   \n",
       "\n",
       "                                           thema_codes  \\\n",
       "495       ['NHTZ1', 'DNBH', 'NHWR7', 'JBFG', '3MPBLB']   \n",
       "496                   ['FBA', '1KBB-US-NAKC', '3MPQM']   \n",
       "497                         ['FRD', 'FU', 'FQ', 'FXD']   \n",
       "498                ['FBA', 'FYT', 'FXL', 'FS', '1DSE']   \n",
       "499  ['FF', 'FHX', 'FFP', 'FFS', 'FXR', 'FXL', '1DF...   \n",
       "\n",
       "                                    thema_descriptions  \\\n",
       "495  ['The Holocaust', 'Biography: historical, poli...   \n",
       "496  ['Modern and contemporary fiction: general and...   \n",
       "497  ['Modern and Contemporary romance', 'Humorous ...   \n",
       "498  ['Modern and contemporary fiction: general and...   \n",
       "499  ['Crime and mystery fiction', 'Psychological t...   \n",
       "\n",
       "                                      complete_content  \\\n",
       "495  'A major contribution to our understanding of ...   \n",
       "496  <b>The first novel from the great, incomparabl...   \n",
       "497  <b>When Chandler Cohen accepts her next ghostw...   \n",
       "498  <b>LONGLISTED FOR THE 2018 MAN BOOKER INTERNAT...   \n",
       "499  <b>'<i>The Sanatorium </i>will keep you checki...   \n",
       "\n",
       "                                         clean_content  \\\n",
       "495  major contribution understanding second world ...   \n",
       "496  first novel great incomparable thomas pynchon ...   \n",
       "497  chandler cohen accept next ghostwriting gig pe...   \n",
       "498  longlisted 2018 man booker international prize...   \n",
       "499  sanatorium keep check shoulder spinetingling a...   \n",
       "\n",
       "                                                     0  \n",
       "495  [frank mansell, frank gardiner, frank worthing...  \n",
       "496  [pynchon, rankin ian, ian rankin rebus, rebus ...  \n",
       "497  [avery chandler, pulse jenny chandler, rise ch...  \n",
       "498  [dinner guest, dinner guest, grandfather anony...  \n",
       "499  [sanatorium book, sanatorium, crime thriller b...  "
      ]
     },
     "execution_count": 249,
     "metadata": {},
     "output_type": "execute_result"
    }
   ],
   "source": [
    "result_df.tail()"
   ]
  },
  {
   "cell_type": "code",
   "execution_count": 250,
   "metadata": {
    "id": "t8tbbaq4_btr"
   },
   "outputs": [],
   "source": [
    "result_df.rename(columns = {0: \"search_term\"}, inplace=True)"
   ]
  },
  {
   "cell_type": "code",
   "execution_count": 251,
   "metadata": {
    "colab": {
     "base_uri": "https://localhost:8080/",
     "height": 380
    },
    "id": "Ho9f1nfkCb_3",
    "outputId": "3b081ce6-ec91-45c8-bed7-09c8e1d4c801"
   },
   "outputs": [
    {
     "data": {
      "text/html": [
       "<div>\n",
       "<style scoped>\n",
       "    .dataframe tbody tr th:only-of-type {\n",
       "        vertical-align: middle;\n",
       "    }\n",
       "\n",
       "    .dataframe tbody tr th {\n",
       "        vertical-align: top;\n",
       "    }\n",
       "\n",
       "    .dataframe thead th {\n",
       "        text-align: right;\n",
       "    }\n",
       "</style>\n",
       "<table border=\"1\" class=\"dataframe\">\n",
       "  <thead>\n",
       "    <tr style=\"text-align: right;\">\n",
       "      <th></th>\n",
       "      <th>id</th>\n",
       "      <th>title</th>\n",
       "      <th>description</th>\n",
       "      <th>fiction_flag</th>\n",
       "      <th>thema_codes</th>\n",
       "      <th>thema_descriptions</th>\n",
       "      <th>complete_content</th>\n",
       "      <th>clean_content</th>\n",
       "      <th>search_term</th>\n",
       "    </tr>\n",
       "  </thead>\n",
       "  <tbody>\n",
       "    <tr>\n",
       "      <th>495</th>\n",
       "      <td>495</td>\n",
       "      <td>The Frank Family That Survived</td>\n",
       "      <td>'A major contribution to our understanding of ...</td>\n",
       "      <td>non-fiction</td>\n",
       "      <td>['NHTZ1', 'DNBH', 'NHWR7', 'JBFG', '3MPBLB']</td>\n",
       "      <td>['The Holocaust', 'Biography: historical, poli...</td>\n",
       "      <td>'A major contribution to our understanding of ...</td>\n",
       "      <td>major contribution understanding second world ...</td>\n",
       "      <td>[frank mansell, frank gardiner, frank worthing...</td>\n",
       "    </tr>\n",
       "    <tr>\n",
       "      <th>496</th>\n",
       "      <td>496</td>\n",
       "      <td>V.</td>\n",
       "      <td>&lt;b&gt;The first novel from the great, incomparabl...</td>\n",
       "      <td>fiction</td>\n",
       "      <td>['FBA', '1KBB-US-NAKC', '3MPQM']</td>\n",
       "      <td>['Modern and contemporary fiction: general and...</td>\n",
       "      <td>&lt;b&gt;The first novel from the great, incomparabl...</td>\n",
       "      <td>first novel great incomparable thomas pynchon ...</td>\n",
       "      <td>[pynchon, rankin ian, ian rankin rebus, rebus ...</td>\n",
       "    </tr>\n",
       "    <tr>\n",
       "      <th>497</th>\n",
       "      <td>497</td>\n",
       "      <td>Business or Pleasure</td>\n",
       "      <td>&lt;b&gt;When Chandler Cohen accepts her next ghostw...</td>\n",
       "      <td>fiction</td>\n",
       "      <td>['FRD', 'FU', 'FQ', 'FXD']</td>\n",
       "      <td>['Modern and Contemporary romance', 'Humorous ...</td>\n",
       "      <td>&lt;b&gt;When Chandler Cohen accepts her next ghostw...</td>\n",
       "      <td>chandler cohen accept next ghostwriting gig pe...</td>\n",
       "      <td>[avery chandler, pulse jenny chandler, rise ch...</td>\n",
       "    </tr>\n",
       "    <tr>\n",
       "      <th>498</th>\n",
       "      <td>498</td>\n",
       "      <td>The Dinner Guest</td>\n",
       "      <td>&lt;b&gt;LONGLISTED FOR THE 2018 MAN BOOKER INTERNAT...</td>\n",
       "      <td>fiction</td>\n",
       "      <td>['FBA', 'FYT', 'FXL', 'FS', '1DSE']</td>\n",
       "      <td>['Modern and contemporary fiction: general and...</td>\n",
       "      <td>&lt;b&gt;LONGLISTED FOR THE 2018 MAN BOOKER INTERNAT...</td>\n",
       "      <td>longlisted 2018 man booker international prize...</td>\n",
       "      <td>[dinner guest, dinner guest, grandfather anony...</td>\n",
       "    </tr>\n",
       "    <tr>\n",
       "      <th>499</th>\n",
       "      <td>499</td>\n",
       "      <td>The Sanatorium</td>\n",
       "      <td>&lt;b&gt;'&lt;i&gt;The Sanatorium &lt;/i&gt;will keep you checki...</td>\n",
       "      <td>fiction</td>\n",
       "      <td>['FF', 'FHX', 'FFP', 'FFS', 'FXR', 'FXL', '1DF...</td>\n",
       "      <td>['Crime and mystery fiction', 'Psychological t...</td>\n",
       "      <td>&lt;b&gt;'&lt;i&gt;The Sanatorium &lt;/i&gt;will keep you checki...</td>\n",
       "      <td>sanatorium keep check shoulder spinetingling a...</td>\n",
       "      <td>[sanatorium book, sanatorium, crime thriller b...</td>\n",
       "    </tr>\n",
       "  </tbody>\n",
       "</table>\n",
       "</div>"
      ],
      "text/plain": [
       "      id                           title  \\\n",
       "495  495  The Frank Family That Survived   \n",
       "496  496                              V.   \n",
       "497  497            Business or Pleasure   \n",
       "498  498                The Dinner Guest   \n",
       "499  499                  The Sanatorium   \n",
       "\n",
       "                                           description fiction_flag  \\\n",
       "495  'A major contribution to our understanding of ...  non-fiction   \n",
       "496  <b>The first novel from the great, incomparabl...      fiction   \n",
       "497  <b>When Chandler Cohen accepts her next ghostw...      fiction   \n",
       "498  <b>LONGLISTED FOR THE 2018 MAN BOOKER INTERNAT...      fiction   \n",
       "499  <b>'<i>The Sanatorium </i>will keep you checki...      fiction   \n",
       "\n",
       "                                           thema_codes  \\\n",
       "495       ['NHTZ1', 'DNBH', 'NHWR7', 'JBFG', '3MPBLB']   \n",
       "496                   ['FBA', '1KBB-US-NAKC', '3MPQM']   \n",
       "497                         ['FRD', 'FU', 'FQ', 'FXD']   \n",
       "498                ['FBA', 'FYT', 'FXL', 'FS', '1DSE']   \n",
       "499  ['FF', 'FHX', 'FFP', 'FFS', 'FXR', 'FXL', '1DF...   \n",
       "\n",
       "                                    thema_descriptions  \\\n",
       "495  ['The Holocaust', 'Biography: historical, poli...   \n",
       "496  ['Modern and contemporary fiction: general and...   \n",
       "497  ['Modern and Contemporary romance', 'Humorous ...   \n",
       "498  ['Modern and contemporary fiction: general and...   \n",
       "499  ['Crime and mystery fiction', 'Psychological t...   \n",
       "\n",
       "                                      complete_content  \\\n",
       "495  'A major contribution to our understanding of ...   \n",
       "496  <b>The first novel from the great, incomparabl...   \n",
       "497  <b>When Chandler Cohen accepts her next ghostw...   \n",
       "498  <b>LONGLISTED FOR THE 2018 MAN BOOKER INTERNAT...   \n",
       "499  <b>'<i>The Sanatorium </i>will keep you checki...   \n",
       "\n",
       "                                         clean_content  \\\n",
       "495  major contribution understanding second world ...   \n",
       "496  first novel great incomparable thomas pynchon ...   \n",
       "497  chandler cohen accept next ghostwriting gig pe...   \n",
       "498  longlisted 2018 man booker international prize...   \n",
       "499  sanatorium keep check shoulder spinetingling a...   \n",
       "\n",
       "                                           search_term  \n",
       "495  [frank mansell, frank gardiner, frank worthing...  \n",
       "496  [pynchon, rankin ian, ian rankin rebus, rebus ...  \n",
       "497  [avery chandler, pulse jenny chandler, rise ch...  \n",
       "498  [dinner guest, dinner guest, grandfather anony...  \n",
       "499  [sanatorium book, sanatorium, crime thriller b...  "
      ]
     },
     "execution_count": 251,
     "metadata": {},
     "output_type": "execute_result"
    }
   ],
   "source": [
    "result_df.tail()"
   ]
  },
  {
   "cell_type": "code",
   "execution_count": 252,
   "metadata": {
    "colab": {
     "base_uri": "https://localhost:8080/"
    },
    "id": "29uElSzFDAt_",
    "outputId": "baaa12da-7651-447b-cecf-51f52c552833"
   },
   "outputs": [
    {
     "data": {
      "text/plain": [
       "(500, 9)"
      ]
     },
     "execution_count": 252,
     "metadata": {},
     "output_type": "execute_result"
    }
   ],
   "source": [
    "result_df.shape"
   ]
  },
  {
   "cell_type": "code",
   "execution_count": 253,
   "metadata": {
    "id": "EOnEId8EDD5O"
   },
   "outputs": [],
   "source": [
    "tfidf_output = result_df.explode('search_term')"
   ]
  },
  {
   "cell_type": "code",
   "execution_count": 254,
   "metadata": {
    "colab": {
     "base_uri": "https://localhost:8080/"
    },
    "id": "NBJ33eagDIUm",
    "outputId": "14d709d4-f69d-434f-a96e-b1ec0e1b9ef2"
   },
   "outputs": [
    {
     "data": {
      "text/plain": [
       "(2500, 9)"
      ]
     },
     "execution_count": 254,
     "metadata": {},
     "output_type": "execute_result"
    }
   ],
   "source": [
    "tfidf_output.shape"
   ]
  },
  {
   "cell_type": "code",
   "execution_count": 255,
   "metadata": {
    "colab": {
     "base_uri": "https://localhost:8080/",
     "height": 380
    },
    "id": "laoD5yILDJkh",
    "outputId": "185aa49f-4d19-4880-d9ca-873aa36b634c"
   },
   "outputs": [
    {
     "data": {
      "text/html": [
       "<div>\n",
       "<style scoped>\n",
       "    .dataframe tbody tr th:only-of-type {\n",
       "        vertical-align: middle;\n",
       "    }\n",
       "\n",
       "    .dataframe tbody tr th {\n",
       "        vertical-align: top;\n",
       "    }\n",
       "\n",
       "    .dataframe thead th {\n",
       "        text-align: right;\n",
       "    }\n",
       "</style>\n",
       "<table border=\"1\" class=\"dataframe\">\n",
       "  <thead>\n",
       "    <tr style=\"text-align: right;\">\n",
       "      <th></th>\n",
       "      <th>id</th>\n",
       "      <th>title</th>\n",
       "      <th>description</th>\n",
       "      <th>fiction_flag</th>\n",
       "      <th>thema_codes</th>\n",
       "      <th>thema_descriptions</th>\n",
       "      <th>complete_content</th>\n",
       "      <th>clean_content</th>\n",
       "      <th>search_term</th>\n",
       "    </tr>\n",
       "  </thead>\n",
       "  <tbody>\n",
       "    <tr>\n",
       "      <th>0</th>\n",
       "      <td>0</td>\n",
       "      <td>How to Wean Your Baby</td>\n",
       "      <td>&lt;b&gt;THE &lt;i&gt;SUNDAY TIMES &lt;/i&gt;BESTSELLER&lt;/b&gt;\\r\\n&lt;...</td>\n",
       "      <td>non-fiction</td>\n",
       "      <td>['VFX', 'WBH', 'VF', 'VS']</td>\n",
       "      <td>['Parenting: advice and issues', 'Health and w...</td>\n",
       "      <td>&lt;b&gt;THE &lt;i&gt;SUNDAY TIMES &lt;/i&gt;BESTSELLER&lt;/b&gt;\\r\\n&lt;...</td>\n",
       "      <td>sunday times bestseller charlotte give confide...</td>\n",
       "      <td>baby wean book</td>\n",
       "    </tr>\n",
       "    <tr>\n",
       "      <th>0</th>\n",
       "      <td>0</td>\n",
       "      <td>How to Wean Your Baby</td>\n",
       "      <td>&lt;b&gt;THE &lt;i&gt;SUNDAY TIMES &lt;/i&gt;BESTSELLER&lt;/b&gt;\\r\\n&lt;...</td>\n",
       "      <td>non-fiction</td>\n",
       "      <td>['VFX', 'WBH', 'VF', 'VS']</td>\n",
       "      <td>['Parenting: advice and issues', 'Health and w...</td>\n",
       "      <td>&lt;b&gt;THE &lt;i&gt;SUNDAY TIMES &lt;/i&gt;BESTSELLER&lt;/b&gt;\\r\\n&lt;...</td>\n",
       "      <td>sunday times bestseller charlotte give confide...</td>\n",
       "      <td>wean</td>\n",
       "    </tr>\n",
       "    <tr>\n",
       "      <th>0</th>\n",
       "      <td>0</td>\n",
       "      <td>How to Wean Your Baby</td>\n",
       "      <td>&lt;b&gt;THE &lt;i&gt;SUNDAY TIMES &lt;/i&gt;BESTSELLER&lt;/b&gt;\\r\\n&lt;...</td>\n",
       "      <td>non-fiction</td>\n",
       "      <td>['VFX', 'WBH', 'VF', 'VS']</td>\n",
       "      <td>['Parenting: advice and issues', 'Health and w...</td>\n",
       "      <td>&lt;b&gt;THE &lt;i&gt;SUNDAY TIMES &lt;/i&gt;BESTSELLER&lt;/b&gt;\\r\\n&lt;...</td>\n",
       "      <td>sunday times bestseller charlotte give confide...</td>\n",
       "      <td>annabel karmel wean</td>\n",
       "    </tr>\n",
       "    <tr>\n",
       "      <th>0</th>\n",
       "      <td>0</td>\n",
       "      <td>How to Wean Your Baby</td>\n",
       "      <td>&lt;b&gt;THE &lt;i&gt;SUNDAY TIMES &lt;/i&gt;BESTSELLER&lt;/b&gt;\\r\\n&lt;...</td>\n",
       "      <td>non-fiction</td>\n",
       "      <td>['VFX', 'WBH', 'VF', 'VS']</td>\n",
       "      <td>['Parenting: advice and issues', 'Health and w...</td>\n",
       "      <td>&lt;b&gt;THE &lt;i&gt;SUNDAY TIMES &lt;/i&gt;BESTSELLER&lt;/b&gt;\\r\\n&lt;...</td>\n",
       "      <td>sunday times bestseller charlotte give confide...</td>\n",
       "      <td>wean book</td>\n",
       "    </tr>\n",
       "    <tr>\n",
       "      <th>0</th>\n",
       "      <td>0</td>\n",
       "      <td>How to Wean Your Baby</td>\n",
       "      <td>&lt;b&gt;THE &lt;i&gt;SUNDAY TIMES &lt;/i&gt;BESTSELLER&lt;/b&gt;\\r\\n&lt;...</td>\n",
       "      <td>non-fiction</td>\n",
       "      <td>['VFX', 'WBH', 'VF', 'VS']</td>\n",
       "      <td>['Parenting: advice and issues', 'Health and w...</td>\n",
       "      <td>&lt;b&gt;THE &lt;i&gt;SUNDAY TIMES &lt;/i&gt;BESTSELLER&lt;/b&gt;\\r\\n&lt;...</td>\n",
       "      <td>sunday times bestseller charlotte give confide...</td>\n",
       "      <td>villette charlotte bronte</td>\n",
       "    </tr>\n",
       "  </tbody>\n",
       "</table>\n",
       "</div>"
      ],
      "text/plain": [
       "   id                  title  \\\n",
       "0   0  How to Wean Your Baby   \n",
       "0   0  How to Wean Your Baby   \n",
       "0   0  How to Wean Your Baby   \n",
       "0   0  How to Wean Your Baby   \n",
       "0   0  How to Wean Your Baby   \n",
       "\n",
       "                                         description fiction_flag  \\\n",
       "0  <b>THE <i>SUNDAY TIMES </i>BESTSELLER</b>\\r\\n<...  non-fiction   \n",
       "0  <b>THE <i>SUNDAY TIMES </i>BESTSELLER</b>\\r\\n<...  non-fiction   \n",
       "0  <b>THE <i>SUNDAY TIMES </i>BESTSELLER</b>\\r\\n<...  non-fiction   \n",
       "0  <b>THE <i>SUNDAY TIMES </i>BESTSELLER</b>\\r\\n<...  non-fiction   \n",
       "0  <b>THE <i>SUNDAY TIMES </i>BESTSELLER</b>\\r\\n<...  non-fiction   \n",
       "\n",
       "                  thema_codes  \\\n",
       "0  ['VFX', 'WBH', 'VF', 'VS']   \n",
       "0  ['VFX', 'WBH', 'VF', 'VS']   \n",
       "0  ['VFX', 'WBH', 'VF', 'VS']   \n",
       "0  ['VFX', 'WBH', 'VF', 'VS']   \n",
       "0  ['VFX', 'WBH', 'VF', 'VS']   \n",
       "\n",
       "                                  thema_descriptions  \\\n",
       "0  ['Parenting: advice and issues', 'Health and w...   \n",
       "0  ['Parenting: advice and issues', 'Health and w...   \n",
       "0  ['Parenting: advice and issues', 'Health and w...   \n",
       "0  ['Parenting: advice and issues', 'Health and w...   \n",
       "0  ['Parenting: advice and issues', 'Health and w...   \n",
       "\n",
       "                                    complete_content  \\\n",
       "0  <b>THE <i>SUNDAY TIMES </i>BESTSELLER</b>\\r\\n<...   \n",
       "0  <b>THE <i>SUNDAY TIMES </i>BESTSELLER</b>\\r\\n<...   \n",
       "0  <b>THE <i>SUNDAY TIMES </i>BESTSELLER</b>\\r\\n<...   \n",
       "0  <b>THE <i>SUNDAY TIMES </i>BESTSELLER</b>\\r\\n<...   \n",
       "0  <b>THE <i>SUNDAY TIMES </i>BESTSELLER</b>\\r\\n<...   \n",
       "\n",
       "                                       clean_content  \\\n",
       "0  sunday times bestseller charlotte give confide...   \n",
       "0  sunday times bestseller charlotte give confide...   \n",
       "0  sunday times bestseller charlotte give confide...   \n",
       "0  sunday times bestseller charlotte give confide...   \n",
       "0  sunday times bestseller charlotte give confide...   \n",
       "\n",
       "                 search_term  \n",
       "0             baby wean book  \n",
       "0                       wean  \n",
       "0        annabel karmel wean  \n",
       "0                  wean book  \n",
       "0  villette charlotte bronte  "
      ]
     },
     "execution_count": 255,
     "metadata": {},
     "output_type": "execute_result"
    }
   ],
   "source": [
    "tfidf_output.head()"
   ]
  },
  {
   "cell_type": "code",
   "execution_count": 256,
   "metadata": {
    "id": "FmoljUR5DMQT"
   },
   "outputs": [],
   "source": [
    "tfidf_output.to_csv(\"TfIDf_output.csv\")"
   ]
  },
  {
   "cell_type": "code",
   "execution_count": null,
   "metadata": {
    "id": "yevCHjX_FOYa"
   },
   "outputs": [],
   "source": []
  },
  {
   "cell_type": "markdown",
   "metadata": {
    "id": "F9tiFZmOx5zP"
   },
   "source": [
    "## BERT"
   ]
  },
  {
   "cell_type": "code",
   "execution_count": 257,
   "metadata": {
    "colab": {
     "base_uri": "https://localhost:8080/"
    },
    "id": "CMVC8YiGsCZD",
    "outputId": "5fe8e713-7da1-4dd6-a46d-9c00aba156d3"
   },
   "outputs": [
    {
     "name": "stdout",
     "output_type": "stream",
     "text": [
      "huggingface/tokenizers: The current process just got forked, after parallelism has already been used. Disabling parallelism to avoid deadlocks...\n",
      "To disable this warning, you can either:\n",
      "\t- Avoid using `tokenizers` before the fork if possible\n",
      "\t- Explicitly set the environment variable TOKENIZERS_PARALLELISM=(true | false)\n",
      "Requirement already satisfied: sentence-transformers in /opt/homebrew/Cellar/jupyterlab/4.0.6/libexec/lib/python3.11/site-packages (2.2.2)\n",
      "Requirement already satisfied: transformers<5.0.0,>=4.6.0 in /opt/homebrew/Cellar/jupyterlab/4.0.6/libexec/lib/python3.11/site-packages (from sentence-transformers) (4.33.3)\n",
      "Requirement already satisfied: tqdm in /opt/homebrew/Cellar/jupyterlab/4.0.6/libexec/lib/python3.11/site-packages (from sentence-transformers) (4.66.1)\n",
      "Requirement already satisfied: torch>=1.6.0 in /opt/homebrew/Cellar/jupyterlab/4.0.6/libexec/lib/python3.11/site-packages (from sentence-transformers) (2.0.1)\n",
      "Requirement already satisfied: torchvision in /opt/homebrew/Cellar/jupyterlab/4.0.6/libexec/lib/python3.11/site-packages (from sentence-transformers) (0.15.2)\n",
      "Requirement already satisfied: numpy in /opt/homebrew/Cellar/jupyterlab/4.0.6/libexec/lib/python3.11/site-packages (from sentence-transformers) (1.26.0)\n",
      "Requirement already satisfied: scikit-learn in /opt/homebrew/Cellar/jupyterlab/4.0.6/libexec/lib/python3.11/site-packages (from sentence-transformers) (1.3.1)\n",
      "Requirement already satisfied: scipy in /opt/homebrew/Cellar/jupyterlab/4.0.6/libexec/lib/python3.11/site-packages (from sentence-transformers) (1.11.2)\n",
      "Requirement already satisfied: nltk in /opt/homebrew/Cellar/jupyterlab/4.0.6/libexec/lib/python3.11/site-packages (from sentence-transformers) (3.8.1)\n",
      "Requirement already satisfied: sentencepiece in /opt/homebrew/Cellar/jupyterlab/4.0.6/libexec/lib/python3.11/site-packages (from sentence-transformers) (0.1.99)\n",
      "Requirement already satisfied: huggingface-hub>=0.4.0 in /opt/homebrew/Cellar/jupyterlab/4.0.6/libexec/lib/python3.11/site-packages (from sentence-transformers) (0.17.3)\n",
      "Requirement already satisfied: filelock in /opt/homebrew/Cellar/jupyterlab/4.0.6/libexec/lib/python3.11/site-packages (from huggingface-hub>=0.4.0->sentence-transformers) (3.12.4)\n",
      "Requirement already satisfied: fsspec in /opt/homebrew/Cellar/jupyterlab/4.0.6/libexec/lib/python3.11/site-packages (from huggingface-hub>=0.4.0->sentence-transformers) (2023.9.2)\n",
      "Requirement already satisfied: requests in /opt/homebrew/Cellar/jupyterlab/4.0.6/libexec/lib/python3.11/site-packages (from huggingface-hub>=0.4.0->sentence-transformers) (2.31.0)\n",
      "Requirement already satisfied: pyyaml>=5.1 in /opt/homebrew/opt/pyyaml/lib/python3.11/site-packages (from huggingface-hub>=0.4.0->sentence-transformers) (6.0.1)\n",
      "Requirement already satisfied: typing-extensions>=3.7.4.3 in /opt/homebrew/Cellar/jupyterlab/4.0.6/libexec/lib/python3.11/site-packages (from huggingface-hub>=0.4.0->sentence-transformers) (4.8.0)\n",
      "Requirement already satisfied: packaging>=20.9 in /opt/homebrew/opt/python-packaging/lib/python3.11/site-packages (from huggingface-hub>=0.4.0->sentence-transformers) (23.1)\n",
      "Requirement already satisfied: sympy in /opt/homebrew/Cellar/jupyterlab/4.0.6/libexec/lib/python3.11/site-packages (from torch>=1.6.0->sentence-transformers) (1.12)\n",
      "Requirement already satisfied: networkx in /opt/homebrew/Cellar/jupyterlab/4.0.6/libexec/lib/python3.11/site-packages (from torch>=1.6.0->sentence-transformers) (3.1)\n",
      "Requirement already satisfied: jinja2 in /opt/homebrew/Cellar/jupyterlab/4.0.6/libexec/lib/python3.11/site-packages (from torch>=1.6.0->sentence-transformers) (3.1.2)\n",
      "Requirement already satisfied: regex!=2019.12.17 in /opt/homebrew/Cellar/jupyterlab/4.0.6/libexec/lib/python3.11/site-packages (from transformers<5.0.0,>=4.6.0->sentence-transformers) (2023.8.8)\n",
      "Requirement already satisfied: tokenizers!=0.11.3,<0.14,>=0.11.1 in /opt/homebrew/Cellar/jupyterlab/4.0.6/libexec/lib/python3.11/site-packages (from transformers<5.0.0,>=4.6.0->sentence-transformers) (0.13.3)\n",
      "Requirement already satisfied: safetensors>=0.3.1 in /opt/homebrew/Cellar/jupyterlab/4.0.6/libexec/lib/python3.11/site-packages (from transformers<5.0.0,>=4.6.0->sentence-transformers) (0.3.3)\n",
      "Requirement already satisfied: click in /opt/homebrew/Cellar/jupyterlab/4.0.6/libexec/lib/python3.11/site-packages (from nltk->sentence-transformers) (8.1.7)\n",
      "Requirement already satisfied: joblib in /opt/homebrew/Cellar/jupyterlab/4.0.6/libexec/lib/python3.11/site-packages (from nltk->sentence-transformers) (1.3.2)\n",
      "Requirement already satisfied: threadpoolctl>=2.0.0 in /opt/homebrew/Cellar/jupyterlab/4.0.6/libexec/lib/python3.11/site-packages (from scikit-learn->sentence-transformers) (3.2.0)\n",
      "Requirement already satisfied: pillow!=8.3.*,>=5.3.0 in /opt/homebrew/Cellar/jupyterlab/4.0.6/libexec/lib/python3.11/site-packages (from torchvision->sentence-transformers) (10.0.1)\n",
      "Requirement already satisfied: MarkupSafe>=2.0 in /opt/homebrew/Cellar/jupyterlab/4.0.6/libexec/lib/python3.11/site-packages (from jinja2->torch>=1.6.0->sentence-transformers) (2.1.3)\n",
      "Requirement already satisfied: charset-normalizer<4,>=2 in /opt/homebrew/Cellar/jupyterlab/4.0.6/libexec/lib/python3.11/site-packages (from requests->huggingface-hub>=0.4.0->sentence-transformers) (3.2.0)\n",
      "Requirement already satisfied: idna<4,>=2.5 in /opt/homebrew/Cellar/jupyterlab/4.0.6/libexec/lib/python3.11/site-packages (from requests->huggingface-hub>=0.4.0->sentence-transformers) (3.4)\n",
      "Requirement already satisfied: urllib3<3,>=1.21.1 in /opt/homebrew/Cellar/jupyterlab/4.0.6/libexec/lib/python3.11/site-packages (from requests->huggingface-hub>=0.4.0->sentence-transformers) (2.0.4)\n",
      "Requirement already satisfied: certifi>=2017.4.17 in /opt/homebrew/opt/python-certifi/lib/python3.11/site-packages (from requests->huggingface-hub>=0.4.0->sentence-transformers) (2023.7.22)\n",
      "Requirement already satisfied: mpmath>=0.19 in /opt/homebrew/Cellar/jupyterlab/4.0.6/libexec/lib/python3.11/site-packages (from sympy->torch>=1.6.0->sentence-transformers) (1.3.0)\n",
      "Note: you may need to restart the kernel to use updated packages.\n"
     ]
    }
   ],
   "source": [
    "pip install -U sentence-transformers"
   ]
  },
  {
   "cell_type": "code",
   "execution_count": 258,
   "metadata": {
    "id": "ke0iZH4esApd"
   },
   "outputs": [],
   "source": [
    "\n",
    "from sentence_transformers import SentenceTransformer # This is a library for sentence and text embeddings."
   ]
  },
  {
   "cell_type": "markdown",
   "metadata": {
    "id": "1PCjITdoyD2w"
   },
   "source": [
    "** bert-base-nli-mean-tokens** pre-trained BERT-based model that has been fine-tuned for sentence embeddings."
   ]
  },
  {
   "cell_type": "code",
   "execution_count": 259,
   "metadata": {
    "id": "K5aeb7JjsMLi"
   },
   "outputs": [],
   "source": [
    "sbert_model = SentenceTransformer('multi-qa-MiniLM-L6-cos-v1')"
   ]
  },
  {
   "cell_type": "code",
   "execution_count": 260,
   "metadata": {
    "colab": {
     "base_uri": "https://localhost:8080/",
     "height": 362
    },
    "id": "HSLvz9-Osl6C",
    "outputId": "1f7e2f58-07af-4772-f1c4-9f806b33a0cf"
   },
   "outputs": [
    {
     "data": {
      "text/html": [
       "<div>\n",
       "<style scoped>\n",
       "    .dataframe tbody tr th:only-of-type {\n",
       "        vertical-align: middle;\n",
       "    }\n",
       "\n",
       "    .dataframe tbody tr th {\n",
       "        vertical-align: top;\n",
       "    }\n",
       "\n",
       "    .dataframe thead th {\n",
       "        text-align: right;\n",
       "    }\n",
       "</style>\n",
       "<table border=\"1\" class=\"dataframe\">\n",
       "  <thead>\n",
       "    <tr style=\"text-align: right;\">\n",
       "      <th></th>\n",
       "      <th>id</th>\n",
       "      <th>title</th>\n",
       "      <th>description</th>\n",
       "      <th>fiction_flag</th>\n",
       "      <th>thema_codes</th>\n",
       "      <th>thema_descriptions</th>\n",
       "      <th>complete_content</th>\n",
       "      <th>clean_content</th>\n",
       "    </tr>\n",
       "  </thead>\n",
       "  <tbody>\n",
       "    <tr>\n",
       "      <th>0</th>\n",
       "      <td>0</td>\n",
       "      <td>How to Wean Your Baby</td>\n",
       "      <td>&lt;b&gt;THE &lt;i&gt;SUNDAY TIMES &lt;/i&gt;BESTSELLER&lt;/b&gt;\\r\\n&lt;...</td>\n",
       "      <td>non-fiction</td>\n",
       "      <td>['VFX', 'WBH', 'VF', 'VS']</td>\n",
       "      <td>['Parenting: advice and issues', 'Health and w...</td>\n",
       "      <td>&lt;b&gt;THE &lt;i&gt;SUNDAY TIMES &lt;/i&gt;BESTSELLER&lt;/b&gt;\\r\\n&lt;...</td>\n",
       "      <td>sunday times bestseller charlotte give confide...</td>\n",
       "    </tr>\n",
       "    <tr>\n",
       "      <th>1</th>\n",
       "      <td>1</td>\n",
       "      <td>Horse Under Water</td>\n",
       "      <td>A sunken U-Boat has lain undisturbed on the At...</td>\n",
       "      <td>fiction</td>\n",
       "      <td>['FHD', 'FV', 'FJ', '1DSP-PT-P']</td>\n",
       "      <td>['Espionage and spy thriller', 'Historical fic...</td>\n",
       "      <td>A sunken U-Boat has lain undisturbed on the At...</td>\n",
       "      <td>sunken uboat lie undisturbed atlantic ocean fl...</td>\n",
       "    </tr>\n",
       "    <tr>\n",
       "      <th>2</th>\n",
       "      <td>2</td>\n",
       "      <td>Lives of Girls and Women</td>\n",
       "      <td>&lt;b&gt;The only novel from bestselling author Alic...</td>\n",
       "      <td>fiction</td>\n",
       "      <td>['FBA', 'FC', 'FXB', '1KBC-CA-O']</td>\n",
       "      <td>['Modern and contemporary fiction: general and...</td>\n",
       "      <td>&lt;b&gt;The only novel from bestselling author Alic...</td>\n",
       "      <td>novel bestselling author alice munro winner no...</td>\n",
       "    </tr>\n",
       "    <tr>\n",
       "      <th>3</th>\n",
       "      <td>3</td>\n",
       "      <td>The Precipice</td>\n",
       "      <td>In this powerful collection of interviews, Noa...</td>\n",
       "      <td>non-fiction</td>\n",
       "      <td>['JPB', 'QDTS', 'JPF', 'KCS', 'DNP', 'RNT']</td>\n",
       "      <td>['Comparative politics', 'Social and political...</td>\n",
       "      <td>In this powerful collection of interviews, Noa...</td>\n",
       "      <td>powerful collection interview noam chomsky exp...</td>\n",
       "    </tr>\n",
       "    <tr>\n",
       "      <th>4</th>\n",
       "      <td>4</td>\n",
       "      <td>Little Wins</td>\n",
       "      <td>There are some 400 million people worldwide wh...</td>\n",
       "      <td>non-fiction</td>\n",
       "      <td>['KJH', 'KJMB', 'KJW', 'VSC', 'VSPM', 'JMC']</td>\n",
       "      <td>['Entrepreneurship / Start-ups', 'Management: ...</td>\n",
       "      <td>There are some 400 million people worldwide wh...</td>\n",
       "      <td>400 million people worldwide whose creativity ...</td>\n",
       "    </tr>\n",
       "  </tbody>\n",
       "</table>\n",
       "</div>"
      ],
      "text/plain": [
       "   id                     title  \\\n",
       "0   0     How to Wean Your Baby   \n",
       "1   1         Horse Under Water   \n",
       "2   2  Lives of Girls and Women   \n",
       "3   3             The Precipice   \n",
       "4   4               Little Wins   \n",
       "\n",
       "                                         description fiction_flag  \\\n",
       "0  <b>THE <i>SUNDAY TIMES </i>BESTSELLER</b>\\r\\n<...  non-fiction   \n",
       "1  A sunken U-Boat has lain undisturbed on the At...      fiction   \n",
       "2  <b>The only novel from bestselling author Alic...      fiction   \n",
       "3  In this powerful collection of interviews, Noa...  non-fiction   \n",
       "4  There are some 400 million people worldwide wh...  non-fiction   \n",
       "\n",
       "                                    thema_codes  \\\n",
       "0                    ['VFX', 'WBH', 'VF', 'VS']   \n",
       "1              ['FHD', 'FV', 'FJ', '1DSP-PT-P']   \n",
       "2             ['FBA', 'FC', 'FXB', '1KBC-CA-O']   \n",
       "3   ['JPB', 'QDTS', 'JPF', 'KCS', 'DNP', 'RNT']   \n",
       "4  ['KJH', 'KJMB', 'KJW', 'VSC', 'VSPM', 'JMC']   \n",
       "\n",
       "                                  thema_descriptions  \\\n",
       "0  ['Parenting: advice and issues', 'Health and w...   \n",
       "1  ['Espionage and spy thriller', 'Historical fic...   \n",
       "2  ['Modern and contemporary fiction: general and...   \n",
       "3  ['Comparative politics', 'Social and political...   \n",
       "4  ['Entrepreneurship / Start-ups', 'Management: ...   \n",
       "\n",
       "                                    complete_content  \\\n",
       "0  <b>THE <i>SUNDAY TIMES </i>BESTSELLER</b>\\r\\n<...   \n",
       "1  A sunken U-Boat has lain undisturbed on the At...   \n",
       "2  <b>The only novel from bestselling author Alic...   \n",
       "3  In this powerful collection of interviews, Noa...   \n",
       "4  There are some 400 million people worldwide wh...   \n",
       "\n",
       "                                       clean_content  \n",
       "0  sunday times bestseller charlotte give confide...  \n",
       "1  sunken uboat lie undisturbed atlantic ocean fl...  \n",
       "2  novel bestselling author alice munro winner no...  \n",
       "3  powerful collection interview noam chomsky exp...  \n",
       "4  400 million people worldwide whose creativity ...  "
      ]
     },
     "execution_count": 260,
     "metadata": {},
     "output_type": "execute_result"
    }
   ],
   "source": [
    "metadata_df.head()"
   ]
  },
  {
   "cell_type": "code",
   "execution_count": 261,
   "metadata": {
    "id": "5I3tvOkPsqJq"
   },
   "outputs": [],
   "source": [
    "metadata_df['bert_embeddings'] = metadata_df['clean_content'].apply(lambda x: sbert_model.encode(x))"
   ]
  },
  {
   "cell_type": "code",
   "execution_count": 262,
   "metadata": {
    "colab": {
     "base_uri": "https://localhost:8080/",
     "height": 380
    },
    "id": "4c2sVbQNsb5Z",
    "outputId": "87b5cc9c-d12b-4a53-da47-f98c2fded774"
   },
   "outputs": [
    {
     "data": {
      "text/html": [
       "<div>\n",
       "<style scoped>\n",
       "    .dataframe tbody tr th:only-of-type {\n",
       "        vertical-align: middle;\n",
       "    }\n",
       "\n",
       "    .dataframe tbody tr th {\n",
       "        vertical-align: top;\n",
       "    }\n",
       "\n",
       "    .dataframe thead th {\n",
       "        text-align: right;\n",
       "    }\n",
       "</style>\n",
       "<table border=\"1\" class=\"dataframe\">\n",
       "  <thead>\n",
       "    <tr style=\"text-align: right;\">\n",
       "      <th></th>\n",
       "      <th>id</th>\n",
       "      <th>title</th>\n",
       "      <th>description</th>\n",
       "      <th>fiction_flag</th>\n",
       "      <th>thema_codes</th>\n",
       "      <th>thema_descriptions</th>\n",
       "      <th>complete_content</th>\n",
       "      <th>clean_content</th>\n",
       "      <th>bert_embeddings</th>\n",
       "    </tr>\n",
       "  </thead>\n",
       "  <tbody>\n",
       "    <tr>\n",
       "      <th>0</th>\n",
       "      <td>0</td>\n",
       "      <td>How to Wean Your Baby</td>\n",
       "      <td>&lt;b&gt;THE &lt;i&gt;SUNDAY TIMES &lt;/i&gt;BESTSELLER&lt;/b&gt;\\r\\n&lt;...</td>\n",
       "      <td>non-fiction</td>\n",
       "      <td>['VFX', 'WBH', 'VF', 'VS']</td>\n",
       "      <td>['Parenting: advice and issues', 'Health and w...</td>\n",
       "      <td>&lt;b&gt;THE &lt;i&gt;SUNDAY TIMES &lt;/i&gt;BESTSELLER&lt;/b&gt;\\r\\n&lt;...</td>\n",
       "      <td>sunday times bestseller charlotte give confide...</td>\n",
       "      <td>[-0.0536515, -0.05696627, -0.06004447, 0.03443...</td>\n",
       "    </tr>\n",
       "    <tr>\n",
       "      <th>1</th>\n",
       "      <td>1</td>\n",
       "      <td>Horse Under Water</td>\n",
       "      <td>A sunken U-Boat has lain undisturbed on the At...</td>\n",
       "      <td>fiction</td>\n",
       "      <td>['FHD', 'FV', 'FJ', '1DSP-PT-P']</td>\n",
       "      <td>['Espionage and spy thriller', 'Historical fic...</td>\n",
       "      <td>A sunken U-Boat has lain undisturbed on the At...</td>\n",
       "      <td>sunken uboat lie undisturbed atlantic ocean fl...</td>\n",
       "      <td>[-0.080311686, 0.0620853, 0.04595251, -0.01543...</td>\n",
       "    </tr>\n",
       "    <tr>\n",
       "      <th>2</th>\n",
       "      <td>2</td>\n",
       "      <td>Lives of Girls and Women</td>\n",
       "      <td>&lt;b&gt;The only novel from bestselling author Alic...</td>\n",
       "      <td>fiction</td>\n",
       "      <td>['FBA', 'FC', 'FXB', '1KBC-CA-O']</td>\n",
       "      <td>['Modern and contemporary fiction: general and...</td>\n",
       "      <td>&lt;b&gt;The only novel from bestselling author Alic...</td>\n",
       "      <td>novel bestselling author alice munro winner no...</td>\n",
       "      <td>[-0.06821202, -0.05175161, -0.0088345725, 0.06...</td>\n",
       "    </tr>\n",
       "    <tr>\n",
       "      <th>3</th>\n",
       "      <td>3</td>\n",
       "      <td>The Precipice</td>\n",
       "      <td>In this powerful collection of interviews, Noa...</td>\n",
       "      <td>non-fiction</td>\n",
       "      <td>['JPB', 'QDTS', 'JPF', 'KCS', 'DNP', 'RNT']</td>\n",
       "      <td>['Comparative politics', 'Social and political...</td>\n",
       "      <td>In this powerful collection of interviews, Noa...</td>\n",
       "      <td>powerful collection interview noam chomsky exp...</td>\n",
       "      <td>[0.01108276, 0.05567558, -0.030121665, -0.0085...</td>\n",
       "    </tr>\n",
       "    <tr>\n",
       "      <th>4</th>\n",
       "      <td>4</td>\n",
       "      <td>Little Wins</td>\n",
       "      <td>There are some 400 million people worldwide wh...</td>\n",
       "      <td>non-fiction</td>\n",
       "      <td>['KJH', 'KJMB', 'KJW', 'VSC', 'VSPM', 'JMC']</td>\n",
       "      <td>['Entrepreneurship / Start-ups', 'Management: ...</td>\n",
       "      <td>There are some 400 million people worldwide wh...</td>\n",
       "      <td>400 million people worldwide whose creativity ...</td>\n",
       "      <td>[0.019774005, -0.01750415, -0.005929993, -0.04...</td>\n",
       "    </tr>\n",
       "  </tbody>\n",
       "</table>\n",
       "</div>"
      ],
      "text/plain": [
       "   id                     title  \\\n",
       "0   0     How to Wean Your Baby   \n",
       "1   1         Horse Under Water   \n",
       "2   2  Lives of Girls and Women   \n",
       "3   3             The Precipice   \n",
       "4   4               Little Wins   \n",
       "\n",
       "                                         description fiction_flag  \\\n",
       "0  <b>THE <i>SUNDAY TIMES </i>BESTSELLER</b>\\r\\n<...  non-fiction   \n",
       "1  A sunken U-Boat has lain undisturbed on the At...      fiction   \n",
       "2  <b>The only novel from bestselling author Alic...      fiction   \n",
       "3  In this powerful collection of interviews, Noa...  non-fiction   \n",
       "4  There are some 400 million people worldwide wh...  non-fiction   \n",
       "\n",
       "                                    thema_codes  \\\n",
       "0                    ['VFX', 'WBH', 'VF', 'VS']   \n",
       "1              ['FHD', 'FV', 'FJ', '1DSP-PT-P']   \n",
       "2             ['FBA', 'FC', 'FXB', '1KBC-CA-O']   \n",
       "3   ['JPB', 'QDTS', 'JPF', 'KCS', 'DNP', 'RNT']   \n",
       "4  ['KJH', 'KJMB', 'KJW', 'VSC', 'VSPM', 'JMC']   \n",
       "\n",
       "                                  thema_descriptions  \\\n",
       "0  ['Parenting: advice and issues', 'Health and w...   \n",
       "1  ['Espionage and spy thriller', 'Historical fic...   \n",
       "2  ['Modern and contemporary fiction: general and...   \n",
       "3  ['Comparative politics', 'Social and political...   \n",
       "4  ['Entrepreneurship / Start-ups', 'Management: ...   \n",
       "\n",
       "                                    complete_content  \\\n",
       "0  <b>THE <i>SUNDAY TIMES </i>BESTSELLER</b>\\r\\n<...   \n",
       "1  A sunken U-Boat has lain undisturbed on the At...   \n",
       "2  <b>The only novel from bestselling author Alic...   \n",
       "3  In this powerful collection of interviews, Noa...   \n",
       "4  There are some 400 million people worldwide wh...   \n",
       "\n",
       "                                       clean_content  \\\n",
       "0  sunday times bestseller charlotte give confide...   \n",
       "1  sunken uboat lie undisturbed atlantic ocean fl...   \n",
       "2  novel bestselling author alice munro winner no...   \n",
       "3  powerful collection interview noam chomsky exp...   \n",
       "4  400 million people worldwide whose creativity ...   \n",
       "\n",
       "                                     bert_embeddings  \n",
       "0  [-0.0536515, -0.05696627, -0.06004447, 0.03443...  \n",
       "1  [-0.080311686, 0.0620853, 0.04595251, -0.01543...  \n",
       "2  [-0.06821202, -0.05175161, -0.0088345725, 0.06...  \n",
       "3  [0.01108276, 0.05567558, -0.030121665, -0.0085...  \n",
       "4  [0.019774005, -0.01750415, -0.005929993, -0.04...  "
      ]
     },
     "execution_count": 262,
     "metadata": {},
     "output_type": "execute_result"
    }
   ],
   "source": [
    "metadata_df.head()"
   ]
  },
  {
   "cell_type": "code",
   "execution_count": 263,
   "metadata": {
    "colab": {
     "base_uri": "https://localhost:8080/",
     "height": 206
    },
    "id": "eHC0v_9AuH5s",
    "outputId": "c2dcf1d0-9b8c-499c-9e58-47f0b9ad5f76"
   },
   "outputs": [
    {
     "data": {
      "text/html": [
       "<div>\n",
       "<style scoped>\n",
       "    .dataframe tbody tr th:only-of-type {\n",
       "        vertical-align: middle;\n",
       "    }\n",
       "\n",
       "    .dataframe tbody tr th {\n",
       "        vertical-align: top;\n",
       "    }\n",
       "\n",
       "    .dataframe thead th {\n",
       "        text-align: right;\n",
       "    }\n",
       "</style>\n",
       "<table border=\"1\" class=\"dataframe\">\n",
       "  <thead>\n",
       "    <tr style=\"text-align: right;\">\n",
       "      <th></th>\n",
       "      <th>search_term</th>\n",
       "      <th>clean_keywords</th>\n",
       "    </tr>\n",
       "  </thead>\n",
       "  <tbody>\n",
       "    <tr>\n",
       "      <th>0</th>\n",
       "      <td>winter killer</td>\n",
       "      <td>winter killer</td>\n",
       "    </tr>\n",
       "    <tr>\n",
       "      <th>1</th>\n",
       "      <td>heat magazine uk</td>\n",
       "      <td>heat magazine uk</td>\n",
       "    </tr>\n",
       "    <tr>\n",
       "      <th>2</th>\n",
       "      <td>josie russell</td>\n",
       "      <td>josie russell</td>\n",
       "    </tr>\n",
       "    <tr>\n",
       "      <th>3</th>\n",
       "      <td>korean</td>\n",
       "      <td>korean</td>\n",
       "    </tr>\n",
       "    <tr>\n",
       "      <th>4</th>\n",
       "      <td>iron fey</td>\n",
       "      <td>iron fey</td>\n",
       "    </tr>\n",
       "  </tbody>\n",
       "</table>\n",
       "</div>"
      ],
      "text/plain": [
       "        search_term    clean_keywords\n",
       "0     winter killer     winter killer\n",
       "1  heat magazine uk  heat magazine uk\n",
       "2     josie russell     josie russell\n",
       "3            korean            korean\n",
       "4          iron fey          iron fey"
      ]
     },
     "execution_count": 263,
     "metadata": {},
     "output_type": "execute_result"
    }
   ],
   "source": [
    "keywords_df.head()"
   ]
  },
  {
   "cell_type": "code",
   "execution_count": 264,
   "metadata": {
    "id": "VR8McX93ty_H"
   },
   "outputs": [],
   "source": [
    "keywords_df['bert_embeddings']= keywords_df['clean_keywords'].apply(lambda x: sbert_model.encode(x))"
   ]
  },
  {
   "cell_type": "code",
   "execution_count": 265,
   "metadata": {
    "colab": {
     "base_uri": "https://localhost:8080/",
     "height": 206
    },
    "id": "BGppTOHhuUDZ",
    "outputId": "6c2eae50-bc94-4eb4-f24a-ac3a0d6544b3"
   },
   "outputs": [
    {
     "data": {
      "text/html": [
       "<div>\n",
       "<style scoped>\n",
       "    .dataframe tbody tr th:only-of-type {\n",
       "        vertical-align: middle;\n",
       "    }\n",
       "\n",
       "    .dataframe tbody tr th {\n",
       "        vertical-align: top;\n",
       "    }\n",
       "\n",
       "    .dataframe thead th {\n",
       "        text-align: right;\n",
       "    }\n",
       "</style>\n",
       "<table border=\"1\" class=\"dataframe\">\n",
       "  <thead>\n",
       "    <tr style=\"text-align: right;\">\n",
       "      <th></th>\n",
       "      <th>search_term</th>\n",
       "      <th>clean_keywords</th>\n",
       "      <th>bert_embeddings</th>\n",
       "    </tr>\n",
       "  </thead>\n",
       "  <tbody>\n",
       "    <tr>\n",
       "      <th>0</th>\n",
       "      <td>winter killer</td>\n",
       "      <td>winter killer</td>\n",
       "      <td>[-0.02831785, 0.102512956, 0.0096159475, 0.087...</td>\n",
       "    </tr>\n",
       "    <tr>\n",
       "      <th>1</th>\n",
       "      <td>heat magazine uk</td>\n",
       "      <td>heat magazine uk</td>\n",
       "      <td>[-0.0095325615, 0.0519015, -0.034713894, 0.101...</td>\n",
       "    </tr>\n",
       "    <tr>\n",
       "      <th>2</th>\n",
       "      <td>josie russell</td>\n",
       "      <td>josie russell</td>\n",
       "      <td>[0.008748813, -0.0020361133, 0.019947806, 0.03...</td>\n",
       "    </tr>\n",
       "    <tr>\n",
       "      <th>3</th>\n",
       "      <td>korean</td>\n",
       "      <td>korean</td>\n",
       "      <td>[-0.041517537, 0.03994494, 0.020216538, -0.028...</td>\n",
       "    </tr>\n",
       "    <tr>\n",
       "      <th>4</th>\n",
       "      <td>iron fey</td>\n",
       "      <td>iron fey</td>\n",
       "      <td>[-0.034213535, -0.0520466, -0.023690881, 0.130...</td>\n",
       "    </tr>\n",
       "  </tbody>\n",
       "</table>\n",
       "</div>"
      ],
      "text/plain": [
       "        search_term    clean_keywords  \\\n",
       "0     winter killer     winter killer   \n",
       "1  heat magazine uk  heat magazine uk   \n",
       "2     josie russell     josie russell   \n",
       "3            korean            korean   \n",
       "4          iron fey          iron fey   \n",
       "\n",
       "                                     bert_embeddings  \n",
       "0  [-0.02831785, 0.102512956, 0.0096159475, 0.087...  \n",
       "1  [-0.0095325615, 0.0519015, -0.034713894, 0.101...  \n",
       "2  [0.008748813, -0.0020361133, 0.019947806, 0.03...  \n",
       "3  [-0.041517537, 0.03994494, 0.020216538, -0.028...  \n",
       "4  [-0.034213535, -0.0520466, -0.023690881, 0.130...  "
      ]
     },
     "execution_count": 265,
     "metadata": {},
     "output_type": "execute_result"
    }
   ],
   "source": [
    "keywords_df.head()"
   ]
  },
  {
   "cell_type": "code",
   "execution_count": 266,
   "metadata": {
    "colab": {
     "base_uri": "https://localhost:8080/"
    },
    "id": "U_jeygEQdq-_",
    "outputId": "470d695a-e123-4a20-c530-78da39626a7e"
   },
   "outputs": [
    {
     "data": {
      "text/plain": [
       "(500,)"
      ]
     },
     "execution_count": 266,
     "metadata": {},
     "output_type": "execute_result"
    }
   ],
   "source": [
    "metadata_df['bert_embeddings'].shape"
   ]
  },
  {
   "cell_type": "code",
   "execution_count": 267,
   "metadata": {
    "colab": {
     "base_uri": "https://localhost:8080/"
    },
    "id": "1wa-7m4ydqVR",
    "outputId": "cf044986-1579-4b83-94ae-a09991553e83"
   },
   "outputs": [
    {
     "data": {
      "text/plain": [
       "(76707,)"
      ]
     },
     "execution_count": 267,
     "metadata": {},
     "output_type": "execute_result"
    }
   ],
   "source": [
    "keywords_df['bert_embeddings'].shape"
   ]
  },
  {
   "cell_type": "code",
   "execution_count": 268,
   "metadata": {
    "colab": {
     "base_uri": "https://localhost:8080/",
     "height": 426
    },
    "id": "u8iKQZgQuVrR",
    "outputId": "79db815d-b904-4371-fa5f-c58faac709d5"
   },
   "outputs": [],
   "source": [
    "# This will throw error because of inconsistent shape of the dataset\n",
    "\n",
    "# similarities_bert = cosine_similarity( keywords_df['bert_embeddings'], metadata_df['bert_embeddings']\n",
    "#                                       )"
   ]
  },
  {
   "cell_type": "code",
   "execution_count": 269,
   "metadata": {
    "colab": {
     "base_uri": "https://localhost:8080/"
    },
    "id": "rHVE9BZdev_N",
    "outputId": "9096eb3b-24b0-4bb7-c379-4fbe32f8a36e"
   },
   "outputs": [
    {
     "data": {
      "text/plain": [
       "76707"
      ]
     },
     "execution_count": 269,
     "metadata": {},
     "output_type": "execute_result"
    }
   ],
   "source": [
    "\n",
    "len(keywords_df['bert_embeddings'])"
   ]
  },
  {
   "cell_type": "code",
   "execution_count": 270,
   "metadata": {
    "id": "7D6CsArCfJn4"
   },
   "outputs": [],
   "source": [
    "# Convert the embeddings columns to NumPy arrays\n",
    "metadata_embeddings = np.array(metadata_df['bert_embeddings'].tolist())\n",
    "keywords_embeddings = np.array(keywords_df['bert_embeddings'].tolist())"
   ]
  },
  {
   "cell_type": "code",
   "execution_count": 271,
   "metadata": {
    "id": "kF9iyb4dwF67"
   },
   "outputs": [],
   "source": [
    "\n",
    "\n",
    "# Reshape metadata_embeddings and keywords_embeddings if necessary\n",
    "metadata_embeddings = metadata_embeddings.reshape(len(metadata_df['bert_embeddings']), -1)\n",
    "keywords_embeddings = keywords_embeddings.reshape(len(keywords_df['bert_embeddings']), -1)\n",
    "\n",
    "\n",
    "\n"
   ]
  },
  {
   "cell_type": "code",
   "execution_count": 272,
   "metadata": {
    "id": "TPnztc34e4lF"
   },
   "outputs": [],
   "source": [
    "# Compute cosine similarity using matrix multiplication\n",
    "similarity_bert_matrix = cosine_similarity(metadata_embeddings, keywords_embeddings)"
   ]
  },
  {
   "cell_type": "code",
   "execution_count": 273,
   "metadata": {
    "id": "G6dRXtPrfXGL"
   },
   "outputs": [],
   "source": [
    "# Computing output"
   ]
  },
  {
   "cell_type": "markdown",
   "metadata": {
    "id": "VSosGNEFgY9s"
   },
   "source": [
    "## Cosine Similarity with BERT"
   ]
  },
  {
   "cell_type": "code",
   "execution_count": null,
   "metadata": {
    "id": "kJg4VTnWgV-R"
   },
   "outputs": [],
   "source": []
  },
  {
   "cell_type": "code",
   "execution_count": 274,
   "metadata": {
    "id": "wiSFyJa4gWOQ"
   },
   "outputs": [],
   "source": [
    "num_top_keywords = 5"
   ]
  },
  {
   "cell_type": "code",
   "execution_count": 275,
   "metadata": {
    "id": "hYyWvnJ7gWOR"
   },
   "outputs": [],
   "source": [
    "results = []"
   ]
  },
  {
   "cell_type": "code",
   "execution_count": 276,
   "metadata": {
    "colab": {
     "base_uri": "https://localhost:8080/",
     "height": 206
    },
    "id": "NNd0s4UOggB2",
    "outputId": "9c2cee37-4199-4bd7-f1ac-470d6b7cbf4a"
   },
   "outputs": [
    {
     "data": {
      "text/html": [
       "<div>\n",
       "<style scoped>\n",
       "    .dataframe tbody tr th:only-of-type {\n",
       "        vertical-align: middle;\n",
       "    }\n",
       "\n",
       "    .dataframe tbody tr th {\n",
       "        vertical-align: top;\n",
       "    }\n",
       "\n",
       "    .dataframe thead th {\n",
       "        text-align: right;\n",
       "    }\n",
       "</style>\n",
       "<table border=\"1\" class=\"dataframe\">\n",
       "  <thead>\n",
       "    <tr style=\"text-align: right;\">\n",
       "      <th></th>\n",
       "      <th>search_term</th>\n",
       "      <th>clean_keywords</th>\n",
       "      <th>bert_embeddings</th>\n",
       "    </tr>\n",
       "  </thead>\n",
       "  <tbody>\n",
       "    <tr>\n",
       "      <th>0</th>\n",
       "      <td>winter killer</td>\n",
       "      <td>winter killer</td>\n",
       "      <td>[-0.02831785, 0.102512956, 0.0096159475, 0.087...</td>\n",
       "    </tr>\n",
       "    <tr>\n",
       "      <th>1</th>\n",
       "      <td>heat magazine uk</td>\n",
       "      <td>heat magazine uk</td>\n",
       "      <td>[-0.0095325615, 0.0519015, -0.034713894, 0.101...</td>\n",
       "    </tr>\n",
       "    <tr>\n",
       "      <th>2</th>\n",
       "      <td>josie russell</td>\n",
       "      <td>josie russell</td>\n",
       "      <td>[0.008748813, -0.0020361133, 0.019947806, 0.03...</td>\n",
       "    </tr>\n",
       "    <tr>\n",
       "      <th>3</th>\n",
       "      <td>korean</td>\n",
       "      <td>korean</td>\n",
       "      <td>[-0.041517537, 0.03994494, 0.020216538, -0.028...</td>\n",
       "    </tr>\n",
       "    <tr>\n",
       "      <th>4</th>\n",
       "      <td>iron fey</td>\n",
       "      <td>iron fey</td>\n",
       "      <td>[-0.034213535, -0.0520466, -0.023690881, 0.130...</td>\n",
       "    </tr>\n",
       "  </tbody>\n",
       "</table>\n",
       "</div>"
      ],
      "text/plain": [
       "        search_term    clean_keywords  \\\n",
       "0     winter killer     winter killer   \n",
       "1  heat magazine uk  heat magazine uk   \n",
       "2     josie russell     josie russell   \n",
       "3            korean            korean   \n",
       "4          iron fey          iron fey   \n",
       "\n",
       "                                     bert_embeddings  \n",
       "0  [-0.02831785, 0.102512956, 0.0096159475, 0.087...  \n",
       "1  [-0.0095325615, 0.0519015, -0.034713894, 0.101...  \n",
       "2  [0.008748813, -0.0020361133, 0.019947806, 0.03...  \n",
       "3  [-0.041517537, 0.03994494, 0.020216538, -0.028...  \n",
       "4  [-0.034213535, -0.0520466, -0.023690881, 0.130...  "
      ]
     },
     "execution_count": 276,
     "metadata": {},
     "output_type": "execute_result"
    }
   ],
   "source": [
    "keywords_df.head()"
   ]
  },
  {
   "cell_type": "code",
   "execution_count": 277,
   "metadata": {
    "id": "eBbumM-lgWOR"
   },
   "outputs": [],
   "source": [
    "book_metadata = metadata_df['clean_content'].copy()\n",
    "keywords = keywords_df['clean_keywords'].copy()"
   ]
  },
  {
   "cell_type": "code",
   "execution_count": 278,
   "metadata": {
    "id": "-CJAG5BZgWOR"
   },
   "outputs": [],
   "source": [
    "book_keywords = {} # Creating a dictionary, which will contain the keywords with highest cosine similarity for each book indices - this will act as the dictionary key"
   ]
  },
  {
   "cell_type": "code",
   "execution_count": 279,
   "metadata": {
    "id": "1fdVy5RQgWOR"
   },
   "outputs": [],
   "source": [
    "for i, book in enumerate(book_metadata):\n",
    "    top_keywords_indices = similarity_bert_matrix[i].argsort()[-num_top_keywords:][::-1]\n",
    "    top_keywords = [keywords[idx] for idx in top_keywords_indices]\n",
    "    book_keywords[i] = top_keywords\n"
   ]
  },
  {
   "cell_type": "code",
   "execution_count": 280,
   "metadata": {
    "id": "EmRp615GgWOR"
   },
   "outputs": [],
   "source": [
    "# book_keywords"
   ]
  },
  {
   "cell_type": "code",
   "execution_count": 281,
   "metadata": {
    "id": "JRDlVWVagWOS"
   },
   "outputs": [],
   "source": [
    "keywords_bert_result = pd.Series(book_keywords )"
   ]
  },
  {
   "cell_type": "code",
   "execution_count": 282,
   "metadata": {
    "colab": {
     "base_uri": "https://localhost:8080/"
    },
    "id": "hfuu-WyzgWOS",
    "outputId": "3761c013-9854-4229-a00c-8145905e071f"
   },
   "outputs": [
    {
     "data": {
      "text/plain": [
       "0    [deliciously ella cookbook, book baby, book ba...\n",
       "1    [submarine fiction, submarine thriller, sea li...\n",
       "2    [book fiction, nonfiction book, fiction book, ...\n",
       "3    [noam chomsky book, chomsky book, horrible his...\n",
       "4    [billionaire obsession, passionate billionaire...\n",
       "dtype: object"
      ]
     },
     "execution_count": 282,
     "metadata": {},
     "output_type": "execute_result"
    }
   ],
   "source": [
    "keywords_bert_result.head()"
   ]
  },
  {
   "cell_type": "code",
   "execution_count": 283,
   "metadata": {
    "colab": {
     "base_uri": "https://localhost:8080/"
    },
    "id": "g_xb-y0FgWOS",
    "outputId": "38685569-d266-40f9-89af-2c62cc104fd0"
   },
   "outputs": [
    {
     "data": {
      "text/plain": [
       "495    [ww2 book, ww2 fiction novel, ww2 fiction, ww1...\n",
       "496    [historical novel, historical fiction book, cl...\n",
       "497    [avery chandler, rise chandler johnson, kerry ...\n",
       "498    [man booker prize, booker prize shortlist, man...\n",
       "499    [sanatorium book, sanitorium book, sanatorium,...\n",
       "dtype: object"
      ]
     },
     "execution_count": 283,
     "metadata": {},
     "output_type": "execute_result"
    }
   ],
   "source": [
    "keywords_bert_result.tail()"
   ]
  },
  {
   "cell_type": "code",
   "execution_count": 284,
   "metadata": {
    "colab": {
     "base_uri": "https://localhost:8080/",
     "height": 293
    },
    "id": "Oo1l1n98gWOS",
    "outputId": "fd708372-623c-479b-cdc0-9570909b4748"
   },
   "outputs": [
    {
     "data": {
      "text/html": [
       "<div>\n",
       "<style scoped>\n",
       "    .dataframe tbody tr th:only-of-type {\n",
       "        vertical-align: middle;\n",
       "    }\n",
       "\n",
       "    .dataframe tbody tr th {\n",
       "        vertical-align: top;\n",
       "    }\n",
       "\n",
       "    .dataframe thead th {\n",
       "        text-align: right;\n",
       "    }\n",
       "</style>\n",
       "<table border=\"1\" class=\"dataframe\">\n",
       "  <thead>\n",
       "    <tr style=\"text-align: right;\">\n",
       "      <th></th>\n",
       "      <th>id</th>\n",
       "      <th>title</th>\n",
       "      <th>description</th>\n",
       "      <th>fiction_flag</th>\n",
       "      <th>thema_codes</th>\n",
       "      <th>thema_descriptions</th>\n",
       "      <th>complete_content</th>\n",
       "      <th>clean_content</th>\n",
       "      <th>bert_embeddings</th>\n",
       "    </tr>\n",
       "  </thead>\n",
       "  <tbody>\n",
       "    <tr>\n",
       "      <th>495</th>\n",
       "      <td>495</td>\n",
       "      <td>The Frank Family That Survived</td>\n",
       "      <td>'A major contribution to our understanding of ...</td>\n",
       "      <td>non-fiction</td>\n",
       "      <td>['NHTZ1', 'DNBH', 'NHWR7', 'JBFG', '3MPBLB']</td>\n",
       "      <td>['The Holocaust', 'Biography: historical, poli...</td>\n",
       "      <td>'A major contribution to our understanding of ...</td>\n",
       "      <td>major contribution understanding second world ...</td>\n",
       "      <td>[-0.026605265, 0.059623726, -0.07832027, -0.01...</td>\n",
       "    </tr>\n",
       "    <tr>\n",
       "      <th>496</th>\n",
       "      <td>496</td>\n",
       "      <td>V.</td>\n",
       "      <td>&lt;b&gt;The first novel from the great, incomparabl...</td>\n",
       "      <td>fiction</td>\n",
       "      <td>['FBA', '1KBB-US-NAKC', '3MPQM']</td>\n",
       "      <td>['Modern and contemporary fiction: general and...</td>\n",
       "      <td>&lt;b&gt;The first novel from the great, incomparabl...</td>\n",
       "      <td>first novel great incomparable thomas pynchon ...</td>\n",
       "      <td>[-0.00030172136, 0.03130717, 0.024693009, 0.04...</td>\n",
       "    </tr>\n",
       "    <tr>\n",
       "      <th>497</th>\n",
       "      <td>497</td>\n",
       "      <td>Business or Pleasure</td>\n",
       "      <td>&lt;b&gt;When Chandler Cohen accepts her next ghostw...</td>\n",
       "      <td>fiction</td>\n",
       "      <td>['FRD', 'FU', 'FQ', 'FXD']</td>\n",
       "      <td>['Modern and Contemporary romance', 'Humorous ...</td>\n",
       "      <td>&lt;b&gt;When Chandler Cohen accepts her next ghostw...</td>\n",
       "      <td>chandler cohen accept next ghostwriting gig pe...</td>\n",
       "      <td>[-0.031196805, -0.06850113, 0.022941642, -0.05...</td>\n",
       "    </tr>\n",
       "    <tr>\n",
       "      <th>498</th>\n",
       "      <td>498</td>\n",
       "      <td>The Dinner Guest</td>\n",
       "      <td>&lt;b&gt;LONGLISTED FOR THE 2018 MAN BOOKER INTERNAT...</td>\n",
       "      <td>fiction</td>\n",
       "      <td>['FBA', 'FYT', 'FXL', 'FS', '1DSE']</td>\n",
       "      <td>['Modern and contemporary fiction: general and...</td>\n",
       "      <td>&lt;b&gt;LONGLISTED FOR THE 2018 MAN BOOKER INTERNAT...</td>\n",
       "      <td>longlisted 2018 man booker international prize...</td>\n",
       "      <td>[0.029906986, 0.047078524, -0.09180317, -0.048...</td>\n",
       "    </tr>\n",
       "    <tr>\n",
       "      <th>499</th>\n",
       "      <td>499</td>\n",
       "      <td>The Sanatorium</td>\n",
       "      <td>&lt;b&gt;'&lt;i&gt;The Sanatorium &lt;/i&gt;will keep you checki...</td>\n",
       "      <td>fiction</td>\n",
       "      <td>['FF', 'FHX', 'FFP', 'FFS', 'FXR', 'FXL', '1DF...</td>\n",
       "      <td>['Crime and mystery fiction', 'Psychological t...</td>\n",
       "      <td>&lt;b&gt;'&lt;i&gt;The Sanatorium &lt;/i&gt;will keep you checki...</td>\n",
       "      <td>sanatorium keep check shoulder spinetingling a...</td>\n",
       "      <td>[-0.029930346, -0.05241185, 0.005281358, 0.046...</td>\n",
       "    </tr>\n",
       "  </tbody>\n",
       "</table>\n",
       "</div>"
      ],
      "text/plain": [
       "      id                           title  \\\n",
       "495  495  The Frank Family That Survived   \n",
       "496  496                              V.   \n",
       "497  497            Business or Pleasure   \n",
       "498  498                The Dinner Guest   \n",
       "499  499                  The Sanatorium   \n",
       "\n",
       "                                           description fiction_flag  \\\n",
       "495  'A major contribution to our understanding of ...  non-fiction   \n",
       "496  <b>The first novel from the great, incomparabl...      fiction   \n",
       "497  <b>When Chandler Cohen accepts her next ghostw...      fiction   \n",
       "498  <b>LONGLISTED FOR THE 2018 MAN BOOKER INTERNAT...      fiction   \n",
       "499  <b>'<i>The Sanatorium </i>will keep you checki...      fiction   \n",
       "\n",
       "                                           thema_codes  \\\n",
       "495       ['NHTZ1', 'DNBH', 'NHWR7', 'JBFG', '3MPBLB']   \n",
       "496                   ['FBA', '1KBB-US-NAKC', '3MPQM']   \n",
       "497                         ['FRD', 'FU', 'FQ', 'FXD']   \n",
       "498                ['FBA', 'FYT', 'FXL', 'FS', '1DSE']   \n",
       "499  ['FF', 'FHX', 'FFP', 'FFS', 'FXR', 'FXL', '1DF...   \n",
       "\n",
       "                                    thema_descriptions  \\\n",
       "495  ['The Holocaust', 'Biography: historical, poli...   \n",
       "496  ['Modern and contemporary fiction: general and...   \n",
       "497  ['Modern and Contemporary romance', 'Humorous ...   \n",
       "498  ['Modern and contemporary fiction: general and...   \n",
       "499  ['Crime and mystery fiction', 'Psychological t...   \n",
       "\n",
       "                                      complete_content  \\\n",
       "495  'A major contribution to our understanding of ...   \n",
       "496  <b>The first novel from the great, incomparabl...   \n",
       "497  <b>When Chandler Cohen accepts her next ghostw...   \n",
       "498  <b>LONGLISTED FOR THE 2018 MAN BOOKER INTERNAT...   \n",
       "499  <b>'<i>The Sanatorium </i>will keep you checki...   \n",
       "\n",
       "                                         clean_content  \\\n",
       "495  major contribution understanding second world ...   \n",
       "496  first novel great incomparable thomas pynchon ...   \n",
       "497  chandler cohen accept next ghostwriting gig pe...   \n",
       "498  longlisted 2018 man booker international prize...   \n",
       "499  sanatorium keep check shoulder spinetingling a...   \n",
       "\n",
       "                                       bert_embeddings  \n",
       "495  [-0.026605265, 0.059623726, -0.07832027, -0.01...  \n",
       "496  [-0.00030172136, 0.03130717, 0.024693009, 0.04...  \n",
       "497  [-0.031196805, -0.06850113, 0.022941642, -0.05...  \n",
       "498  [0.029906986, 0.047078524, -0.09180317, -0.048...  \n",
       "499  [-0.029930346, -0.05241185, 0.005281358, 0.046...  "
      ]
     },
     "execution_count": 284,
     "metadata": {},
     "output_type": "execute_result"
    }
   ],
   "source": [
    "metadata_df.tail()"
   ]
  },
  {
   "cell_type": "code",
   "execution_count": 285,
   "metadata": {
    "colab": {
     "base_uri": "https://localhost:8080/"
    },
    "id": "YxnTnnnIgWOS",
    "outputId": "9590c00c-1367-47bf-aefc-fa433b1d5ca0"
   },
   "outputs": [
    {
     "data": {
      "text/plain": [
       "(500,)"
      ]
     },
     "execution_count": 285,
     "metadata": {},
     "output_type": "execute_result"
    }
   ],
   "source": [
    "keywords_bert_result.shape"
   ]
  },
  {
   "cell_type": "code",
   "execution_count": 286,
   "metadata": {
    "colab": {
     "base_uri": "https://localhost:8080/"
    },
    "id": "tXByDKNggWOS",
    "outputId": "5616e52e-535d-434c-ad11-82d4c6f0adff"
   },
   "outputs": [
    {
     "data": {
      "text/plain": [
       "270    [candle rose, poisen rose, whiskey rose, steel...\n",
       "271    [mhairi, mhairi oreilly, mhairi mcfarlane book...\n",
       "272    [food medic, delia frugal food, food arthritis...\n",
       "273    [convienance store woman, verge, toast, toast ...\n",
       "274    [read upside, read, bonny read, read comprehen...\n",
       "dtype: object"
      ]
     },
     "execution_count": 286,
     "metadata": {},
     "output_type": "execute_result"
    }
   ],
   "source": [
    "keywords_result[270:275] #this contains one of the indices of the NaNs we replaced to \"null\""
   ]
  },
  {
   "cell_type": "code",
   "execution_count": 287,
   "metadata": {
    "colab": {
     "base_uri": "https://localhost:8080/"
    },
    "id": "gsFxGUUUgWOT",
    "outputId": "da7403c7-81f4-46bc-ae9b-dc80f186ef78"
   },
   "outputs": [
    {
     "data": {
      "text/plain": [
       "(500, 9)"
      ]
     },
     "execution_count": 287,
     "metadata": {},
     "output_type": "execute_result"
    }
   ],
   "source": [
    "metadata_df.shape"
   ]
  },
  {
   "cell_type": "code",
   "execution_count": 288,
   "metadata": {
    "id": "n-57LZJTgWOT"
   },
   "outputs": [],
   "source": [
    "bert_result_df = pd.concat([metadata_df, keywords_bert_result], axis = 1)"
   ]
  },
  {
   "cell_type": "code",
   "execution_count": 289,
   "metadata": {
    "colab": {
     "base_uri": "https://localhost:8080/",
     "height": 380
    },
    "id": "vlleQ92ghNqB",
    "outputId": "d0afaf24-5d7b-46e5-dd78-97bd5c463aeb"
   },
   "outputs": [
    {
     "data": {
      "text/html": [
       "<div>\n",
       "<style scoped>\n",
       "    .dataframe tbody tr th:only-of-type {\n",
       "        vertical-align: middle;\n",
       "    }\n",
       "\n",
       "    .dataframe tbody tr th {\n",
       "        vertical-align: top;\n",
       "    }\n",
       "\n",
       "    .dataframe thead th {\n",
       "        text-align: right;\n",
       "    }\n",
       "</style>\n",
       "<table border=\"1\" class=\"dataframe\">\n",
       "  <thead>\n",
       "    <tr style=\"text-align: right;\">\n",
       "      <th></th>\n",
       "      <th>id</th>\n",
       "      <th>title</th>\n",
       "      <th>description</th>\n",
       "      <th>fiction_flag</th>\n",
       "      <th>thema_codes</th>\n",
       "      <th>thema_descriptions</th>\n",
       "      <th>complete_content</th>\n",
       "      <th>clean_content</th>\n",
       "      <th>bert_embeddings</th>\n",
       "      <th>0</th>\n",
       "    </tr>\n",
       "  </thead>\n",
       "  <tbody>\n",
       "    <tr>\n",
       "      <th>0</th>\n",
       "      <td>0</td>\n",
       "      <td>How to Wean Your Baby</td>\n",
       "      <td>&lt;b&gt;THE &lt;i&gt;SUNDAY TIMES &lt;/i&gt;BESTSELLER&lt;/b&gt;\\r\\n&lt;...</td>\n",
       "      <td>non-fiction</td>\n",
       "      <td>['VFX', 'WBH', 'VF', 'VS']</td>\n",
       "      <td>['Parenting: advice and issues', 'Health and w...</td>\n",
       "      <td>&lt;b&gt;THE &lt;i&gt;SUNDAY TIMES &lt;/i&gt;BESTSELLER&lt;/b&gt;\\r\\n&lt;...</td>\n",
       "      <td>sunday times bestseller charlotte give confide...</td>\n",
       "      <td>[-0.0536515, -0.05696627, -0.06004447, 0.03443...</td>\n",
       "      <td>[deliciously ella cookbook, book baby, book ba...</td>\n",
       "    </tr>\n",
       "    <tr>\n",
       "      <th>1</th>\n",
       "      <td>1</td>\n",
       "      <td>Horse Under Water</td>\n",
       "      <td>A sunken U-Boat has lain undisturbed on the At...</td>\n",
       "      <td>fiction</td>\n",
       "      <td>['FHD', 'FV', 'FJ', '1DSP-PT-P']</td>\n",
       "      <td>['Espionage and spy thriller', 'Historical fic...</td>\n",
       "      <td>A sunken U-Boat has lain undisturbed on the At...</td>\n",
       "      <td>sunken uboat lie undisturbed atlantic ocean fl...</td>\n",
       "      <td>[-0.080311686, 0.0620853, 0.04595251, -0.01543...</td>\n",
       "      <td>[submarine fiction, submarine thriller, sea li...</td>\n",
       "    </tr>\n",
       "    <tr>\n",
       "      <th>2</th>\n",
       "      <td>2</td>\n",
       "      <td>Lives of Girls and Women</td>\n",
       "      <td>&lt;b&gt;The only novel from bestselling author Alic...</td>\n",
       "      <td>fiction</td>\n",
       "      <td>['FBA', 'FC', 'FXB', '1KBC-CA-O']</td>\n",
       "      <td>['Modern and contemporary fiction: general and...</td>\n",
       "      <td>&lt;b&gt;The only novel from bestselling author Alic...</td>\n",
       "      <td>novel bestselling author alice munro winner no...</td>\n",
       "      <td>[-0.06821202, -0.05175161, -0.0088345725, 0.06...</td>\n",
       "      <td>[book fiction, nonfiction book, fiction book, ...</td>\n",
       "    </tr>\n",
       "    <tr>\n",
       "      <th>3</th>\n",
       "      <td>3</td>\n",
       "      <td>The Precipice</td>\n",
       "      <td>In this powerful collection of interviews, Noa...</td>\n",
       "      <td>non-fiction</td>\n",
       "      <td>['JPB', 'QDTS', 'JPF', 'KCS', 'DNP', 'RNT']</td>\n",
       "      <td>['Comparative politics', 'Social and political...</td>\n",
       "      <td>In this powerful collection of interviews, Noa...</td>\n",
       "      <td>powerful collection interview noam chomsky exp...</td>\n",
       "      <td>[0.01108276, 0.05567558, -0.030121665, -0.0085...</td>\n",
       "      <td>[noam chomsky book, chomsky book, horrible his...</td>\n",
       "    </tr>\n",
       "    <tr>\n",
       "      <th>4</th>\n",
       "      <td>4</td>\n",
       "      <td>Little Wins</td>\n",
       "      <td>There are some 400 million people worldwide wh...</td>\n",
       "      <td>non-fiction</td>\n",
       "      <td>['KJH', 'KJMB', 'KJW', 'VSC', 'VSPM', 'JMC']</td>\n",
       "      <td>['Entrepreneurship / Start-ups', 'Management: ...</td>\n",
       "      <td>There are some 400 million people worldwide wh...</td>\n",
       "      <td>400 million people worldwide whose creativity ...</td>\n",
       "      <td>[0.019774005, -0.01750415, -0.005929993, -0.04...</td>\n",
       "      <td>[billionaire obsession, passionate billionaire...</td>\n",
       "    </tr>\n",
       "  </tbody>\n",
       "</table>\n",
       "</div>"
      ],
      "text/plain": [
       "   id                     title  \\\n",
       "0   0     How to Wean Your Baby   \n",
       "1   1         Horse Under Water   \n",
       "2   2  Lives of Girls and Women   \n",
       "3   3             The Precipice   \n",
       "4   4               Little Wins   \n",
       "\n",
       "                                         description fiction_flag  \\\n",
       "0  <b>THE <i>SUNDAY TIMES </i>BESTSELLER</b>\\r\\n<...  non-fiction   \n",
       "1  A sunken U-Boat has lain undisturbed on the At...      fiction   \n",
       "2  <b>The only novel from bestselling author Alic...      fiction   \n",
       "3  In this powerful collection of interviews, Noa...  non-fiction   \n",
       "4  There are some 400 million people worldwide wh...  non-fiction   \n",
       "\n",
       "                                    thema_codes  \\\n",
       "0                    ['VFX', 'WBH', 'VF', 'VS']   \n",
       "1              ['FHD', 'FV', 'FJ', '1DSP-PT-P']   \n",
       "2             ['FBA', 'FC', 'FXB', '1KBC-CA-O']   \n",
       "3   ['JPB', 'QDTS', 'JPF', 'KCS', 'DNP', 'RNT']   \n",
       "4  ['KJH', 'KJMB', 'KJW', 'VSC', 'VSPM', 'JMC']   \n",
       "\n",
       "                                  thema_descriptions  \\\n",
       "0  ['Parenting: advice and issues', 'Health and w...   \n",
       "1  ['Espionage and spy thriller', 'Historical fic...   \n",
       "2  ['Modern and contemporary fiction: general and...   \n",
       "3  ['Comparative politics', 'Social and political...   \n",
       "4  ['Entrepreneurship / Start-ups', 'Management: ...   \n",
       "\n",
       "                                    complete_content  \\\n",
       "0  <b>THE <i>SUNDAY TIMES </i>BESTSELLER</b>\\r\\n<...   \n",
       "1  A sunken U-Boat has lain undisturbed on the At...   \n",
       "2  <b>The only novel from bestselling author Alic...   \n",
       "3  In this powerful collection of interviews, Noa...   \n",
       "4  There are some 400 million people worldwide wh...   \n",
       "\n",
       "                                       clean_content  \\\n",
       "0  sunday times bestseller charlotte give confide...   \n",
       "1  sunken uboat lie undisturbed atlantic ocean fl...   \n",
       "2  novel bestselling author alice munro winner no...   \n",
       "3  powerful collection interview noam chomsky exp...   \n",
       "4  400 million people worldwide whose creativity ...   \n",
       "\n",
       "                                     bert_embeddings  \\\n",
       "0  [-0.0536515, -0.05696627, -0.06004447, 0.03443...   \n",
       "1  [-0.080311686, 0.0620853, 0.04595251, -0.01543...   \n",
       "2  [-0.06821202, -0.05175161, -0.0088345725, 0.06...   \n",
       "3  [0.01108276, 0.05567558, -0.030121665, -0.0085...   \n",
       "4  [0.019774005, -0.01750415, -0.005929993, -0.04...   \n",
       "\n",
       "                                                   0  \n",
       "0  [deliciously ella cookbook, book baby, book ba...  \n",
       "1  [submarine fiction, submarine thriller, sea li...  \n",
       "2  [book fiction, nonfiction book, fiction book, ...  \n",
       "3  [noam chomsky book, chomsky book, horrible his...  \n",
       "4  [billionaire obsession, passionate billionaire...  "
      ]
     },
     "execution_count": 289,
     "metadata": {},
     "output_type": "execute_result"
    }
   ],
   "source": [
    "bert_result_df.head()"
   ]
  },
  {
   "cell_type": "code",
   "execution_count": 290,
   "metadata": {
    "id": "KQx9b6rThzuQ"
   },
   "outputs": [],
   "source": [
    "bert_result_df.rename(columns = {0: \"search_term\"}, inplace=True)"
   ]
  },
  {
   "cell_type": "code",
   "execution_count": 291,
   "metadata": {
    "colab": {
     "base_uri": "https://localhost:8080/",
     "height": 362
    },
    "id": "6kPbELvShzuR",
    "outputId": "789a45dd-69d5-44a4-ba79-b82ac2167103"
   },
   "outputs": [
    {
     "data": {
      "text/html": [
       "<div>\n",
       "<style scoped>\n",
       "    .dataframe tbody tr th:only-of-type {\n",
       "        vertical-align: middle;\n",
       "    }\n",
       "\n",
       "    .dataframe tbody tr th {\n",
       "        vertical-align: top;\n",
       "    }\n",
       "\n",
       "    .dataframe thead th {\n",
       "        text-align: right;\n",
       "    }\n",
       "</style>\n",
       "<table border=\"1\" class=\"dataframe\">\n",
       "  <thead>\n",
       "    <tr style=\"text-align: right;\">\n",
       "      <th></th>\n",
       "      <th>id</th>\n",
       "      <th>title</th>\n",
       "      <th>description</th>\n",
       "      <th>fiction_flag</th>\n",
       "      <th>thema_codes</th>\n",
       "      <th>thema_descriptions</th>\n",
       "      <th>complete_content</th>\n",
       "      <th>clean_content</th>\n",
       "      <th>bert_embeddings</th>\n",
       "      <th>search_term</th>\n",
       "    </tr>\n",
       "  </thead>\n",
       "  <tbody>\n",
       "    <tr>\n",
       "      <th>495</th>\n",
       "      <td>495</td>\n",
       "      <td>The Frank Family That Survived</td>\n",
       "      <td>'A major contribution to our understanding of ...</td>\n",
       "      <td>non-fiction</td>\n",
       "      <td>['NHTZ1', 'DNBH', 'NHWR7', 'JBFG', '3MPBLB']</td>\n",
       "      <td>['The Holocaust', 'Biography: historical, poli...</td>\n",
       "      <td>'A major contribution to our understanding of ...</td>\n",
       "      <td>major contribution understanding second world ...</td>\n",
       "      <td>[-0.026605265, 0.059623726, -0.07832027, -0.01...</td>\n",
       "      <td>[ww2 book, ww2 fiction novel, ww2 fiction, ww1...</td>\n",
       "    </tr>\n",
       "    <tr>\n",
       "      <th>496</th>\n",
       "      <td>496</td>\n",
       "      <td>V.</td>\n",
       "      <td>&lt;b&gt;The first novel from the great, incomparabl...</td>\n",
       "      <td>fiction</td>\n",
       "      <td>['FBA', '1KBB-US-NAKC', '3MPQM']</td>\n",
       "      <td>['Modern and contemporary fiction: general and...</td>\n",
       "      <td>&lt;b&gt;The first novel from the great, incomparabl...</td>\n",
       "      <td>first novel great incomparable thomas pynchon ...</td>\n",
       "      <td>[-0.00030172136, 0.03130717, 0.024693009, 0.04...</td>\n",
       "      <td>[historical novel, historical fiction book, cl...</td>\n",
       "    </tr>\n",
       "    <tr>\n",
       "      <th>497</th>\n",
       "      <td>497</td>\n",
       "      <td>Business or Pleasure</td>\n",
       "      <td>&lt;b&gt;When Chandler Cohen accepts her next ghostw...</td>\n",
       "      <td>fiction</td>\n",
       "      <td>['FRD', 'FU', 'FQ', 'FXD']</td>\n",
       "      <td>['Modern and Contemporary romance', 'Humorous ...</td>\n",
       "      <td>&lt;b&gt;When Chandler Cohen accepts her next ghostw...</td>\n",
       "      <td>chandler cohen accept next ghostwriting gig pe...</td>\n",
       "      <td>[-0.031196805, -0.06850113, 0.022941642, -0.05...</td>\n",
       "      <td>[avery chandler, rise chandler johnson, kerry ...</td>\n",
       "    </tr>\n",
       "    <tr>\n",
       "      <th>498</th>\n",
       "      <td>498</td>\n",
       "      <td>The Dinner Guest</td>\n",
       "      <td>&lt;b&gt;LONGLISTED FOR THE 2018 MAN BOOKER INTERNAT...</td>\n",
       "      <td>fiction</td>\n",
       "      <td>['FBA', 'FYT', 'FXL', 'FS', '1DSE']</td>\n",
       "      <td>['Modern and contemporary fiction: general and...</td>\n",
       "      <td>&lt;b&gt;LONGLISTED FOR THE 2018 MAN BOOKER INTERNAT...</td>\n",
       "      <td>longlisted 2018 man booker international prize...</td>\n",
       "      <td>[0.029906986, 0.047078524, -0.09180317, -0.048...</td>\n",
       "      <td>[man booker prize, booker prize shortlist, man...</td>\n",
       "    </tr>\n",
       "    <tr>\n",
       "      <th>499</th>\n",
       "      <td>499</td>\n",
       "      <td>The Sanatorium</td>\n",
       "      <td>&lt;b&gt;'&lt;i&gt;The Sanatorium &lt;/i&gt;will keep you checki...</td>\n",
       "      <td>fiction</td>\n",
       "      <td>['FF', 'FHX', 'FFP', 'FFS', 'FXR', 'FXL', '1DF...</td>\n",
       "      <td>['Crime and mystery fiction', 'Psychological t...</td>\n",
       "      <td>&lt;b&gt;'&lt;i&gt;The Sanatorium &lt;/i&gt;will keep you checki...</td>\n",
       "      <td>sanatorium keep check shoulder spinetingling a...</td>\n",
       "      <td>[-0.029930346, -0.05241185, 0.005281358, 0.046...</td>\n",
       "      <td>[sanatorium book, sanitorium book, sanatorium,...</td>\n",
       "    </tr>\n",
       "  </tbody>\n",
       "</table>\n",
       "</div>"
      ],
      "text/plain": [
       "      id                           title  \\\n",
       "495  495  The Frank Family That Survived   \n",
       "496  496                              V.   \n",
       "497  497            Business or Pleasure   \n",
       "498  498                The Dinner Guest   \n",
       "499  499                  The Sanatorium   \n",
       "\n",
       "                                           description fiction_flag  \\\n",
       "495  'A major contribution to our understanding of ...  non-fiction   \n",
       "496  <b>The first novel from the great, incomparabl...      fiction   \n",
       "497  <b>When Chandler Cohen accepts her next ghostw...      fiction   \n",
       "498  <b>LONGLISTED FOR THE 2018 MAN BOOKER INTERNAT...      fiction   \n",
       "499  <b>'<i>The Sanatorium </i>will keep you checki...      fiction   \n",
       "\n",
       "                                           thema_codes  \\\n",
       "495       ['NHTZ1', 'DNBH', 'NHWR7', 'JBFG', '3MPBLB']   \n",
       "496                   ['FBA', '1KBB-US-NAKC', '3MPQM']   \n",
       "497                         ['FRD', 'FU', 'FQ', 'FXD']   \n",
       "498                ['FBA', 'FYT', 'FXL', 'FS', '1DSE']   \n",
       "499  ['FF', 'FHX', 'FFP', 'FFS', 'FXR', 'FXL', '1DF...   \n",
       "\n",
       "                                    thema_descriptions  \\\n",
       "495  ['The Holocaust', 'Biography: historical, poli...   \n",
       "496  ['Modern and contemporary fiction: general and...   \n",
       "497  ['Modern and Contemporary romance', 'Humorous ...   \n",
       "498  ['Modern and contemporary fiction: general and...   \n",
       "499  ['Crime and mystery fiction', 'Psychological t...   \n",
       "\n",
       "                                      complete_content  \\\n",
       "495  'A major contribution to our understanding of ...   \n",
       "496  <b>The first novel from the great, incomparabl...   \n",
       "497  <b>When Chandler Cohen accepts her next ghostw...   \n",
       "498  <b>LONGLISTED FOR THE 2018 MAN BOOKER INTERNAT...   \n",
       "499  <b>'<i>The Sanatorium </i>will keep you checki...   \n",
       "\n",
       "                                         clean_content  \\\n",
       "495  major contribution understanding second world ...   \n",
       "496  first novel great incomparable thomas pynchon ...   \n",
       "497  chandler cohen accept next ghostwriting gig pe...   \n",
       "498  longlisted 2018 man booker international prize...   \n",
       "499  sanatorium keep check shoulder spinetingling a...   \n",
       "\n",
       "                                       bert_embeddings  \\\n",
       "495  [-0.026605265, 0.059623726, -0.07832027, -0.01...   \n",
       "496  [-0.00030172136, 0.03130717, 0.024693009, 0.04...   \n",
       "497  [-0.031196805, -0.06850113, 0.022941642, -0.05...   \n",
       "498  [0.029906986, 0.047078524, -0.09180317, -0.048...   \n",
       "499  [-0.029930346, -0.05241185, 0.005281358, 0.046...   \n",
       "\n",
       "                                           search_term  \n",
       "495  [ww2 book, ww2 fiction novel, ww2 fiction, ww1...  \n",
       "496  [historical novel, historical fiction book, cl...  \n",
       "497  [avery chandler, rise chandler johnson, kerry ...  \n",
       "498  [man booker prize, booker prize shortlist, man...  \n",
       "499  [sanatorium book, sanitorium book, sanatorium,...  "
      ]
     },
     "execution_count": 291,
     "metadata": {},
     "output_type": "execute_result"
    }
   ],
   "source": [
    "bert_result_df.tail()"
   ]
  },
  {
   "cell_type": "code",
   "execution_count": 292,
   "metadata": {
    "colab": {
     "base_uri": "https://localhost:8080/"
    },
    "id": "DmMIBeBAhzuR",
    "outputId": "27b29412-2c1e-4bfa-b322-b248f273227f"
   },
   "outputs": [
    {
     "data": {
      "text/plain": [
       "(500, 10)"
      ]
     },
     "execution_count": 292,
     "metadata": {},
     "output_type": "execute_result"
    }
   ],
   "source": [
    "bert_result_df.shape"
   ]
  },
  {
   "cell_type": "code",
   "execution_count": 293,
   "metadata": {
    "id": "tJyPs3NhhzuR"
   },
   "outputs": [],
   "source": [
    "bert_output = bert_result_df.explode('search_term')"
   ]
  },
  {
   "cell_type": "code",
   "execution_count": 294,
   "metadata": {
    "colab": {
     "base_uri": "https://localhost:8080/"
    },
    "id": "oFNzvwSGhzuR",
    "outputId": "f2920154-3e35-46af-fbc1-ca3748084f87"
   },
   "outputs": [
    {
     "data": {
      "text/plain": [
       "(2500, 10)"
      ]
     },
     "execution_count": 294,
     "metadata": {},
     "output_type": "execute_result"
    }
   ],
   "source": [
    "bert_output.shape"
   ]
  },
  {
   "cell_type": "code",
   "execution_count": 295,
   "metadata": {
    "colab": {
     "base_uri": "https://localhost:8080/",
     "height": 293
    },
    "id": "JdlP3zUHhzuS",
    "outputId": "e7ad4fc3-4789-4f7a-9560-7b6cc4107ea1"
   },
   "outputs": [
    {
     "data": {
      "text/html": [
       "<div>\n",
       "<style scoped>\n",
       "    .dataframe tbody tr th:only-of-type {\n",
       "        vertical-align: middle;\n",
       "    }\n",
       "\n",
       "    .dataframe tbody tr th {\n",
       "        vertical-align: top;\n",
       "    }\n",
       "\n",
       "    .dataframe thead th {\n",
       "        text-align: right;\n",
       "    }\n",
       "</style>\n",
       "<table border=\"1\" class=\"dataframe\">\n",
       "  <thead>\n",
       "    <tr style=\"text-align: right;\">\n",
       "      <th></th>\n",
       "      <th>id</th>\n",
       "      <th>title</th>\n",
       "      <th>description</th>\n",
       "      <th>fiction_flag</th>\n",
       "      <th>thema_codes</th>\n",
       "      <th>thema_descriptions</th>\n",
       "      <th>complete_content</th>\n",
       "      <th>clean_content</th>\n",
       "      <th>bert_embeddings</th>\n",
       "      <th>search_term</th>\n",
       "    </tr>\n",
       "  </thead>\n",
       "  <tbody>\n",
       "    <tr>\n",
       "      <th>0</th>\n",
       "      <td>0</td>\n",
       "      <td>How to Wean Your Baby</td>\n",
       "      <td>&lt;b&gt;THE &lt;i&gt;SUNDAY TIMES &lt;/i&gt;BESTSELLER&lt;/b&gt;\\r\\n&lt;...</td>\n",
       "      <td>non-fiction</td>\n",
       "      <td>['VFX', 'WBH', 'VF', 'VS']</td>\n",
       "      <td>['Parenting: advice and issues', 'Health and w...</td>\n",
       "      <td>&lt;b&gt;THE &lt;i&gt;SUNDAY TIMES &lt;/i&gt;BESTSELLER&lt;/b&gt;\\r\\n&lt;...</td>\n",
       "      <td>sunday times bestseller charlotte give confide...</td>\n",
       "      <td>[-0.0536515, -0.05696627, -0.06004447, 0.03443...</td>\n",
       "      <td>deliciously ella cookbook</td>\n",
       "    </tr>\n",
       "    <tr>\n",
       "      <th>0</th>\n",
       "      <td>0</td>\n",
       "      <td>How to Wean Your Baby</td>\n",
       "      <td>&lt;b&gt;THE &lt;i&gt;SUNDAY TIMES &lt;/i&gt;BESTSELLER&lt;/b&gt;\\r\\n&lt;...</td>\n",
       "      <td>non-fiction</td>\n",
       "      <td>['VFX', 'WBH', 'VF', 'VS']</td>\n",
       "      <td>['Parenting: advice and issues', 'Health and w...</td>\n",
       "      <td>&lt;b&gt;THE &lt;i&gt;SUNDAY TIMES &lt;/i&gt;BESTSELLER&lt;/b&gt;\\r\\n&lt;...</td>\n",
       "      <td>sunday times bestseller charlotte give confide...</td>\n",
       "      <td>[-0.0536515, -0.05696627, -0.06004447, 0.03443...</td>\n",
       "      <td>book baby</td>\n",
       "    </tr>\n",
       "    <tr>\n",
       "      <th>0</th>\n",
       "      <td>0</td>\n",
       "      <td>How to Wean Your Baby</td>\n",
       "      <td>&lt;b&gt;THE &lt;i&gt;SUNDAY TIMES &lt;/i&gt;BESTSELLER&lt;/b&gt;\\r\\n&lt;...</td>\n",
       "      <td>non-fiction</td>\n",
       "      <td>['VFX', 'WBH', 'VF', 'VS']</td>\n",
       "      <td>['Parenting: advice and issues', 'Health and w...</td>\n",
       "      <td>&lt;b&gt;THE &lt;i&gt;SUNDAY TIMES &lt;/i&gt;BESTSELLER&lt;/b&gt;\\r\\n&lt;...</td>\n",
       "      <td>sunday times bestseller charlotte give confide...</td>\n",
       "      <td>[-0.0536515, -0.05696627, -0.06004447, 0.03443...</td>\n",
       "      <td>book baby</td>\n",
       "    </tr>\n",
       "    <tr>\n",
       "      <th>0</th>\n",
       "      <td>0</td>\n",
       "      <td>How to Wean Your Baby</td>\n",
       "      <td>&lt;b&gt;THE &lt;i&gt;SUNDAY TIMES &lt;/i&gt;BESTSELLER&lt;/b&gt;\\r\\n&lt;...</td>\n",
       "      <td>non-fiction</td>\n",
       "      <td>['VFX', 'WBH', 'VF', 'VS']</td>\n",
       "      <td>['Parenting: advice and issues', 'Health and w...</td>\n",
       "      <td>&lt;b&gt;THE &lt;i&gt;SUNDAY TIMES &lt;/i&gt;BESTSELLER&lt;/b&gt;\\r\\n&lt;...</td>\n",
       "      <td>sunday times bestseller charlotte give confide...</td>\n",
       "      <td>[-0.0536515, -0.05696627, -0.06004447, 0.03443...</td>\n",
       "      <td>charlotte philby book</td>\n",
       "    </tr>\n",
       "    <tr>\n",
       "      <th>0</th>\n",
       "      <td>0</td>\n",
       "      <td>How to Wean Your Baby</td>\n",
       "      <td>&lt;b&gt;THE &lt;i&gt;SUNDAY TIMES &lt;/i&gt;BESTSELLER&lt;/b&gt;\\r\\n&lt;...</td>\n",
       "      <td>non-fiction</td>\n",
       "      <td>['VFX', 'WBH', 'VF', 'VS']</td>\n",
       "      <td>['Parenting: advice and issues', 'Health and w...</td>\n",
       "      <td>&lt;b&gt;THE &lt;i&gt;SUNDAY TIMES &lt;/i&gt;BESTSELLER&lt;/b&gt;\\r\\n&lt;...</td>\n",
       "      <td>sunday times bestseller charlotte give confide...</td>\n",
       "      <td>[-0.0536515, -0.05696627, -0.06004447, 0.03443...</td>\n",
       "      <td>oliver vegetable book</td>\n",
       "    </tr>\n",
       "  </tbody>\n",
       "</table>\n",
       "</div>"
      ],
      "text/plain": [
       "   id                  title  \\\n",
       "0   0  How to Wean Your Baby   \n",
       "0   0  How to Wean Your Baby   \n",
       "0   0  How to Wean Your Baby   \n",
       "0   0  How to Wean Your Baby   \n",
       "0   0  How to Wean Your Baby   \n",
       "\n",
       "                                         description fiction_flag  \\\n",
       "0  <b>THE <i>SUNDAY TIMES </i>BESTSELLER</b>\\r\\n<...  non-fiction   \n",
       "0  <b>THE <i>SUNDAY TIMES </i>BESTSELLER</b>\\r\\n<...  non-fiction   \n",
       "0  <b>THE <i>SUNDAY TIMES </i>BESTSELLER</b>\\r\\n<...  non-fiction   \n",
       "0  <b>THE <i>SUNDAY TIMES </i>BESTSELLER</b>\\r\\n<...  non-fiction   \n",
       "0  <b>THE <i>SUNDAY TIMES </i>BESTSELLER</b>\\r\\n<...  non-fiction   \n",
       "\n",
       "                  thema_codes  \\\n",
       "0  ['VFX', 'WBH', 'VF', 'VS']   \n",
       "0  ['VFX', 'WBH', 'VF', 'VS']   \n",
       "0  ['VFX', 'WBH', 'VF', 'VS']   \n",
       "0  ['VFX', 'WBH', 'VF', 'VS']   \n",
       "0  ['VFX', 'WBH', 'VF', 'VS']   \n",
       "\n",
       "                                  thema_descriptions  \\\n",
       "0  ['Parenting: advice and issues', 'Health and w...   \n",
       "0  ['Parenting: advice and issues', 'Health and w...   \n",
       "0  ['Parenting: advice and issues', 'Health and w...   \n",
       "0  ['Parenting: advice and issues', 'Health and w...   \n",
       "0  ['Parenting: advice and issues', 'Health and w...   \n",
       "\n",
       "                                    complete_content  \\\n",
       "0  <b>THE <i>SUNDAY TIMES </i>BESTSELLER</b>\\r\\n<...   \n",
       "0  <b>THE <i>SUNDAY TIMES </i>BESTSELLER</b>\\r\\n<...   \n",
       "0  <b>THE <i>SUNDAY TIMES </i>BESTSELLER</b>\\r\\n<...   \n",
       "0  <b>THE <i>SUNDAY TIMES </i>BESTSELLER</b>\\r\\n<...   \n",
       "0  <b>THE <i>SUNDAY TIMES </i>BESTSELLER</b>\\r\\n<...   \n",
       "\n",
       "                                       clean_content  \\\n",
       "0  sunday times bestseller charlotte give confide...   \n",
       "0  sunday times bestseller charlotte give confide...   \n",
       "0  sunday times bestseller charlotte give confide...   \n",
       "0  sunday times bestseller charlotte give confide...   \n",
       "0  sunday times bestseller charlotte give confide...   \n",
       "\n",
       "                                     bert_embeddings  \\\n",
       "0  [-0.0536515, -0.05696627, -0.06004447, 0.03443...   \n",
       "0  [-0.0536515, -0.05696627, -0.06004447, 0.03443...   \n",
       "0  [-0.0536515, -0.05696627, -0.06004447, 0.03443...   \n",
       "0  [-0.0536515, -0.05696627, -0.06004447, 0.03443...   \n",
       "0  [-0.0536515, -0.05696627, -0.06004447, 0.03443...   \n",
       "\n",
       "                 search_term  \n",
       "0  deliciously ella cookbook  \n",
       "0                  book baby  \n",
       "0                  book baby  \n",
       "0      charlotte philby book  \n",
       "0      oliver vegetable book  "
      ]
     },
     "execution_count": 295,
     "metadata": {},
     "output_type": "execute_result"
    }
   ],
   "source": [
    "bert_output.head()"
   ]
  },
  {
   "cell_type": "code",
   "execution_count": 296,
   "metadata": {
    "id": "jD9uYV9ohzuS"
   },
   "outputs": [],
   "source": [
    "bert_output.to_csv(\"Output_Bert.csv\")"
   ]
  },
  {
   "cell_type": "markdown",
   "metadata": {},
   "source": [
    "# Comparing Results"
   ]
  },
  {
   "cell_type": "code",
   "execution_count": 297,
   "metadata": {
    "id": "xV7QD25XiDno"
   },
   "outputs": [],
   "source": [
    "\n",
    "comparing_df = pd.DataFrame(columns = ['title', 'description', 'search_term_tf_idf', 'search_term_bert'])"
   ]
  },
  {
   "cell_type": "code",
   "execution_count": 298,
   "metadata": {
    "id": "agJuEvvNko6B"
   },
   "outputs": [],
   "source": [
    "comparing_df['title'] = tfidf_output['title'].copy()"
   ]
  },
  {
   "cell_type": "code",
   "execution_count": 299,
   "metadata": {
    "id": "CRwoiX6Fk4hW"
   },
   "outputs": [],
   "source": [
    "comparing_df['description'] = tfidf_output['description'].copy()"
   ]
  },
  {
   "cell_type": "code",
   "execution_count": 300,
   "metadata": {
    "id": "lT6R2AsZk9cW"
   },
   "outputs": [],
   "source": [
    "comparing_df['search_term_tf_idf'] = tfidf_output['search_term'].copy()"
   ]
  },
  {
   "cell_type": "code",
   "execution_count": 301,
   "metadata": {
    "id": "Q_8waGe8lCgQ"
   },
   "outputs": [],
   "source": [
    "comparing_df['search_term_bert'] = bert_output['search_term'].copy()"
   ]
  },
  {
   "cell_type": "code",
   "execution_count": 302,
   "metadata": {
    "colab": {
     "base_uri": "https://localhost:8080/",
     "height": 677
    },
    "id": "e4UxQnLClGtD",
    "outputId": "e82a9a34-270a-4d42-892f-c5ac3319ec81"
   },
   "outputs": [
    {
     "data": {
      "text/html": [
       "<div>\n",
       "<style scoped>\n",
       "    .dataframe tbody tr th:only-of-type {\n",
       "        vertical-align: middle;\n",
       "    }\n",
       "\n",
       "    .dataframe tbody tr th {\n",
       "        vertical-align: top;\n",
       "    }\n",
       "\n",
       "    .dataframe thead th {\n",
       "        text-align: right;\n",
       "    }\n",
       "</style>\n",
       "<table border=\"1\" class=\"dataframe\">\n",
       "  <thead>\n",
       "    <tr style=\"text-align: right;\">\n",
       "      <th></th>\n",
       "      <th>title</th>\n",
       "      <th>description</th>\n",
       "      <th>search_term_tf_idf</th>\n",
       "      <th>search_term_bert</th>\n",
       "    </tr>\n",
       "  </thead>\n",
       "  <tbody>\n",
       "    <tr>\n",
       "      <th>0</th>\n",
       "      <td>How to Wean Your Baby</td>\n",
       "      <td>&lt;b&gt;THE &lt;i&gt;SUNDAY TIMES &lt;/i&gt;BESTSELLER&lt;/b&gt;\\r\\n&lt;...</td>\n",
       "      <td>baby wean book</td>\n",
       "      <td>deliciously ella cookbook</td>\n",
       "    </tr>\n",
       "    <tr>\n",
       "      <th>0</th>\n",
       "      <td>How to Wean Your Baby</td>\n",
       "      <td>&lt;b&gt;THE &lt;i&gt;SUNDAY TIMES &lt;/i&gt;BESTSELLER&lt;/b&gt;\\r\\n&lt;...</td>\n",
       "      <td>wean</td>\n",
       "      <td>book baby</td>\n",
       "    </tr>\n",
       "    <tr>\n",
       "      <th>0</th>\n",
       "      <td>How to Wean Your Baby</td>\n",
       "      <td>&lt;b&gt;THE &lt;i&gt;SUNDAY TIMES &lt;/i&gt;BESTSELLER&lt;/b&gt;\\r\\n&lt;...</td>\n",
       "      <td>annabel karmel wean</td>\n",
       "      <td>book baby</td>\n",
       "    </tr>\n",
       "    <tr>\n",
       "      <th>0</th>\n",
       "      <td>How to Wean Your Baby</td>\n",
       "      <td>&lt;b&gt;THE &lt;i&gt;SUNDAY TIMES &lt;/i&gt;BESTSELLER&lt;/b&gt;\\r\\n&lt;...</td>\n",
       "      <td>wean book</td>\n",
       "      <td>charlotte philby book</td>\n",
       "    </tr>\n",
       "    <tr>\n",
       "      <th>0</th>\n",
       "      <td>How to Wean Your Baby</td>\n",
       "      <td>&lt;b&gt;THE &lt;i&gt;SUNDAY TIMES &lt;/i&gt;BESTSELLER&lt;/b&gt;\\r\\n&lt;...</td>\n",
       "      <td>villette charlotte bronte</td>\n",
       "      <td>oliver vegetable book</td>\n",
       "    </tr>\n",
       "    <tr>\n",
       "      <th>1</th>\n",
       "      <td>Horse Under Water</td>\n",
       "      <td>A sunken U-Boat has lain undisturbed on the At...</td>\n",
       "      <td>betrayal lie</td>\n",
       "      <td>submarine fiction</td>\n",
       "    </tr>\n",
       "    <tr>\n",
       "      <th>1</th>\n",
       "      <td>Horse Under Water</td>\n",
       "      <td>A sunken U-Boat has lain undisturbed on the At...</td>\n",
       "      <td>secret lie</td>\n",
       "      <td>submarine thriller</td>\n",
       "    </tr>\n",
       "    <tr>\n",
       "      <th>1</th>\n",
       "      <td>Horse Under Water</td>\n",
       "      <td>A sunken U-Boat has lain undisturbed on the At...</td>\n",
       "      <td>wilmington lie</td>\n",
       "      <td>sea lie</td>\n",
       "    </tr>\n",
       "    <tr>\n",
       "      <th>1</th>\n",
       "      <td>Horse Under Water</td>\n",
       "      <td>A sunken U-Boat has lain undisturbed on the At...</td>\n",
       "      <td>lie</td>\n",
       "      <td>ww2 naval fiction</td>\n",
       "    </tr>\n",
       "    <tr>\n",
       "      <th>1</th>\n",
       "      <td>Horse Under Water</td>\n",
       "      <td>A sunken U-Boat has lain undisturbed on the At...</td>\n",
       "      <td>lie</td>\n",
       "      <td>drown sea</td>\n",
       "    </tr>\n",
       "    <tr>\n",
       "      <th>2</th>\n",
       "      <td>Lives of Girls and Women</td>\n",
       "      <td>&lt;b&gt;The only novel from bestselling author Alic...</td>\n",
       "      <td>munro</td>\n",
       "      <td>book fiction</td>\n",
       "    </tr>\n",
       "    <tr>\n",
       "      <th>2</th>\n",
       "      <td>Lives of Girls and Women</td>\n",
       "      <td>&lt;b&gt;The only novel from bestselling author Alic...</td>\n",
       "      <td>orr munro</td>\n",
       "      <td>nonfiction book</td>\n",
       "    </tr>\n",
       "    <tr>\n",
       "      <th>2</th>\n",
       "      <td>Lives of Girls and Women</td>\n",
       "      <td>&lt;b&gt;The only novel from bestselling author Alic...</td>\n",
       "      <td>hp munro</td>\n",
       "      <td>fiction book</td>\n",
       "    </tr>\n",
       "    <tr>\n",
       "      <th>2</th>\n",
       "      <td>Lives of Girls and Women</td>\n",
       "      <td>&lt;b&gt;The only novel from bestselling author Alic...</td>\n",
       "      <td>kresley cole munro</td>\n",
       "      <td>novella</td>\n",
       "    </tr>\n",
       "    <tr>\n",
       "      <th>2</th>\n",
       "      <td>Lives of Girls and Women</td>\n",
       "      <td>&lt;b&gt;The only novel from bestselling author Alic...</td>\n",
       "      <td>shelley munro</td>\n",
       "      <td>book woman</td>\n",
       "    </tr>\n",
       "    <tr>\n",
       "      <th>3</th>\n",
       "      <td>The Precipice</td>\n",
       "      <td>In this powerful collection of interviews, Noa...</td>\n",
       "      <td>expose</td>\n",
       "      <td>noam chomsky book</td>\n",
       "    </tr>\n",
       "    <tr>\n",
       "      <th>3</th>\n",
       "      <td>The Precipice</td>\n",
       "      <td>In this powerful collection of interviews, Noa...</td>\n",
       "      <td>expose jaxson</td>\n",
       "      <td>chomsky book</td>\n",
       "    </tr>\n",
       "    <tr>\n",
       "      <th>3</th>\n",
       "      <td>The Precipice</td>\n",
       "      <td>In this powerful collection of interviews, Noa...</td>\n",
       "      <td>expose edinburgh</td>\n",
       "      <td>horrible history newspaper</td>\n",
       "    </tr>\n",
       "    <tr>\n",
       "      <th>3</th>\n",
       "      <td>The Precipice</td>\n",
       "      <td>In this powerful collection of interviews, Noa...</td>\n",
       "      <td>expose</td>\n",
       "      <td>political book 2021</td>\n",
       "    </tr>\n",
       "    <tr>\n",
       "      <th>3</th>\n",
       "      <td>The Precipice</td>\n",
       "      <td>In this powerful collection of interviews, Noa...</td>\n",
       "      <td>expose</td>\n",
       "      <td>chomsky</td>\n",
       "    </tr>\n",
       "  </tbody>\n",
       "</table>\n",
       "</div>"
      ],
      "text/plain": [
       "                      title  \\\n",
       "0     How to Wean Your Baby   \n",
       "0     How to Wean Your Baby   \n",
       "0     How to Wean Your Baby   \n",
       "0     How to Wean Your Baby   \n",
       "0     How to Wean Your Baby   \n",
       "1         Horse Under Water   \n",
       "1         Horse Under Water   \n",
       "1         Horse Under Water   \n",
       "1         Horse Under Water   \n",
       "1         Horse Under Water   \n",
       "2  Lives of Girls and Women   \n",
       "2  Lives of Girls and Women   \n",
       "2  Lives of Girls and Women   \n",
       "2  Lives of Girls and Women   \n",
       "2  Lives of Girls and Women   \n",
       "3             The Precipice   \n",
       "3             The Precipice   \n",
       "3             The Precipice   \n",
       "3             The Precipice   \n",
       "3             The Precipice   \n",
       "\n",
       "                                         description  \\\n",
       "0  <b>THE <i>SUNDAY TIMES </i>BESTSELLER</b>\\r\\n<...   \n",
       "0  <b>THE <i>SUNDAY TIMES </i>BESTSELLER</b>\\r\\n<...   \n",
       "0  <b>THE <i>SUNDAY TIMES </i>BESTSELLER</b>\\r\\n<...   \n",
       "0  <b>THE <i>SUNDAY TIMES </i>BESTSELLER</b>\\r\\n<...   \n",
       "0  <b>THE <i>SUNDAY TIMES </i>BESTSELLER</b>\\r\\n<...   \n",
       "1  A sunken U-Boat has lain undisturbed on the At...   \n",
       "1  A sunken U-Boat has lain undisturbed on the At...   \n",
       "1  A sunken U-Boat has lain undisturbed on the At...   \n",
       "1  A sunken U-Boat has lain undisturbed on the At...   \n",
       "1  A sunken U-Boat has lain undisturbed on the At...   \n",
       "2  <b>The only novel from bestselling author Alic...   \n",
       "2  <b>The only novel from bestselling author Alic...   \n",
       "2  <b>The only novel from bestselling author Alic...   \n",
       "2  <b>The only novel from bestselling author Alic...   \n",
       "2  <b>The only novel from bestselling author Alic...   \n",
       "3  In this powerful collection of interviews, Noa...   \n",
       "3  In this powerful collection of interviews, Noa...   \n",
       "3  In this powerful collection of interviews, Noa...   \n",
       "3  In this powerful collection of interviews, Noa...   \n",
       "3  In this powerful collection of interviews, Noa...   \n",
       "\n",
       "          search_term_tf_idf            search_term_bert  \n",
       "0             baby wean book   deliciously ella cookbook  \n",
       "0                       wean                   book baby  \n",
       "0        annabel karmel wean                   book baby  \n",
       "0                  wean book       charlotte philby book  \n",
       "0  villette charlotte bronte       oliver vegetable book  \n",
       "1               betrayal lie           submarine fiction  \n",
       "1                 secret lie          submarine thriller  \n",
       "1             wilmington lie                     sea lie  \n",
       "1                        lie           ww2 naval fiction  \n",
       "1                        lie                   drown sea  \n",
       "2                      munro                book fiction  \n",
       "2                  orr munro             nonfiction book  \n",
       "2                   hp munro                fiction book  \n",
       "2         kresley cole munro                     novella  \n",
       "2              shelley munro                  book woman  \n",
       "3                     expose           noam chomsky book  \n",
       "3              expose jaxson                chomsky book  \n",
       "3           expose edinburgh  horrible history newspaper  \n",
       "3                     expose         political book 2021  \n",
       "3                     expose                     chomsky  "
      ]
     },
     "execution_count": 302,
     "metadata": {},
     "output_type": "execute_result"
    }
   ],
   "source": [
    "comparing_df.head(20)"
   ]
  },
  {
   "cell_type": "code",
   "execution_count": 303,
   "metadata": {
    "id": "5mqVVEGIlIlE"
   },
   "outputs": [],
   "source": [
    "comparing_df.to_csv(\"Comparing_results.csv\")"
   ]
  },
  {
   "cell_type": "markdown",
   "metadata": {
    "id": "W-olIg4zlWlG"
   },
   "source": [
    "# Conclusion\n"
   ]
  },
  {
   "cell_type": "markdown",
   "metadata": {},
   "source": [
    "TF-IDF gave results that were closely represented in the keyword corpus. However, at places where the description was largely based on reviews or author's profile, TF-IDF could not perform well, for example, 'Lives of Girls and Women' written by Alice Munro. On the other hand, BERT did well in finding related words where synonyms were evidently present. For example, for the book 'Horse Under Water', TF-IDF search terms are heavily based on the term 'lie', whereas BERT gives more appropriate results."
   ]
  },
  {
   "cell_type": "markdown",
   "metadata": {},
   "source": [
    "More pre-processing techniques could be implemented on the description content. For example, content where author's bio or reviews from renowned writers can be removed, considering these do not relate to the description or align with the keyword discovery task. These words simpyly add to the noise and does not provide information of the book, it rather delves into the reader's reaction."
   ]
  },
  {
   "cell_type": "markdown",
   "metadata": {},
   "source": [
    "The current prototype takes 5 as the total number of keywords to be identified using cosine similarity. This has resulted in keywords with less similarity score. Experiments can be conducted to find a threshold for the cosine similarity score and the number of keywords. This may result in more relevant keywords. "
   ]
  }
 ],
 "metadata": {
  "colab": {
   "provenance": [],
   "toc_visible": true
  },
  "kernelspec": {
   "display_name": "Python 3 (ipykernel)",
   "language": "python",
   "name": "python3"
  },
  "language_info": {
   "codemirror_mode": {
    "name": "ipython",
    "version": 3
   },
   "file_extension": ".py",
   "mimetype": "text/x-python",
   "name": "python",
   "nbconvert_exporter": "python",
   "pygments_lexer": "ipython3",
   "version": "3.11.5"
  }
 },
 "nbformat": 4,
 "nbformat_minor": 4
}
